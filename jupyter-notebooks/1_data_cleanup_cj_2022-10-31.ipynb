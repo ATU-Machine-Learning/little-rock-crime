{
 "cells": [
  {
   "cell_type": "code",
   "execution_count": 1,
   "metadata": {
    "collapsed": true
   },
   "outputs": [],
   "source": [
    "import pandas as pd"
   ]
  },
  {
   "cell_type": "markdown",
   "source": [
    "### Request relevant columns from dataset:"
   ],
   "metadata": {
    "collapsed": false
   }
  },
  {
   "cell_type": "code",
   "execution_count": 2,
   "outputs": [
    {
     "data": {
      "text/plain": "(88202, 14)"
     },
     "execution_count": 2,
     "metadata": {},
     "output_type": "execute_result"
    }
   ],
   "source": [
    "original = pd.read_csv(\"../data/lrpd.csv\")\n",
    "\n",
    "requested_columns = [\"INCIDENT_DATE\", \"INCIDENT_NUMBER\", \"LOCATION_DISTRICT\", \"OFFENSE_DESCRIPTION\", \"WEAPON_TYPE\", \"ZIP\", \"LATITUDE\", \"LONGITUDE\"]\n",
    "lrpd = pd.read_csv(\"../data/lrpd.csv\", usecols=requested_columns)\n",
    "lrpd.set_index(\"INCIDENT_NUMBER\", inplace=True)\n",
    "\n",
    "original.shape"
   ],
   "metadata": {
    "collapsed": false
   }
  },
  {
   "cell_type": "markdown",
   "source": [
    "### Drop duplicate rows:"
   ],
   "metadata": {
    "collapsed": false
   }
  },
  {
   "cell_type": "code",
   "execution_count": 20,
   "outputs": [
    {
     "name": "stdout",
     "output_type": "stream",
     "text": [
      "Dropped 0 duplicates!\n"
     ]
    },
    {
     "data": {
      "text/plain": "(82691, 15)"
     },
     "execution_count": 20,
     "metadata": {},
     "output_type": "execute_result"
    }
   ],
   "source": [
    "prev_shape = lrpd.shape\n",
    "lrpd = lrpd.drop_duplicates(keep='last')\n",
    "new_shape = lrpd.shape\n",
    "\n",
    "print(f'Dropped {(prev_shape[0] - new_shape[0])} duplicates!')\n",
    "\n",
    "lrpd.shape"
   ],
   "metadata": {
    "collapsed": false
   }
  },
  {
   "cell_type": "markdown",
   "source": [
    "### Fill missing values with Number 0:"
   ],
   "metadata": {
    "collapsed": false
   }
  },
  {
   "cell_type": "code",
   "execution_count": 4,
   "outputs": [],
   "source": [
    "lrpd = lrpd.fillna(0)"
   ],
   "metadata": {
    "collapsed": false
   }
  },
  {
   "cell_type": "markdown",
   "source": [
    "### Parse Number 0 and String 1 to UNKNOWN weapon type:"
   ],
   "metadata": {
    "collapsed": false
   }
  },
  {
   "cell_type": "code",
   "execution_count": 5,
   "outputs": [],
   "source": [
    "lrpd[\"WEAPON_TYPE\"] = lrpd[\"WEAPON_TYPE\"].replace(0, \"NO WEAPON\")\n",
    "lrpd[\"WEAPON_TYPE\"] = lrpd[\"WEAPON_TYPE\"].replace(\"1\", \"UNKNOWN\")"
   ],
   "metadata": {
    "collapsed": false
   }
  },
  {
   "cell_type": "code",
   "execution_count": 6,
   "outputs": [
    {
     "data": {
      "text/plain": "                          INCIDENT_DATE  LOCATION_DISTRICT  \\\nINCIDENT_NUMBER                                              \n2021-092971      08/04/2021 10:21:00 AM               72.0   \n2017-029450      03/16/2017 06:30:00 PM               82.0   \n2017-156453      09/01/2017 12:00:00 PM               53.0   \n2019-130717      10/17/2019 09:00:00 PM               51.0   \n2020-073313      07/02/2020 07:10:00 PM               50.0   \n\n                          OFFENSE_DESCRIPTION WEAPON_TYPE      ZIP   LATITUDE  \\\nINCIDENT_NUMBER                                                                 \n2021-092971          THEFT FROM MOTOR VEHICLE   NO WEAPON  72204.0   0.000000   \n2017-029450      THEFT OF MOTOR VEHICLE PARTS   NO WEAPON  72206.0  34.649362   \n2017-156453                              RAPE   NO WEAPON      0.0   0.000000   \n2019-130717                              RAPE   NO WEAPON      0.0   0.000000   \n2020-073313                              RAPE   NO WEAPON      0.0   0.000000   \n\n                 LONGITUDE  \nINCIDENT_NUMBER             \n2021-092971       0.000000  \n2017-029450     -92.301959  \n2017-156453       0.000000  \n2019-130717       0.000000  \n2020-073313       0.000000  ",
      "text/html": "<div>\n<style scoped>\n    .dataframe tbody tr th:only-of-type {\n        vertical-align: middle;\n    }\n\n    .dataframe tbody tr th {\n        vertical-align: top;\n    }\n\n    .dataframe thead th {\n        text-align: right;\n    }\n</style>\n<table border=\"1\" class=\"dataframe\">\n  <thead>\n    <tr style=\"text-align: right;\">\n      <th></th>\n      <th>INCIDENT_DATE</th>\n      <th>LOCATION_DISTRICT</th>\n      <th>OFFENSE_DESCRIPTION</th>\n      <th>WEAPON_TYPE</th>\n      <th>ZIP</th>\n      <th>LATITUDE</th>\n      <th>LONGITUDE</th>\n    </tr>\n    <tr>\n      <th>INCIDENT_NUMBER</th>\n      <th></th>\n      <th></th>\n      <th></th>\n      <th></th>\n      <th></th>\n      <th></th>\n      <th></th>\n    </tr>\n  </thead>\n  <tbody>\n    <tr>\n      <th>2021-092971</th>\n      <td>08/04/2021 10:21:00 AM</td>\n      <td>72.0</td>\n      <td>THEFT FROM MOTOR VEHICLE</td>\n      <td>NO WEAPON</td>\n      <td>72204.0</td>\n      <td>0.000000</td>\n      <td>0.000000</td>\n    </tr>\n    <tr>\n      <th>2017-029450</th>\n      <td>03/16/2017 06:30:00 PM</td>\n      <td>82.0</td>\n      <td>THEFT OF MOTOR VEHICLE PARTS</td>\n      <td>NO WEAPON</td>\n      <td>72206.0</td>\n      <td>34.649362</td>\n      <td>-92.301959</td>\n    </tr>\n    <tr>\n      <th>2017-156453</th>\n      <td>09/01/2017 12:00:00 PM</td>\n      <td>53.0</td>\n      <td>RAPE</td>\n      <td>NO WEAPON</td>\n      <td>0.0</td>\n      <td>0.000000</td>\n      <td>0.000000</td>\n    </tr>\n    <tr>\n      <th>2019-130717</th>\n      <td>10/17/2019 09:00:00 PM</td>\n      <td>51.0</td>\n      <td>RAPE</td>\n      <td>NO WEAPON</td>\n      <td>0.0</td>\n      <td>0.000000</td>\n      <td>0.000000</td>\n    </tr>\n    <tr>\n      <th>2020-073313</th>\n      <td>07/02/2020 07:10:00 PM</td>\n      <td>50.0</td>\n      <td>RAPE</td>\n      <td>NO WEAPON</td>\n      <td>0.0</td>\n      <td>0.000000</td>\n      <td>0.000000</td>\n    </tr>\n  </tbody>\n</table>\n</div>"
     },
     "execution_count": 6,
     "metadata": {},
     "output_type": "execute_result"
    }
   ],
   "source": [
    "lrpd.head()"
   ],
   "metadata": {
    "collapsed": false
   }
  },
  {
   "cell_type": "markdown",
   "source": [
    "### Convert columns to correct types:"
   ],
   "metadata": {
    "collapsed": false
   }
  },
  {
   "cell_type": "code",
   "execution_count": 7,
   "outputs": [
    {
     "data": {
      "text/plain": "INCIDENT_NUMBER                   2021-092971                   2017-029450  \\\nINCIDENT_DATE             2021-08-04 10:21:00           2017-03-16 18:30:00   \nLOCATION_DISTRICT                        72.0                          82.0   \nOFFENSE_DESCRIPTION  THEFT FROM MOTOR VEHICLE  THEFT OF MOTOR VEHICLE PARTS   \nWEAPON_TYPE                         NO WEAPON                     NO WEAPON   \nZIP                                   72204.0                       72206.0   \nLATITUDE                                  0.0                     34.649362   \nLONGITUDE                                 0.0                    -92.301959   \n\nINCIDENT_NUMBER              2017-156453          2019-130717  \\\nINCIDENT_DATE        2017-09-01 12:00:00  2019-10-17 21:00:00   \nLOCATION_DISTRICT                   53.0                 51.0   \nOFFENSE_DESCRIPTION                 RAPE                 RAPE   \nWEAPON_TYPE                    NO WEAPON            NO WEAPON   \nZIP                                  0.0                  0.0   \nLATITUDE                             0.0                  0.0   \nLONGITUDE                            0.0                  0.0   \n\nINCIDENT_NUMBER              2020-073313  \nINCIDENT_DATE        2020-07-02 19:10:00  \nLOCATION_DISTRICT                   50.0  \nOFFENSE_DESCRIPTION                 RAPE  \nWEAPON_TYPE                    NO WEAPON  \nZIP                                  0.0  \nLATITUDE                             0.0  \nLONGITUDE                            0.0  ",
      "text/html": "<div>\n<style scoped>\n    .dataframe tbody tr th:only-of-type {\n        vertical-align: middle;\n    }\n\n    .dataframe tbody tr th {\n        vertical-align: top;\n    }\n\n    .dataframe thead th {\n        text-align: right;\n    }\n</style>\n<table border=\"1\" class=\"dataframe\">\n  <thead>\n    <tr style=\"text-align: right;\">\n      <th>INCIDENT_NUMBER</th>\n      <th>2021-092971</th>\n      <th>2017-029450</th>\n      <th>2017-156453</th>\n      <th>2019-130717</th>\n      <th>2020-073313</th>\n    </tr>\n  </thead>\n  <tbody>\n    <tr>\n      <th>INCIDENT_DATE</th>\n      <td>2021-08-04 10:21:00</td>\n      <td>2017-03-16 18:30:00</td>\n      <td>2017-09-01 12:00:00</td>\n      <td>2019-10-17 21:00:00</td>\n      <td>2020-07-02 19:10:00</td>\n    </tr>\n    <tr>\n      <th>LOCATION_DISTRICT</th>\n      <td>72.0</td>\n      <td>82.0</td>\n      <td>53.0</td>\n      <td>51.0</td>\n      <td>50.0</td>\n    </tr>\n    <tr>\n      <th>OFFENSE_DESCRIPTION</th>\n      <td>THEFT FROM MOTOR VEHICLE</td>\n      <td>THEFT OF MOTOR VEHICLE PARTS</td>\n      <td>RAPE</td>\n      <td>RAPE</td>\n      <td>RAPE</td>\n    </tr>\n    <tr>\n      <th>WEAPON_TYPE</th>\n      <td>NO WEAPON</td>\n      <td>NO WEAPON</td>\n      <td>NO WEAPON</td>\n      <td>NO WEAPON</td>\n      <td>NO WEAPON</td>\n    </tr>\n    <tr>\n      <th>ZIP</th>\n      <td>72204.0</td>\n      <td>72206.0</td>\n      <td>0.0</td>\n      <td>0.0</td>\n      <td>0.0</td>\n    </tr>\n    <tr>\n      <th>LATITUDE</th>\n      <td>0.0</td>\n      <td>34.649362</td>\n      <td>0.0</td>\n      <td>0.0</td>\n      <td>0.0</td>\n    </tr>\n    <tr>\n      <th>LONGITUDE</th>\n      <td>0.0</td>\n      <td>-92.301959</td>\n      <td>0.0</td>\n      <td>0.0</td>\n      <td>0.0</td>\n    </tr>\n  </tbody>\n</table>\n</div>"
     },
     "execution_count": 7,
     "metadata": {},
     "output_type": "execute_result"
    }
   ],
   "source": [
    "lrpd[\"ZIP\"] = pd.to_numeric(lrpd[\"ZIP\"])\n",
    "lrpd[\"LATITUDE\"] = pd.to_numeric(lrpd[\"LATITUDE\"])\n",
    "lrpd[\"LONGITUDE\"] = pd.to_numeric(lrpd[\"LONGITUDE\"])\n",
    "lrpd[\"INCIDENT_DATE\"] = pd.to_datetime(lrpd[\"INCIDENT_DATE\"])\n",
    "lrpd[\"LOCATION_DISTRICT\"] = pd.to_numeric(lrpd[\"LOCATION_DISTRICT\"])\n",
    "\n",
    "lrpd.head().T"
   ],
   "metadata": {
    "collapsed": false
   }
  },
  {
   "cell_type": "code",
   "execution_count": 8,
   "outputs": [
    {
     "data": {
      "text/plain": "INCIDENT_NUMBER                   2021-092971                   2017-029450  \\\nINCIDENT_DATE             2021-08-04 10:21:00           2017-03-16 18:30:00   \nLOCATION_DISTRICT                        72.0                          82.0   \nOFFENSE_DESCRIPTION  THEFT FROM MOTOR VEHICLE  THEFT OF MOTOR VEHICLE PARTS   \nWEAPON_TYPE                         NO WEAPON                     NO WEAPON   \nZIP                                   72204.0                       72206.0   \nLATITUDE                                  0.0                     34.649362   \nLONGITUDE                                 0.0                    -92.301959   \nWEEK_OF_MONTH                               0                             2   \nYEAR                                     2021                          2017   \nDAY                                         4                            16   \nDAY_OF_YEAR                               216                            75   \nMONTH                                       8                             3   \n\nINCIDENT_NUMBER              2017-156453          2019-130717  \\\nINCIDENT_DATE        2017-09-01 12:00:00  2019-10-17 21:00:00   \nLOCATION_DISTRICT                   53.0                 51.0   \nOFFENSE_DESCRIPTION                 RAPE                 RAPE   \nWEAPON_TYPE                    NO WEAPON            NO WEAPON   \nZIP                                  0.0                  0.0   \nLATITUDE                             0.0                  0.0   \nLONGITUDE                            0.0                  0.0   \nWEEK_OF_MONTH                          0                    2   \nYEAR                                2017                 2019   \nDAY                                    1                   17   \nDAY_OF_YEAR                          244                  290   \nMONTH                                  9                   10   \n\nINCIDENT_NUMBER              2020-073313  \nINCIDENT_DATE        2020-07-02 19:10:00  \nLOCATION_DISTRICT                   50.0  \nOFFENSE_DESCRIPTION                 RAPE  \nWEAPON_TYPE                    NO WEAPON  \nZIP                                  0.0  \nLATITUDE                             0.0  \nLONGITUDE                            0.0  \nWEEK_OF_MONTH                          0  \nYEAR                                2020  \nDAY                                    2  \nDAY_OF_YEAR                          184  \nMONTH                                  7  ",
      "text/html": "<div>\n<style scoped>\n    .dataframe tbody tr th:only-of-type {\n        vertical-align: middle;\n    }\n\n    .dataframe tbody tr th {\n        vertical-align: top;\n    }\n\n    .dataframe thead th {\n        text-align: right;\n    }\n</style>\n<table border=\"1\" class=\"dataframe\">\n  <thead>\n    <tr style=\"text-align: right;\">\n      <th>INCIDENT_NUMBER</th>\n      <th>2021-092971</th>\n      <th>2017-029450</th>\n      <th>2017-156453</th>\n      <th>2019-130717</th>\n      <th>2020-073313</th>\n    </tr>\n  </thead>\n  <tbody>\n    <tr>\n      <th>INCIDENT_DATE</th>\n      <td>2021-08-04 10:21:00</td>\n      <td>2017-03-16 18:30:00</td>\n      <td>2017-09-01 12:00:00</td>\n      <td>2019-10-17 21:00:00</td>\n      <td>2020-07-02 19:10:00</td>\n    </tr>\n    <tr>\n      <th>LOCATION_DISTRICT</th>\n      <td>72.0</td>\n      <td>82.0</td>\n      <td>53.0</td>\n      <td>51.0</td>\n      <td>50.0</td>\n    </tr>\n    <tr>\n      <th>OFFENSE_DESCRIPTION</th>\n      <td>THEFT FROM MOTOR VEHICLE</td>\n      <td>THEFT OF MOTOR VEHICLE PARTS</td>\n      <td>RAPE</td>\n      <td>RAPE</td>\n      <td>RAPE</td>\n    </tr>\n    <tr>\n      <th>WEAPON_TYPE</th>\n      <td>NO WEAPON</td>\n      <td>NO WEAPON</td>\n      <td>NO WEAPON</td>\n      <td>NO WEAPON</td>\n      <td>NO WEAPON</td>\n    </tr>\n    <tr>\n      <th>ZIP</th>\n      <td>72204.0</td>\n      <td>72206.0</td>\n      <td>0.0</td>\n      <td>0.0</td>\n      <td>0.0</td>\n    </tr>\n    <tr>\n      <th>LATITUDE</th>\n      <td>0.0</td>\n      <td>34.649362</td>\n      <td>0.0</td>\n      <td>0.0</td>\n      <td>0.0</td>\n    </tr>\n    <tr>\n      <th>LONGITUDE</th>\n      <td>0.0</td>\n      <td>-92.301959</td>\n      <td>0.0</td>\n      <td>0.0</td>\n      <td>0.0</td>\n    </tr>\n    <tr>\n      <th>WEEK_OF_MONTH</th>\n      <td>0</td>\n      <td>2</td>\n      <td>0</td>\n      <td>2</td>\n      <td>0</td>\n    </tr>\n    <tr>\n      <th>YEAR</th>\n      <td>2021</td>\n      <td>2017</td>\n      <td>2017</td>\n      <td>2019</td>\n      <td>2020</td>\n    </tr>\n    <tr>\n      <th>DAY</th>\n      <td>4</td>\n      <td>16</td>\n      <td>1</td>\n      <td>17</td>\n      <td>2</td>\n    </tr>\n    <tr>\n      <th>DAY_OF_YEAR</th>\n      <td>216</td>\n      <td>75</td>\n      <td>244</td>\n      <td>290</td>\n      <td>184</td>\n    </tr>\n    <tr>\n      <th>MONTH</th>\n      <td>8</td>\n      <td>3</td>\n      <td>9</td>\n      <td>10</td>\n      <td>7</td>\n    </tr>\n  </tbody>\n</table>\n</div>"
     },
     "execution_count": 8,
     "metadata": {},
     "output_type": "execute_result"
    }
   ],
   "source": [
    "lrpd[\"WEEK_OF_MONTH\"] = lrpd[\"INCIDENT_DATE\"].dt.day // 7\n",
    "lrpd[\"YEAR\"] = lrpd[\"INCIDENT_DATE\"].dt.year\n",
    "lrpd[\"DAY\"] = lrpd[\"INCIDENT_DATE\"].dt.day\n",
    "lrpd[\"DAY_OF_YEAR\"] = lrpd[\"INCIDENT_DATE\"].dt.dayofyear\n",
    "lrpd[\"MONTH\"] = lrpd[\"INCIDENT_DATE\"].dt.month\n",
    "\n",
    "lrpd.head().T"
   ],
   "metadata": {
    "collapsed": false
   }
  },
  {
   "cell_type": "markdown",
   "source": [
    "### Crime Risk Analysis"
   ],
   "metadata": {
    "collapsed": false
   }
  },
  {
   "cell_type": "code",
   "execution_count": 9,
   "outputs": [],
   "source": [
    "all_crimes = lrpd[\"OFFENSE_DESCRIPTION\"].unique()\n",
    "all_weapons = lrpd[\"WEAPON_TYPE\"].unique()"
   ],
   "metadata": {
    "collapsed": false
   }
  },
  {
   "cell_type": "code",
   "execution_count": 10,
   "outputs": [],
   "source": [
    "violent_crimes = ['RAPE', 'AGGRAVATED ASSAULT', 'ALL OTHER LARCENY', 'ROBBERY', 'BURGLARY/B&E',\n",
    "                  'MURDER & NONNEGLIGENT MANSLAUGHTER']\n",
    "nonviolent_crimes = ['THEFT FROM MOTOR VEHICLE', 'MOTOR VEHICLE THEFT', 'THEFT OF MOTOR VEHICLE PARTS',\n",
    "                     'SHOPLIFTING', 'THEFT FROM BUILDING', 'POCKET-PICKING', 'THEFT FROM COIN-OPERATED MACHINE',\n",
    "                     'PURSE-SNATCHING']"
   ],
   "metadata": {
    "collapsed": false
   }
  },
  {
   "cell_type": "code",
   "execution_count": 11,
   "outputs": [],
   "source": [
    "def determine_crime_type(crime):\n",
    "    if crime in violent_crimes:\n",
    "        return 'Violent Crime'\n",
    "    elif crime in nonviolent_crimes:\n",
    "        return 'Non-Violent Crime'\n",
    "    else:\n",
    "        return 'Crime Type Unknown'"
   ],
   "metadata": {
    "collapsed": false
   }
  },
  {
   "cell_type": "code",
   "execution_count": 12,
   "outputs": [],
   "source": [
    "def determine_risk_type(crime):\n",
    "    print(crime)"
   ],
   "metadata": {
    "collapsed": false
   }
  },
  {
   "cell_type": "code",
   "execution_count": 14,
   "outputs": [],
   "source": [
    "lrpd[\"CRIME_TYPE\"] = lrpd[\"OFFENSE_DESCRIPTION\"].apply(determine_crime_type)"
   ],
   "metadata": {
    "collapsed": false
   }
  },
  {
   "cell_type": "code",
   "execution_count": 15,
   "outputs": [
    {
     "data": {
      "text/plain": "INCIDENT_NUMBER                   2021-092971                   2017-029450  \\\nINCIDENT_DATE             2021-08-04 10:21:00           2017-03-16 18:30:00   \nLOCATION_DISTRICT                        72.0                          82.0   \nOFFENSE_DESCRIPTION  THEFT FROM MOTOR VEHICLE  THEFT OF MOTOR VEHICLE PARTS   \nWEAPON_TYPE                         NO WEAPON                     NO WEAPON   \nZIP                                   72204.0                       72206.0   \nLATITUDE                                  0.0                     34.649362   \nLONGITUDE                                 0.0                    -92.301959   \nWEEK_OF_MONTH                               0                             2   \nYEAR                                     2021                          2017   \nDAY                                         4                            16   \nDAY_OF_YEAR                               216                            75   \nMONTH                                       8                             3   \nCRIME_TYPE                  Non-Violent Crime             Non-Violent Crime   \nRISK_TYPE                            Low Risk                      Low Risk   \n\nINCIDENT_NUMBER              2017-156453          2019-130717  \\\nINCIDENT_DATE        2017-09-01 12:00:00  2019-10-17 21:00:00   \nLOCATION_DISTRICT                   53.0                 51.0   \nOFFENSE_DESCRIPTION                 RAPE                 RAPE   \nWEAPON_TYPE                    NO WEAPON            NO WEAPON   \nZIP                                  0.0                  0.0   \nLATITUDE                             0.0                  0.0   \nLONGITUDE                            0.0                  0.0   \nWEEK_OF_MONTH                          0                    2   \nYEAR                                2017                 2019   \nDAY                                    1                   17   \nDAY_OF_YEAR                          244                  290   \nMONTH                                  9                   10   \nCRIME_TYPE                 Violent Crime        Violent Crime   \nRISK_TYPE                      High Risk            High Risk   \n\nINCIDENT_NUMBER              2020-073313  \\\nINCIDENT_DATE        2020-07-02 19:10:00   \nLOCATION_DISTRICT                   50.0   \nOFFENSE_DESCRIPTION                 RAPE   \nWEAPON_TYPE                    NO WEAPON   \nZIP                                  0.0   \nLATITUDE                             0.0   \nLONGITUDE                            0.0   \nWEEK_OF_MONTH                          0   \nYEAR                                2020   \nDAY                                    2   \nDAY_OF_YEAR                          184   \nMONTH                                  7   \nCRIME_TYPE                 Violent Crime   \nRISK_TYPE                      High Risk   \n\nINCIDENT_NUMBER                               2020-103105  \\\nINCIDENT_DATE                         2020-09-05 23:29:00   \nLOCATION_DISTRICT                                    40.0   \nOFFENSE_DESCRIPTION                                  RAPE   \nWEAPON_TYPE          PERSONAL WEAPONS (HANDS, FISTS, ETC)   \nZIP                                                   0.0   \nLATITUDE                                              0.0   \nLONGITUDE                                             0.0   \nWEEK_OF_MONTH                                           0   \nYEAR                                                 2020   \nDAY                                                     5   \nDAY_OF_YEAR                                           249   \nMONTH                                                   9   \nCRIME_TYPE                                  Violent Crime   \nRISK_TYPE                                       High Risk   \n\nINCIDENT_NUMBER              2020-127857          2021-002311  \\\nINCIDENT_DATE        2020-11-01 00:09:00  2021-01-10 22:08:00   \nLOCATION_DISTRICT                   54.0                 71.0   \nOFFENSE_DESCRIPTION                 RAPE                 RAPE   \nWEAPON_TYPE                      UNKNOWN              UNKNOWN   \nZIP                                  0.0                  0.0   \nLATITUDE                             0.0                  0.0   \nLONGITUDE                            0.0                  0.0   \nWEEK_OF_MONTH                          0                    1   \nYEAR                                2020                 2021   \nDAY                                    1                   10   \nDAY_OF_YEAR                          306                   10   \nMONTH                                 11                    1   \nCRIME_TYPE                 Violent Crime        Violent Crime   \nRISK_TYPE                      High Risk            High Risk   \n\nINCIDENT_NUMBER                               2021-113605  \\\nINCIDENT_DATE                         2021-09-16 14:37:00   \nLOCATION_DISTRICT                                    92.0   \nOFFENSE_DESCRIPTION                                  RAPE   \nWEAPON_TYPE          PERSONAL WEAPONS (HANDS, FISTS, ETC)   \nZIP                                                   0.0   \nLATITUDE                                              0.0   \nLONGITUDE                                             0.0   \nWEEK_OF_MONTH                                           2   \nYEAR                                                 2021   \nDAY                                                    16   \nDAY_OF_YEAR                                           259   \nMONTH                                                   9   \nCRIME_TYPE                                  Violent Crime   \nRISK_TYPE                                       High Risk   \n\nINCIDENT_NUMBER              2021-135637          2022-014768  \\\nINCIDENT_DATE        2021-11-04 01:22:00  2022-02-07 10:58:00   \nLOCATION_DISTRICT                   80.0                 80.0   \nOFFENSE_DESCRIPTION    ALL OTHER LARCENY                 RAPE   \nWEAPON_TYPE                    NO WEAPON              UNKNOWN   \nZIP                                  0.0                  0.0   \nLATITUDE                             0.0                  0.0   \nLONGITUDE                            0.0                  0.0   \nWEEK_OF_MONTH                          0                    1   \nYEAR                                2021                 2022   \nDAY                                    4                    7   \nDAY_OF_YEAR                          308                   38   \nMONTH                                 11                    2   \nCRIME_TYPE                 Violent Crime        Violent Crime   \nRISK_TYPE                      High Risk            High Risk   \n\nINCIDENT_NUMBER              2022-301030          2022-302467  \\\nINCIDENT_DATE        2022-04-22 20:30:00  2022-09-03 16:45:00   \nLOCATION_DISTRICT                   62.0                 39.0   \nOFFENSE_DESCRIPTION    ALL OTHER LARCENY          SHOPLIFTING   \nWEAPON_TYPE                    NO WEAPON            NO WEAPON   \nZIP                              72211.0              72202.0   \nLATITUDE                             0.0                  0.0   \nLONGITUDE                            0.0                  0.0   \nWEEK_OF_MONTH                          3                    0   \nYEAR                                2022                 2022   \nDAY                                   22                    3   \nDAY_OF_YEAR                          112                  246   \nMONTH                                  4                    9   \nCRIME_TYPE                 Violent Crime    Non-Violent Crime   \nRISK_TYPE                      High Risk             Low Risk   \n\nINCIDENT_NUMBER                       2021-027276          2020-121047  \\\nINCIDENT_DATE                 2021-03-17 18:12:00  2020-10-16 12:23:00   \nLOCATION_DISTRICT                            82.0                 93.0   \nOFFENSE_DESCRIPTION  THEFT OF MOTOR VEHICLE PARTS    ALL OTHER LARCENY   \nWEAPON_TYPE                             NO WEAPON            NO WEAPON   \nZIP                                       72209.0              72210.0   \nLATITUDE                                34.673893            34.652869   \nLONGITUDE                              -92.334594            -92.43048   \nWEEK_OF_MONTH                                   2                    2   \nYEAR                                         2021                 2020   \nDAY                                            17                   16   \nDAY_OF_YEAR                                    76                  290   \nMONTH                                           3                   10   \nCRIME_TYPE                      Non-Violent Crime        Violent Crime   \nRISK_TYPE                                Low Risk            High Risk   \n\nINCIDENT_NUMBER              2021-107177               2018-126330  \\\nINCIDENT_DATE        2021-09-02 18:35:00       2018-10-03 12:44:00   \nLOCATION_DISTRICT                   83.0                      92.0   \nOFFENSE_DESCRIPTION              ROBBERY                   ROBBERY   \nWEAPON_TYPE                      FIREARM  KNIFE/CUTTING INSTRUMENT   \nZIP                              72209.0                   72103.0   \nLATITUDE                       34.667065                 34.627232   \nLONGITUDE                      -92.35237                -92.390674   \nWEEK_OF_MONTH                          0                         0   \nYEAR                                2021                      2018   \nDAY                                    2                         3   \nDAY_OF_YEAR                          245                       276   \nMONTH                                  9                        10   \nCRIME_TYPE                 Violent Crime             Violent Crime   \nRISK_TYPE                      High Risk                 High Risk   \n\nINCIDENT_NUMBER                       2017-158478          2017-012201  \\\nINCIDENT_DATE                 2017-12-17 20:00:00  2017-02-01 07:10:00   \nLOCATION_DISTRICT                            91.0                 80.0   \nOFFENSE_DESCRIPTION  THEFT OF MOTOR VEHICLE PARTS         BURGLARY/B&E   \nWEAPON_TYPE                             NO WEAPON            NO WEAPON   \nZIP                                       72209.0              72209.0   \nLATITUDE                                34.673161            34.692613   \nLONGITUDE                              -92.372574           -92.335765   \nWEEK_OF_MONTH                                   2                    0   \nYEAR                                         2017                 2017   \nDAY                                            17                    1   \nDAY_OF_YEAR                                   351                   32   \nMONTH                                          12                    2   \nCRIME_TYPE                      Non-Violent Crime        Violent Crime   \nRISK_TYPE                                Low Risk            High Risk   \n\nINCIDENT_NUMBER              2017-122878  \nINCIDENT_DATE        2017-10-01 19:32:00  \nLOCATION_DISTRICT                   90.0  \nOFFENSE_DESCRIPTION  THEFT FROM BUILDING  \nWEAPON_TYPE                    NO WEAPON  \nZIP                              72209.0  \nLATITUDE                       34.679524  \nLONGITUDE                     -92.353965  \nWEEK_OF_MONTH                          0  \nYEAR                                2017  \nDAY                                    1  \nDAY_OF_YEAR                          274  \nMONTH                                 10  \nCRIME_TYPE             Non-Violent Crime  \nRISK_TYPE                       Low Risk  ",
      "text/html": "<div>\n<style scoped>\n    .dataframe tbody tr th:only-of-type {\n        vertical-align: middle;\n    }\n\n    .dataframe tbody tr th {\n        vertical-align: top;\n    }\n\n    .dataframe thead th {\n        text-align: right;\n    }\n</style>\n<table border=\"1\" class=\"dataframe\">\n  <thead>\n    <tr style=\"text-align: right;\">\n      <th>INCIDENT_NUMBER</th>\n      <th>2021-092971</th>\n      <th>2017-029450</th>\n      <th>2017-156453</th>\n      <th>2019-130717</th>\n      <th>2020-073313</th>\n      <th>2020-103105</th>\n      <th>2020-127857</th>\n      <th>2021-002311</th>\n      <th>2021-113605</th>\n      <th>2021-135637</th>\n      <th>2022-014768</th>\n      <th>2022-301030</th>\n      <th>2022-302467</th>\n      <th>2021-027276</th>\n      <th>2020-121047</th>\n      <th>2021-107177</th>\n      <th>2018-126330</th>\n      <th>2017-158478</th>\n      <th>2017-012201</th>\n      <th>2017-122878</th>\n    </tr>\n  </thead>\n  <tbody>\n    <tr>\n      <th>INCIDENT_DATE</th>\n      <td>2021-08-04 10:21:00</td>\n      <td>2017-03-16 18:30:00</td>\n      <td>2017-09-01 12:00:00</td>\n      <td>2019-10-17 21:00:00</td>\n      <td>2020-07-02 19:10:00</td>\n      <td>2020-09-05 23:29:00</td>\n      <td>2020-11-01 00:09:00</td>\n      <td>2021-01-10 22:08:00</td>\n      <td>2021-09-16 14:37:00</td>\n      <td>2021-11-04 01:22:00</td>\n      <td>2022-02-07 10:58:00</td>\n      <td>2022-04-22 20:30:00</td>\n      <td>2022-09-03 16:45:00</td>\n      <td>2021-03-17 18:12:00</td>\n      <td>2020-10-16 12:23:00</td>\n      <td>2021-09-02 18:35:00</td>\n      <td>2018-10-03 12:44:00</td>\n      <td>2017-12-17 20:00:00</td>\n      <td>2017-02-01 07:10:00</td>\n      <td>2017-10-01 19:32:00</td>\n    </tr>\n    <tr>\n      <th>LOCATION_DISTRICT</th>\n      <td>72.0</td>\n      <td>82.0</td>\n      <td>53.0</td>\n      <td>51.0</td>\n      <td>50.0</td>\n      <td>40.0</td>\n      <td>54.0</td>\n      <td>71.0</td>\n      <td>92.0</td>\n      <td>80.0</td>\n      <td>80.0</td>\n      <td>62.0</td>\n      <td>39.0</td>\n      <td>82.0</td>\n      <td>93.0</td>\n      <td>83.0</td>\n      <td>92.0</td>\n      <td>91.0</td>\n      <td>80.0</td>\n      <td>90.0</td>\n    </tr>\n    <tr>\n      <th>OFFENSE_DESCRIPTION</th>\n      <td>THEFT FROM MOTOR VEHICLE</td>\n      <td>THEFT OF MOTOR VEHICLE PARTS</td>\n      <td>RAPE</td>\n      <td>RAPE</td>\n      <td>RAPE</td>\n      <td>RAPE</td>\n      <td>RAPE</td>\n      <td>RAPE</td>\n      <td>RAPE</td>\n      <td>ALL OTHER LARCENY</td>\n      <td>RAPE</td>\n      <td>ALL OTHER LARCENY</td>\n      <td>SHOPLIFTING</td>\n      <td>THEFT OF MOTOR VEHICLE PARTS</td>\n      <td>ALL OTHER LARCENY</td>\n      <td>ROBBERY</td>\n      <td>ROBBERY</td>\n      <td>THEFT OF MOTOR VEHICLE PARTS</td>\n      <td>BURGLARY/B&amp;E</td>\n      <td>THEFT FROM BUILDING</td>\n    </tr>\n    <tr>\n      <th>WEAPON_TYPE</th>\n      <td>NO WEAPON</td>\n      <td>NO WEAPON</td>\n      <td>NO WEAPON</td>\n      <td>NO WEAPON</td>\n      <td>NO WEAPON</td>\n      <td>PERSONAL WEAPONS (HANDS, FISTS, ETC)</td>\n      <td>UNKNOWN</td>\n      <td>UNKNOWN</td>\n      <td>PERSONAL WEAPONS (HANDS, FISTS, ETC)</td>\n      <td>NO WEAPON</td>\n      <td>UNKNOWN</td>\n      <td>NO WEAPON</td>\n      <td>NO WEAPON</td>\n      <td>NO WEAPON</td>\n      <td>NO WEAPON</td>\n      <td>FIREARM</td>\n      <td>KNIFE/CUTTING INSTRUMENT</td>\n      <td>NO WEAPON</td>\n      <td>NO WEAPON</td>\n      <td>NO WEAPON</td>\n    </tr>\n    <tr>\n      <th>ZIP</th>\n      <td>72204.0</td>\n      <td>72206.0</td>\n      <td>0.0</td>\n      <td>0.0</td>\n      <td>0.0</td>\n      <td>0.0</td>\n      <td>0.0</td>\n      <td>0.0</td>\n      <td>0.0</td>\n      <td>0.0</td>\n      <td>0.0</td>\n      <td>72211.0</td>\n      <td>72202.0</td>\n      <td>72209.0</td>\n      <td>72210.0</td>\n      <td>72209.0</td>\n      <td>72103.0</td>\n      <td>72209.0</td>\n      <td>72209.0</td>\n      <td>72209.0</td>\n    </tr>\n    <tr>\n      <th>LATITUDE</th>\n      <td>0.0</td>\n      <td>34.649362</td>\n      <td>0.0</td>\n      <td>0.0</td>\n      <td>0.0</td>\n      <td>0.0</td>\n      <td>0.0</td>\n      <td>0.0</td>\n      <td>0.0</td>\n      <td>0.0</td>\n      <td>0.0</td>\n      <td>0.0</td>\n      <td>0.0</td>\n      <td>34.673893</td>\n      <td>34.652869</td>\n      <td>34.667065</td>\n      <td>34.627232</td>\n      <td>34.673161</td>\n      <td>34.692613</td>\n      <td>34.679524</td>\n    </tr>\n    <tr>\n      <th>LONGITUDE</th>\n      <td>0.0</td>\n      <td>-92.301959</td>\n      <td>0.0</td>\n      <td>0.0</td>\n      <td>0.0</td>\n      <td>0.0</td>\n      <td>0.0</td>\n      <td>0.0</td>\n      <td>0.0</td>\n      <td>0.0</td>\n      <td>0.0</td>\n      <td>0.0</td>\n      <td>0.0</td>\n      <td>-92.334594</td>\n      <td>-92.43048</td>\n      <td>-92.35237</td>\n      <td>-92.390674</td>\n      <td>-92.372574</td>\n      <td>-92.335765</td>\n      <td>-92.353965</td>\n    </tr>\n    <tr>\n      <th>WEEK_OF_MONTH</th>\n      <td>0</td>\n      <td>2</td>\n      <td>0</td>\n      <td>2</td>\n      <td>0</td>\n      <td>0</td>\n      <td>0</td>\n      <td>1</td>\n      <td>2</td>\n      <td>0</td>\n      <td>1</td>\n      <td>3</td>\n      <td>0</td>\n      <td>2</td>\n      <td>2</td>\n      <td>0</td>\n      <td>0</td>\n      <td>2</td>\n      <td>0</td>\n      <td>0</td>\n    </tr>\n    <tr>\n      <th>YEAR</th>\n      <td>2021</td>\n      <td>2017</td>\n      <td>2017</td>\n      <td>2019</td>\n      <td>2020</td>\n      <td>2020</td>\n      <td>2020</td>\n      <td>2021</td>\n      <td>2021</td>\n      <td>2021</td>\n      <td>2022</td>\n      <td>2022</td>\n      <td>2022</td>\n      <td>2021</td>\n      <td>2020</td>\n      <td>2021</td>\n      <td>2018</td>\n      <td>2017</td>\n      <td>2017</td>\n      <td>2017</td>\n    </tr>\n    <tr>\n      <th>DAY</th>\n      <td>4</td>\n      <td>16</td>\n      <td>1</td>\n      <td>17</td>\n      <td>2</td>\n      <td>5</td>\n      <td>1</td>\n      <td>10</td>\n      <td>16</td>\n      <td>4</td>\n      <td>7</td>\n      <td>22</td>\n      <td>3</td>\n      <td>17</td>\n      <td>16</td>\n      <td>2</td>\n      <td>3</td>\n      <td>17</td>\n      <td>1</td>\n      <td>1</td>\n    </tr>\n    <tr>\n      <th>DAY_OF_YEAR</th>\n      <td>216</td>\n      <td>75</td>\n      <td>244</td>\n      <td>290</td>\n      <td>184</td>\n      <td>249</td>\n      <td>306</td>\n      <td>10</td>\n      <td>259</td>\n      <td>308</td>\n      <td>38</td>\n      <td>112</td>\n      <td>246</td>\n      <td>76</td>\n      <td>290</td>\n      <td>245</td>\n      <td>276</td>\n      <td>351</td>\n      <td>32</td>\n      <td>274</td>\n    </tr>\n    <tr>\n      <th>MONTH</th>\n      <td>8</td>\n      <td>3</td>\n      <td>9</td>\n      <td>10</td>\n      <td>7</td>\n      <td>9</td>\n      <td>11</td>\n      <td>1</td>\n      <td>9</td>\n      <td>11</td>\n      <td>2</td>\n      <td>4</td>\n      <td>9</td>\n      <td>3</td>\n      <td>10</td>\n      <td>9</td>\n      <td>10</td>\n      <td>12</td>\n      <td>2</td>\n      <td>10</td>\n    </tr>\n    <tr>\n      <th>CRIME_TYPE</th>\n      <td>Non-Violent Crime</td>\n      <td>Non-Violent Crime</td>\n      <td>Violent Crime</td>\n      <td>Violent Crime</td>\n      <td>Violent Crime</td>\n      <td>Violent Crime</td>\n      <td>Violent Crime</td>\n      <td>Violent Crime</td>\n      <td>Violent Crime</td>\n      <td>Violent Crime</td>\n      <td>Violent Crime</td>\n      <td>Violent Crime</td>\n      <td>Non-Violent Crime</td>\n      <td>Non-Violent Crime</td>\n      <td>Violent Crime</td>\n      <td>Violent Crime</td>\n      <td>Violent Crime</td>\n      <td>Non-Violent Crime</td>\n      <td>Violent Crime</td>\n      <td>Non-Violent Crime</td>\n    </tr>\n    <tr>\n      <th>RISK_TYPE</th>\n      <td>Low Risk</td>\n      <td>Low Risk</td>\n      <td>High Risk</td>\n      <td>High Risk</td>\n      <td>High Risk</td>\n      <td>High Risk</td>\n      <td>High Risk</td>\n      <td>High Risk</td>\n      <td>High Risk</td>\n      <td>High Risk</td>\n      <td>High Risk</td>\n      <td>High Risk</td>\n      <td>Low Risk</td>\n      <td>Low Risk</td>\n      <td>High Risk</td>\n      <td>High Risk</td>\n      <td>High Risk</td>\n      <td>Low Risk</td>\n      <td>High Risk</td>\n      <td>Low Risk</td>\n    </tr>\n  </tbody>\n</table>\n</div>"
     },
     "execution_count": 15,
     "metadata": {},
     "output_type": "execute_result"
    }
   ],
   "source": [
    "# Risk ASSESSEMENT\n",
    "lrpd.loc[(lrpd['CRIME_TYPE'] == 'Violent Crime') | (\n",
    "        lrpd['WEAPON_TYPE'] != 'NO WEAPON'), \"RISK_TYPE\"] = \"High Risk\"\n",
    "lrpd.loc[(lrpd['CRIME_TYPE'] == 'Violent Crime') & (\n",
    "        lrpd['CRIME_TYPE'] != 'NO WEAPON'), \"RISK_TYPE\"] = \"High Risk\"\n",
    "lrpd.loc[(lrpd['CRIME_TYPE'] == 'Non-Violent Crime') & (\n",
    "        lrpd['WEAPON_TYPE'] != 'NO WEAPON'), \"RISK_TYPE\"] = \"High Risk\"\n",
    "lrpd.loc[(lrpd['CRIME_TYPE'] == 'Non-Violent Crime') & (\n",
    "        lrpd['WEAPON_TYPE'] == 'NO WEAPON'), \"RISK_TYPE\"] = \"Low Risk\"\n",
    "\n",
    "lrpd[:20].T"
   ],
   "metadata": {
    "collapsed": false
   }
  },
  {
   "cell_type": "markdown",
   "source": [
    "### Binary Classification"
   ],
   "metadata": {
    "collapsed": false
   }
  },
  {
   "cell_type": "code",
   "execution_count": 17,
   "outputs": [
    {
     "data": {
      "text/plain": "INCIDENT_NUMBER                   2021-092971                   2017-029450  \\\nINCIDENT_DATE             2021-08-04 10:21:00           2017-03-16 18:30:00   \nLOCATION_DISTRICT                        72.0                          82.0   \nOFFENSE_DESCRIPTION  THEFT FROM MOTOR VEHICLE  THEFT OF MOTOR VEHICLE PARTS   \nWEAPON_TYPE                         NO WEAPON                     NO WEAPON   \nZIP                                   72204.0                       72206.0   \nLATITUDE                                  0.0                     34.649362   \nLONGITUDE                                 0.0                    -92.301959   \nWEEK_OF_MONTH                               0                             2   \nYEAR                                     2021                          2017   \nDAY                                         4                            16   \nDAY_OF_YEAR                               216                            75   \nMONTH                                       8                             3   \nCRIME_TYPE                  Non-Violent Crime             Non-Violent Crime   \nRISK_TYPE                            Low Risk                      Low Risk   \nRISK_TYPE_BC                                0                             0   \n\nINCIDENT_NUMBER              2017-156453          2019-130717  \\\nINCIDENT_DATE        2017-09-01 12:00:00  2019-10-17 21:00:00   \nLOCATION_DISTRICT                   53.0                 51.0   \nOFFENSE_DESCRIPTION                 RAPE                 RAPE   \nWEAPON_TYPE                    NO WEAPON            NO WEAPON   \nZIP                                  0.0                  0.0   \nLATITUDE                             0.0                  0.0   \nLONGITUDE                            0.0                  0.0   \nWEEK_OF_MONTH                          0                    2   \nYEAR                                2017                 2019   \nDAY                                    1                   17   \nDAY_OF_YEAR                          244                  290   \nMONTH                                  9                   10   \nCRIME_TYPE                 Violent Crime        Violent Crime   \nRISK_TYPE                      High Risk            High Risk   \nRISK_TYPE_BC                           1                    1   \n\nINCIDENT_NUMBER              2020-073313  \\\nINCIDENT_DATE        2020-07-02 19:10:00   \nLOCATION_DISTRICT                   50.0   \nOFFENSE_DESCRIPTION                 RAPE   \nWEAPON_TYPE                    NO WEAPON   \nZIP                                  0.0   \nLATITUDE                             0.0   \nLONGITUDE                            0.0   \nWEEK_OF_MONTH                          0   \nYEAR                                2020   \nDAY                                    2   \nDAY_OF_YEAR                          184   \nMONTH                                  7   \nCRIME_TYPE                 Violent Crime   \nRISK_TYPE                      High Risk   \nRISK_TYPE_BC                           1   \n\nINCIDENT_NUMBER                               2020-103105  \\\nINCIDENT_DATE                         2020-09-05 23:29:00   \nLOCATION_DISTRICT                                    40.0   \nOFFENSE_DESCRIPTION                                  RAPE   \nWEAPON_TYPE          PERSONAL WEAPONS (HANDS, FISTS, ETC)   \nZIP                                                   0.0   \nLATITUDE                                              0.0   \nLONGITUDE                                             0.0   \nWEEK_OF_MONTH                                           0   \nYEAR                                                 2020   \nDAY                                                     5   \nDAY_OF_YEAR                                           249   \nMONTH                                                   9   \nCRIME_TYPE                                  Violent Crime   \nRISK_TYPE                                       High Risk   \nRISK_TYPE_BC                                            1   \n\nINCIDENT_NUMBER              2020-127857          2021-002311  \\\nINCIDENT_DATE        2020-11-01 00:09:00  2021-01-10 22:08:00   \nLOCATION_DISTRICT                   54.0                 71.0   \nOFFENSE_DESCRIPTION                 RAPE                 RAPE   \nWEAPON_TYPE                      UNKNOWN              UNKNOWN   \nZIP                                  0.0                  0.0   \nLATITUDE                             0.0                  0.0   \nLONGITUDE                            0.0                  0.0   \nWEEK_OF_MONTH                          0                    1   \nYEAR                                2020                 2021   \nDAY                                    1                   10   \nDAY_OF_YEAR                          306                   10   \nMONTH                                 11                    1   \nCRIME_TYPE                 Violent Crime        Violent Crime   \nRISK_TYPE                      High Risk            High Risk   \nRISK_TYPE_BC                           1                    1   \n\nINCIDENT_NUMBER                               2021-113605  \\\nINCIDENT_DATE                         2021-09-16 14:37:00   \nLOCATION_DISTRICT                                    92.0   \nOFFENSE_DESCRIPTION                                  RAPE   \nWEAPON_TYPE          PERSONAL WEAPONS (HANDS, FISTS, ETC)   \nZIP                                                   0.0   \nLATITUDE                                              0.0   \nLONGITUDE                                             0.0   \nWEEK_OF_MONTH                                           2   \nYEAR                                                 2021   \nDAY                                                    16   \nDAY_OF_YEAR                                           259   \nMONTH                                                   9   \nCRIME_TYPE                                  Violent Crime   \nRISK_TYPE                                       High Risk   \nRISK_TYPE_BC                                            1   \n\nINCIDENT_NUMBER              2021-135637          2022-014768  \\\nINCIDENT_DATE        2021-11-04 01:22:00  2022-02-07 10:58:00   \nLOCATION_DISTRICT                   80.0                 80.0   \nOFFENSE_DESCRIPTION    ALL OTHER LARCENY                 RAPE   \nWEAPON_TYPE                    NO WEAPON              UNKNOWN   \nZIP                                  0.0                  0.0   \nLATITUDE                             0.0                  0.0   \nLONGITUDE                            0.0                  0.0   \nWEEK_OF_MONTH                          0                    1   \nYEAR                                2021                 2022   \nDAY                                    4                    7   \nDAY_OF_YEAR                          308                   38   \nMONTH                                 11                    2   \nCRIME_TYPE                 Violent Crime        Violent Crime   \nRISK_TYPE                      High Risk            High Risk   \nRISK_TYPE_BC                           1                    1   \n\nINCIDENT_NUMBER              2022-301030          2022-302467  \\\nINCIDENT_DATE        2022-04-22 20:30:00  2022-09-03 16:45:00   \nLOCATION_DISTRICT                   62.0                 39.0   \nOFFENSE_DESCRIPTION    ALL OTHER LARCENY          SHOPLIFTING   \nWEAPON_TYPE                    NO WEAPON            NO WEAPON   \nZIP                              72211.0              72202.0   \nLATITUDE                             0.0                  0.0   \nLONGITUDE                            0.0                  0.0   \nWEEK_OF_MONTH                          3                    0   \nYEAR                                2022                 2022   \nDAY                                   22                    3   \nDAY_OF_YEAR                          112                  246   \nMONTH                                  4                    9   \nCRIME_TYPE                 Violent Crime    Non-Violent Crime   \nRISK_TYPE                      High Risk             Low Risk   \nRISK_TYPE_BC                           1                    0   \n\nINCIDENT_NUMBER                       2021-027276          2020-121047  \\\nINCIDENT_DATE                 2021-03-17 18:12:00  2020-10-16 12:23:00   \nLOCATION_DISTRICT                            82.0                 93.0   \nOFFENSE_DESCRIPTION  THEFT OF MOTOR VEHICLE PARTS    ALL OTHER LARCENY   \nWEAPON_TYPE                             NO WEAPON            NO WEAPON   \nZIP                                       72209.0              72210.0   \nLATITUDE                                34.673893            34.652869   \nLONGITUDE                              -92.334594            -92.43048   \nWEEK_OF_MONTH                                   2                    2   \nYEAR                                         2021                 2020   \nDAY                                            17                   16   \nDAY_OF_YEAR                                    76                  290   \nMONTH                                           3                   10   \nCRIME_TYPE                      Non-Violent Crime        Violent Crime   \nRISK_TYPE                                Low Risk            High Risk   \nRISK_TYPE_BC                                    0                    1   \n\nINCIDENT_NUMBER              2021-107177               2018-126330  \\\nINCIDENT_DATE        2021-09-02 18:35:00       2018-10-03 12:44:00   \nLOCATION_DISTRICT                   83.0                      92.0   \nOFFENSE_DESCRIPTION              ROBBERY                   ROBBERY   \nWEAPON_TYPE                      FIREARM  KNIFE/CUTTING INSTRUMENT   \nZIP                              72209.0                   72103.0   \nLATITUDE                       34.667065                 34.627232   \nLONGITUDE                      -92.35237                -92.390674   \nWEEK_OF_MONTH                          0                         0   \nYEAR                                2021                      2018   \nDAY                                    2                         3   \nDAY_OF_YEAR                          245                       276   \nMONTH                                  9                        10   \nCRIME_TYPE                 Violent Crime             Violent Crime   \nRISK_TYPE                      High Risk                 High Risk   \nRISK_TYPE_BC                           1                         1   \n\nINCIDENT_NUMBER                       2017-158478          2017-012201  \\\nINCIDENT_DATE                 2017-12-17 20:00:00  2017-02-01 07:10:00   \nLOCATION_DISTRICT                            91.0                 80.0   \nOFFENSE_DESCRIPTION  THEFT OF MOTOR VEHICLE PARTS         BURGLARY/B&E   \nWEAPON_TYPE                             NO WEAPON            NO WEAPON   \nZIP                                       72209.0              72209.0   \nLATITUDE                                34.673161            34.692613   \nLONGITUDE                              -92.372574           -92.335765   \nWEEK_OF_MONTH                                   2                    0   \nYEAR                                         2017                 2017   \nDAY                                            17                    1   \nDAY_OF_YEAR                                   351                   32   \nMONTH                                          12                    2   \nCRIME_TYPE                      Non-Violent Crime        Violent Crime   \nRISK_TYPE                                Low Risk            High Risk   \nRISK_TYPE_BC                                    0                    1   \n\nINCIDENT_NUMBER              2017-122878  \nINCIDENT_DATE        2017-10-01 19:32:00  \nLOCATION_DISTRICT                   90.0  \nOFFENSE_DESCRIPTION  THEFT FROM BUILDING  \nWEAPON_TYPE                    NO WEAPON  \nZIP                              72209.0  \nLATITUDE                       34.679524  \nLONGITUDE                     -92.353965  \nWEEK_OF_MONTH                          0  \nYEAR                                2017  \nDAY                                    1  \nDAY_OF_YEAR                          274  \nMONTH                                 10  \nCRIME_TYPE             Non-Violent Crime  \nRISK_TYPE                       Low Risk  \nRISK_TYPE_BC                           0  ",
      "text/html": "<div>\n<style scoped>\n    .dataframe tbody tr th:only-of-type {\n        vertical-align: middle;\n    }\n\n    .dataframe tbody tr th {\n        vertical-align: top;\n    }\n\n    .dataframe thead th {\n        text-align: right;\n    }\n</style>\n<table border=\"1\" class=\"dataframe\">\n  <thead>\n    <tr style=\"text-align: right;\">\n      <th>INCIDENT_NUMBER</th>\n      <th>2021-092971</th>\n      <th>2017-029450</th>\n      <th>2017-156453</th>\n      <th>2019-130717</th>\n      <th>2020-073313</th>\n      <th>2020-103105</th>\n      <th>2020-127857</th>\n      <th>2021-002311</th>\n      <th>2021-113605</th>\n      <th>2021-135637</th>\n      <th>2022-014768</th>\n      <th>2022-301030</th>\n      <th>2022-302467</th>\n      <th>2021-027276</th>\n      <th>2020-121047</th>\n      <th>2021-107177</th>\n      <th>2018-126330</th>\n      <th>2017-158478</th>\n      <th>2017-012201</th>\n      <th>2017-122878</th>\n    </tr>\n  </thead>\n  <tbody>\n    <tr>\n      <th>INCIDENT_DATE</th>\n      <td>2021-08-04 10:21:00</td>\n      <td>2017-03-16 18:30:00</td>\n      <td>2017-09-01 12:00:00</td>\n      <td>2019-10-17 21:00:00</td>\n      <td>2020-07-02 19:10:00</td>\n      <td>2020-09-05 23:29:00</td>\n      <td>2020-11-01 00:09:00</td>\n      <td>2021-01-10 22:08:00</td>\n      <td>2021-09-16 14:37:00</td>\n      <td>2021-11-04 01:22:00</td>\n      <td>2022-02-07 10:58:00</td>\n      <td>2022-04-22 20:30:00</td>\n      <td>2022-09-03 16:45:00</td>\n      <td>2021-03-17 18:12:00</td>\n      <td>2020-10-16 12:23:00</td>\n      <td>2021-09-02 18:35:00</td>\n      <td>2018-10-03 12:44:00</td>\n      <td>2017-12-17 20:00:00</td>\n      <td>2017-02-01 07:10:00</td>\n      <td>2017-10-01 19:32:00</td>\n    </tr>\n    <tr>\n      <th>LOCATION_DISTRICT</th>\n      <td>72.0</td>\n      <td>82.0</td>\n      <td>53.0</td>\n      <td>51.0</td>\n      <td>50.0</td>\n      <td>40.0</td>\n      <td>54.0</td>\n      <td>71.0</td>\n      <td>92.0</td>\n      <td>80.0</td>\n      <td>80.0</td>\n      <td>62.0</td>\n      <td>39.0</td>\n      <td>82.0</td>\n      <td>93.0</td>\n      <td>83.0</td>\n      <td>92.0</td>\n      <td>91.0</td>\n      <td>80.0</td>\n      <td>90.0</td>\n    </tr>\n    <tr>\n      <th>OFFENSE_DESCRIPTION</th>\n      <td>THEFT FROM MOTOR VEHICLE</td>\n      <td>THEFT OF MOTOR VEHICLE PARTS</td>\n      <td>RAPE</td>\n      <td>RAPE</td>\n      <td>RAPE</td>\n      <td>RAPE</td>\n      <td>RAPE</td>\n      <td>RAPE</td>\n      <td>RAPE</td>\n      <td>ALL OTHER LARCENY</td>\n      <td>RAPE</td>\n      <td>ALL OTHER LARCENY</td>\n      <td>SHOPLIFTING</td>\n      <td>THEFT OF MOTOR VEHICLE PARTS</td>\n      <td>ALL OTHER LARCENY</td>\n      <td>ROBBERY</td>\n      <td>ROBBERY</td>\n      <td>THEFT OF MOTOR VEHICLE PARTS</td>\n      <td>BURGLARY/B&amp;E</td>\n      <td>THEFT FROM BUILDING</td>\n    </tr>\n    <tr>\n      <th>WEAPON_TYPE</th>\n      <td>NO WEAPON</td>\n      <td>NO WEAPON</td>\n      <td>NO WEAPON</td>\n      <td>NO WEAPON</td>\n      <td>NO WEAPON</td>\n      <td>PERSONAL WEAPONS (HANDS, FISTS, ETC)</td>\n      <td>UNKNOWN</td>\n      <td>UNKNOWN</td>\n      <td>PERSONAL WEAPONS (HANDS, FISTS, ETC)</td>\n      <td>NO WEAPON</td>\n      <td>UNKNOWN</td>\n      <td>NO WEAPON</td>\n      <td>NO WEAPON</td>\n      <td>NO WEAPON</td>\n      <td>NO WEAPON</td>\n      <td>FIREARM</td>\n      <td>KNIFE/CUTTING INSTRUMENT</td>\n      <td>NO WEAPON</td>\n      <td>NO WEAPON</td>\n      <td>NO WEAPON</td>\n    </tr>\n    <tr>\n      <th>ZIP</th>\n      <td>72204.0</td>\n      <td>72206.0</td>\n      <td>0.0</td>\n      <td>0.0</td>\n      <td>0.0</td>\n      <td>0.0</td>\n      <td>0.0</td>\n      <td>0.0</td>\n      <td>0.0</td>\n      <td>0.0</td>\n      <td>0.0</td>\n      <td>72211.0</td>\n      <td>72202.0</td>\n      <td>72209.0</td>\n      <td>72210.0</td>\n      <td>72209.0</td>\n      <td>72103.0</td>\n      <td>72209.0</td>\n      <td>72209.0</td>\n      <td>72209.0</td>\n    </tr>\n    <tr>\n      <th>LATITUDE</th>\n      <td>0.0</td>\n      <td>34.649362</td>\n      <td>0.0</td>\n      <td>0.0</td>\n      <td>0.0</td>\n      <td>0.0</td>\n      <td>0.0</td>\n      <td>0.0</td>\n      <td>0.0</td>\n      <td>0.0</td>\n      <td>0.0</td>\n      <td>0.0</td>\n      <td>0.0</td>\n      <td>34.673893</td>\n      <td>34.652869</td>\n      <td>34.667065</td>\n      <td>34.627232</td>\n      <td>34.673161</td>\n      <td>34.692613</td>\n      <td>34.679524</td>\n    </tr>\n    <tr>\n      <th>LONGITUDE</th>\n      <td>0.0</td>\n      <td>-92.301959</td>\n      <td>0.0</td>\n      <td>0.0</td>\n      <td>0.0</td>\n      <td>0.0</td>\n      <td>0.0</td>\n      <td>0.0</td>\n      <td>0.0</td>\n      <td>0.0</td>\n      <td>0.0</td>\n      <td>0.0</td>\n      <td>0.0</td>\n      <td>-92.334594</td>\n      <td>-92.43048</td>\n      <td>-92.35237</td>\n      <td>-92.390674</td>\n      <td>-92.372574</td>\n      <td>-92.335765</td>\n      <td>-92.353965</td>\n    </tr>\n    <tr>\n      <th>WEEK_OF_MONTH</th>\n      <td>0</td>\n      <td>2</td>\n      <td>0</td>\n      <td>2</td>\n      <td>0</td>\n      <td>0</td>\n      <td>0</td>\n      <td>1</td>\n      <td>2</td>\n      <td>0</td>\n      <td>1</td>\n      <td>3</td>\n      <td>0</td>\n      <td>2</td>\n      <td>2</td>\n      <td>0</td>\n      <td>0</td>\n      <td>2</td>\n      <td>0</td>\n      <td>0</td>\n    </tr>\n    <tr>\n      <th>YEAR</th>\n      <td>2021</td>\n      <td>2017</td>\n      <td>2017</td>\n      <td>2019</td>\n      <td>2020</td>\n      <td>2020</td>\n      <td>2020</td>\n      <td>2021</td>\n      <td>2021</td>\n      <td>2021</td>\n      <td>2022</td>\n      <td>2022</td>\n      <td>2022</td>\n      <td>2021</td>\n      <td>2020</td>\n      <td>2021</td>\n      <td>2018</td>\n      <td>2017</td>\n      <td>2017</td>\n      <td>2017</td>\n    </tr>\n    <tr>\n      <th>DAY</th>\n      <td>4</td>\n      <td>16</td>\n      <td>1</td>\n      <td>17</td>\n      <td>2</td>\n      <td>5</td>\n      <td>1</td>\n      <td>10</td>\n      <td>16</td>\n      <td>4</td>\n      <td>7</td>\n      <td>22</td>\n      <td>3</td>\n      <td>17</td>\n      <td>16</td>\n      <td>2</td>\n      <td>3</td>\n      <td>17</td>\n      <td>1</td>\n      <td>1</td>\n    </tr>\n    <tr>\n      <th>DAY_OF_YEAR</th>\n      <td>216</td>\n      <td>75</td>\n      <td>244</td>\n      <td>290</td>\n      <td>184</td>\n      <td>249</td>\n      <td>306</td>\n      <td>10</td>\n      <td>259</td>\n      <td>308</td>\n      <td>38</td>\n      <td>112</td>\n      <td>246</td>\n      <td>76</td>\n      <td>290</td>\n      <td>245</td>\n      <td>276</td>\n      <td>351</td>\n      <td>32</td>\n      <td>274</td>\n    </tr>\n    <tr>\n      <th>MONTH</th>\n      <td>8</td>\n      <td>3</td>\n      <td>9</td>\n      <td>10</td>\n      <td>7</td>\n      <td>9</td>\n      <td>11</td>\n      <td>1</td>\n      <td>9</td>\n      <td>11</td>\n      <td>2</td>\n      <td>4</td>\n      <td>9</td>\n      <td>3</td>\n      <td>10</td>\n      <td>9</td>\n      <td>10</td>\n      <td>12</td>\n      <td>2</td>\n      <td>10</td>\n    </tr>\n    <tr>\n      <th>CRIME_TYPE</th>\n      <td>Non-Violent Crime</td>\n      <td>Non-Violent Crime</td>\n      <td>Violent Crime</td>\n      <td>Violent Crime</td>\n      <td>Violent Crime</td>\n      <td>Violent Crime</td>\n      <td>Violent Crime</td>\n      <td>Violent Crime</td>\n      <td>Violent Crime</td>\n      <td>Violent Crime</td>\n      <td>Violent Crime</td>\n      <td>Violent Crime</td>\n      <td>Non-Violent Crime</td>\n      <td>Non-Violent Crime</td>\n      <td>Violent Crime</td>\n      <td>Violent Crime</td>\n      <td>Violent Crime</td>\n      <td>Non-Violent Crime</td>\n      <td>Violent Crime</td>\n      <td>Non-Violent Crime</td>\n    </tr>\n    <tr>\n      <th>RISK_TYPE</th>\n      <td>Low Risk</td>\n      <td>Low Risk</td>\n      <td>High Risk</td>\n      <td>High Risk</td>\n      <td>High Risk</td>\n      <td>High Risk</td>\n      <td>High Risk</td>\n      <td>High Risk</td>\n      <td>High Risk</td>\n      <td>High Risk</td>\n      <td>High Risk</td>\n      <td>High Risk</td>\n      <td>Low Risk</td>\n      <td>Low Risk</td>\n      <td>High Risk</td>\n      <td>High Risk</td>\n      <td>High Risk</td>\n      <td>Low Risk</td>\n      <td>High Risk</td>\n      <td>Low Risk</td>\n    </tr>\n    <tr>\n      <th>RISK_TYPE_BC</th>\n      <td>0</td>\n      <td>0</td>\n      <td>1</td>\n      <td>1</td>\n      <td>1</td>\n      <td>1</td>\n      <td>1</td>\n      <td>1</td>\n      <td>1</td>\n      <td>1</td>\n      <td>1</td>\n      <td>1</td>\n      <td>0</td>\n      <td>0</td>\n      <td>1</td>\n      <td>1</td>\n      <td>1</td>\n      <td>0</td>\n      <td>1</td>\n      <td>0</td>\n    </tr>\n  </tbody>\n</table>\n</div>"
     },
     "execution_count": 17,
     "metadata": {},
     "output_type": "execute_result"
    }
   ],
   "source": [
    "lrpd['RISK_TYPE_BC'] = lrpd[\"RISK_TYPE\"].map({'High Risk': 1, 'Low Risk': 0})\n",
    "lrpd[:20].T"
   ],
   "metadata": {
    "collapsed": false
   }
  },
  {
   "cell_type": "markdown",
   "source": [
    "### Saving Changes"
   ],
   "metadata": {
    "collapsed": false
   }
  },
  {
   "cell_type": "code",
   "execution_count": 18,
   "outputs": [],
   "source": [
    "# Save the cleaned dataset.\n",
    "lrpd.to_csv(\"../data/lrpd-clean.csv\")"
   ],
   "metadata": {
    "collapsed": false
   }
  },
  {
   "cell_type": "code",
   "execution_count": 19,
   "outputs": [
    {
     "data": {
      "text/plain": "(82691, 15)"
     },
     "execution_count": 19,
     "metadata": {},
     "output_type": "execute_result"
    }
   ],
   "source": [
    "lrpd.shape"
   ],
   "metadata": {
    "collapsed": false
   }
  },
  {
   "cell_type": "code",
   "execution_count": null,
   "outputs": [],
   "source": [],
   "metadata": {
    "collapsed": false
   }
  }
 ],
 "metadata": {
  "kernelspec": {
   "display_name": "Python 3",
   "language": "python",
   "name": "python3"
  },
  "language_info": {
   "codemirror_mode": {
    "name": "ipython",
    "version": 2
   },
   "file_extension": ".py",
   "mimetype": "text/x-python",
   "name": "python",
   "nbconvert_exporter": "python",
   "pygments_lexer": "ipython2",
   "version": "2.7.6"
  }
 },
 "nbformat": 4,
 "nbformat_minor": 0
}
