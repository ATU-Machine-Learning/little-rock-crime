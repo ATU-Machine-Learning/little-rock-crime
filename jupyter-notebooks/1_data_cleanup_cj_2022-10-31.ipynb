{
 "cells": [
  {
   "cell_type": "code",
   "execution_count": 15,
   "metadata": {
    "collapsed": true,
    "pycharm": {
     "name": "#%%\n"
    }
   },
   "outputs": [],
   "source": [
    "import pandas as pd"
   ]
  },
  {
   "cell_type": "markdown",
   "source": [
    "### Request relevant columns from dataset:"
   ],
   "metadata": {
    "collapsed": false,
    "pycharm": {
     "name": "#%% md\n"
    }
   }
  },
  {
   "cell_type": "code",
   "execution_count": 16,
   "outputs": [],
   "source": [
    "requested_columns = [\"INCIDENT_DATE\", \"INCIDENT_NUMBER\", \"LOCATION_DISTRICT\", \"OFFENSE_DESCRIPTION\", \"WEAPON_TYPE\", \"ZIP\", \"LATITUDE\", \"LONGITUDE\"]\n",
    "lrpd = pd.read_csv(\"../data/lrpd.csv\", usecols=requested_columns)\n",
    "lrpd.set_index(\"INCIDENT_NUMBER\", inplace=True)"
   ],
   "metadata": {
    "collapsed": false,
    "pycharm": {
     "name": "#%%\n"
    }
   }
  },
  {
   "cell_type": "markdown",
   "source": [
    "### Drop duplicate rows:"
   ],
   "metadata": {
    "collapsed": false,
    "pycharm": {
     "name": "#%% md\n"
    }
   }
  },
  {
   "cell_type": "code",
   "execution_count": 17,
   "outputs": [
    {
     "name": "stdout",
     "output_type": "stream",
     "text": [
      "Dropped 5511 duplicates!\n"
     ]
    }
   ],
   "source": [
    "prev_shape = lrpd.shape\n",
    "lrpd = lrpd.drop_duplicates(keep='last')\n",
    "new_shape = lrpd.shape\n",
    "\n",
    "print(f'Dropped {(prev_shape[0] - new_shape[0])} duplicates!')"
   ],
   "metadata": {
    "collapsed": false,
    "pycharm": {
     "name": "#%%\n"
    }
   }
  },
  {
   "cell_type": "markdown",
   "source": [
    "### Fill missing values with Number 0:"
   ],
   "metadata": {
    "collapsed": false,
    "pycharm": {
     "name": "#%% md\n"
    }
   }
  },
  {
   "cell_type": "code",
   "execution_count": 18,
   "outputs": [],
   "source": [
    "lrpd = lrpd.fillna(0)"
   ],
   "metadata": {
    "collapsed": false,
    "pycharm": {
     "name": "#%%\n"
    }
   }
  },
  {
   "cell_type": "markdown",
   "source": [
    "### Parse Number 0 and String 1 to UNKNOWN weapon type:"
   ],
   "metadata": {
    "collapsed": false,
    "pycharm": {
     "name": "#%% md\n"
    }
   }
  },
  {
   "cell_type": "code",
   "execution_count": 19,
   "outputs": [],
   "source": [
    "lrpd[\"WEAPON_TYPE\"] = lrpd[\"WEAPON_TYPE\"].replace(0, \"UNKNOWN\")\n",
    "lrpd[\"WEAPON_TYPE\"] = lrpd[\"WEAPON_TYPE\"].replace(\"1\", \"UNKNOWN\")"
   ],
   "metadata": {
    "collapsed": false,
    "pycharm": {
     "name": "#%%\n"
    }
   }
  },
  {
   "cell_type": "markdown",
   "source": [
    "### Convert columns to correct types:"
   ],
   "metadata": {
    "collapsed": false,
    "pycharm": {
     "name": "#%% md\n"
    }
   }
  },
  {
   "cell_type": "code",
   "execution_count": 20,
   "outputs": [
    {
     "data": {
      "text/plain": "                      INCIDENT_DATE  LOCATION_DISTRICT  \\\nINCIDENT_NUMBER                                          \n2021-092971     2021-08-04 10:21:00               72.0   \n2017-029450     2017-03-16 18:30:00               82.0   \n2017-156453     2017-09-01 12:00:00               53.0   \n2019-130717     2019-10-17 21:00:00               51.0   \n2020-073313     2020-07-02 19:10:00               50.0   \n\n                          OFFENSE_DESCRIPTION WEAPON_TYPE      ZIP   LATITUDE  \\\nINCIDENT_NUMBER                                                                 \n2021-092971          THEFT FROM MOTOR VEHICLE     UNKNOWN  72204.0   0.000000   \n2017-029450      THEFT OF MOTOR VEHICLE PARTS     UNKNOWN  72206.0  34.649362   \n2017-156453                              RAPE     UNKNOWN      0.0   0.000000   \n2019-130717                              RAPE     UNKNOWN      0.0   0.000000   \n2020-073313                              RAPE     UNKNOWN      0.0   0.000000   \n\n                 LONGITUDE  \nINCIDENT_NUMBER             \n2021-092971       0.000000  \n2017-029450     -92.301959  \n2017-156453       0.000000  \n2019-130717       0.000000  \n2020-073313       0.000000  ",
      "text/html": "<div>\n<style scoped>\n    .dataframe tbody tr th:only-of-type {\n        vertical-align: middle;\n    }\n\n    .dataframe tbody tr th {\n        vertical-align: top;\n    }\n\n    .dataframe thead th {\n        text-align: right;\n    }\n</style>\n<table border=\"1\" class=\"dataframe\">\n  <thead>\n    <tr style=\"text-align: right;\">\n      <th></th>\n      <th>INCIDENT_DATE</th>\n      <th>LOCATION_DISTRICT</th>\n      <th>OFFENSE_DESCRIPTION</th>\n      <th>WEAPON_TYPE</th>\n      <th>ZIP</th>\n      <th>LATITUDE</th>\n      <th>LONGITUDE</th>\n    </tr>\n    <tr>\n      <th>INCIDENT_NUMBER</th>\n      <th></th>\n      <th></th>\n      <th></th>\n      <th></th>\n      <th></th>\n      <th></th>\n      <th></th>\n    </tr>\n  </thead>\n  <tbody>\n    <tr>\n      <th>2021-092971</th>\n      <td>2021-08-04 10:21:00</td>\n      <td>72.0</td>\n      <td>THEFT FROM MOTOR VEHICLE</td>\n      <td>UNKNOWN</td>\n      <td>72204.0</td>\n      <td>0.000000</td>\n      <td>0.000000</td>\n    </tr>\n    <tr>\n      <th>2017-029450</th>\n      <td>2017-03-16 18:30:00</td>\n      <td>82.0</td>\n      <td>THEFT OF MOTOR VEHICLE PARTS</td>\n      <td>UNKNOWN</td>\n      <td>72206.0</td>\n      <td>34.649362</td>\n      <td>-92.301959</td>\n    </tr>\n    <tr>\n      <th>2017-156453</th>\n      <td>2017-09-01 12:00:00</td>\n      <td>53.0</td>\n      <td>RAPE</td>\n      <td>UNKNOWN</td>\n      <td>0.0</td>\n      <td>0.000000</td>\n      <td>0.000000</td>\n    </tr>\n    <tr>\n      <th>2019-130717</th>\n      <td>2019-10-17 21:00:00</td>\n      <td>51.0</td>\n      <td>RAPE</td>\n      <td>UNKNOWN</td>\n      <td>0.0</td>\n      <td>0.000000</td>\n      <td>0.000000</td>\n    </tr>\n    <tr>\n      <th>2020-073313</th>\n      <td>2020-07-02 19:10:00</td>\n      <td>50.0</td>\n      <td>RAPE</td>\n      <td>UNKNOWN</td>\n      <td>0.0</td>\n      <td>0.000000</td>\n      <td>0.000000</td>\n    </tr>\n  </tbody>\n</table>\n</div>"
     },
     "execution_count": 20,
     "metadata": {},
     "output_type": "execute_result"
    }
   ],
   "source": [
    "lrpd[\"ZIP\"] = pd.to_numeric(lrpd[\"ZIP\"])\n",
    "lrpd[\"LATITUDE\"] = pd.to_numeric(lrpd[\"LATITUDE\"])\n",
    "lrpd[\"LONGITUDE\"] = pd.to_numeric(lrpd[\"LONGITUDE\"])\n",
    "lrpd[\"INCIDENT_DATE\"] = pd.to_datetime(lrpd[\"INCIDENT_DATE\"])\n",
    "lrpd[\"LOCATION_DISTRICT\"] = pd.to_numeric(lrpd[\"LOCATION_DISTRICT\"])\n",
    "\n",
    "lrpd.head()"
   ],
   "metadata": {
    "collapsed": false,
    "pycharm": {
     "name": "#%%\n"
    }
   }
  },
  {
   "cell_type": "markdown",
   "source": [],
   "metadata": {
    "collapsed": false,
    "pycharm": {
     "name": "#%% md\n"
    }
   }
  },
  {
   "cell_type": "code",
   "execution_count": 21,
   "outputs": [
    {
     "data": {
      "text/plain": "                      INCIDENT_DATE  LOCATION_DISTRICT  \\\nINCIDENT_NUMBER                                          \n2021-092971     2021-08-04 10:21:00               72.0   \n2017-029450     2017-03-16 18:30:00               82.0   \n2017-156453     2017-09-01 12:00:00               53.0   \n2019-130717     2019-10-17 21:00:00               51.0   \n2020-073313     2020-07-02 19:10:00               50.0   \n\n                          OFFENSE_DESCRIPTION WEAPON_TYPE      ZIP   LATITUDE  \\\nINCIDENT_NUMBER                                                                 \n2021-092971          THEFT FROM MOTOR VEHICLE     UNKNOWN  72204.0   0.000000   \n2017-029450      THEFT OF MOTOR VEHICLE PARTS     UNKNOWN  72206.0  34.649362   \n2017-156453                              RAPE     UNKNOWN      0.0   0.000000   \n2019-130717                              RAPE     UNKNOWN      0.0   0.000000   \n2020-073313                              RAPE     UNKNOWN      0.0   0.000000   \n\n                 LONGITUDE  WEEK_OF_MONTH  YEAR  DAY  DAY_OF_YEAR  \nINCIDENT_NUMBER                                                    \n2021-092971       0.000000              0  2021    4          216  \n2017-029450     -92.301959              2  2017   16           75  \n2017-156453       0.000000              0  2017    1          244  \n2019-130717       0.000000              2  2019   17          290  \n2020-073313       0.000000              0  2020    2          184  ",
      "text/html": "<div>\n<style scoped>\n    .dataframe tbody tr th:only-of-type {\n        vertical-align: middle;\n    }\n\n    .dataframe tbody tr th {\n        vertical-align: top;\n    }\n\n    .dataframe thead th {\n        text-align: right;\n    }\n</style>\n<table border=\"1\" class=\"dataframe\">\n  <thead>\n    <tr style=\"text-align: right;\">\n      <th></th>\n      <th>INCIDENT_DATE</th>\n      <th>LOCATION_DISTRICT</th>\n      <th>OFFENSE_DESCRIPTION</th>\n      <th>WEAPON_TYPE</th>\n      <th>ZIP</th>\n      <th>LATITUDE</th>\n      <th>LONGITUDE</th>\n      <th>WEEK_OF_MONTH</th>\n      <th>YEAR</th>\n      <th>DAY</th>\n      <th>DAY_OF_YEAR</th>\n    </tr>\n    <tr>\n      <th>INCIDENT_NUMBER</th>\n      <th></th>\n      <th></th>\n      <th></th>\n      <th></th>\n      <th></th>\n      <th></th>\n      <th></th>\n      <th></th>\n      <th></th>\n      <th></th>\n      <th></th>\n    </tr>\n  </thead>\n  <tbody>\n    <tr>\n      <th>2021-092971</th>\n      <td>2021-08-04 10:21:00</td>\n      <td>72.0</td>\n      <td>THEFT FROM MOTOR VEHICLE</td>\n      <td>UNKNOWN</td>\n      <td>72204.0</td>\n      <td>0.000000</td>\n      <td>0.000000</td>\n      <td>0</td>\n      <td>2021</td>\n      <td>4</td>\n      <td>216</td>\n    </tr>\n    <tr>\n      <th>2017-029450</th>\n      <td>2017-03-16 18:30:00</td>\n      <td>82.0</td>\n      <td>THEFT OF MOTOR VEHICLE PARTS</td>\n      <td>UNKNOWN</td>\n      <td>72206.0</td>\n      <td>34.649362</td>\n      <td>-92.301959</td>\n      <td>2</td>\n      <td>2017</td>\n      <td>16</td>\n      <td>75</td>\n    </tr>\n    <tr>\n      <th>2017-156453</th>\n      <td>2017-09-01 12:00:00</td>\n      <td>53.0</td>\n      <td>RAPE</td>\n      <td>UNKNOWN</td>\n      <td>0.0</td>\n      <td>0.000000</td>\n      <td>0.000000</td>\n      <td>0</td>\n      <td>2017</td>\n      <td>1</td>\n      <td>244</td>\n    </tr>\n    <tr>\n      <th>2019-130717</th>\n      <td>2019-10-17 21:00:00</td>\n      <td>51.0</td>\n      <td>RAPE</td>\n      <td>UNKNOWN</td>\n      <td>0.0</td>\n      <td>0.000000</td>\n      <td>0.000000</td>\n      <td>2</td>\n      <td>2019</td>\n      <td>17</td>\n      <td>290</td>\n    </tr>\n    <tr>\n      <th>2020-073313</th>\n      <td>2020-07-02 19:10:00</td>\n      <td>50.0</td>\n      <td>RAPE</td>\n      <td>UNKNOWN</td>\n      <td>0.0</td>\n      <td>0.000000</td>\n      <td>0.000000</td>\n      <td>0</td>\n      <td>2020</td>\n      <td>2</td>\n      <td>184</td>\n    </tr>\n  </tbody>\n</table>\n</div>"
     },
     "execution_count": 21,
     "metadata": {},
     "output_type": "execute_result"
    }
   ],
   "source": [
    "lrpd[\"WEEK_OF_MONTH\"] = lrpd[\"INCIDENT_DATE\"].dt.day // 7\n",
    "lrpd[\"YEAR\"] = lrpd[\"INCIDENT_DATE\"].dt.year\n",
    "lrpd[\"DAY\"] = lrpd[\"INCIDENT_DATE\"].dt.day\n",
    "lrpd[\"DAY_OF_YEAR\"] = lrpd[\"INCIDENT_DATE\"].dt.dayofyear\n",
    "lrpd.head()\n"
   ],
   "metadata": {
    "collapsed": false,
    "pycharm": {
     "name": "#%%\n"
    }
   }
  },
  {
   "cell_type": "markdown",
   "source": [
    "### Crime Risk Analysis"
   ],
   "metadata": {
    "collapsed": false,
    "pycharm": {
     "name": "#%% md\n"
    }
   }
  },
  {
   "cell_type": "code",
   "execution_count": 22,
   "outputs": [],
   "source": [
    "all_crimes = lrpd[\"OFFENSE_DESCRIPTION\"].unique()\n",
    "all_weapons = lrpd[\"WEAPON_TYPE\"].unique()"
   ],
   "metadata": {
    "collapsed": false,
    "pycharm": {
     "name": "#%%\n"
    }
   }
  },
  {
   "cell_type": "code",
   "execution_count": 23,
   "outputs": [],
   "source": [
    "violent_crimes = ['RAPE', 'AGGRAVATED ASSAULT', 'ALL OTHER LARCENY', 'ROBBERY', 'BURGLARY/B&E',\n",
    "                  'MURDER & NONNEGLIGENT MANSLAUGHTER']\n",
    "nonviolent_crimes = ['THEFT FROM MOTOR VEHICLE', 'MOTOR VEHICLE THEFT', 'THEFT OF MOTOR VEHICLE PARTS',\n",
    "                     'SHOPLIFTING', 'THEFT FROM BUILDING', 'POCKET-PICKING', 'THEFT FROM COIN-OPERATED MACHINE',\n",
    "                     'PURSE-SNATCHING']"
   ],
   "metadata": {
    "collapsed": false,
    "pycharm": {
     "name": "#%%\n"
    }
   }
  },
  {
   "cell_type": "code",
   "execution_count": 24,
   "outputs": [],
   "source": [
    "def determine_crime_type(crime):\n",
    "    if crime in violent_crimes:\n",
    "        return 'Violent Crime'\n",
    "    elif crime in nonviolent_crimes:\n",
    "        return 'Non-Violent Crime'\n",
    "    else:\n",
    "        return 'Crime Type Unknown'"
   ],
   "metadata": {
    "collapsed": false,
    "pycharm": {
     "name": "#%%\n"
    }
   }
  },
  {
   "cell_type": "code",
   "execution_count": 25,
   "outputs": [],
   "source": [
    "def determine_risk_type(crime):\n",
    "    print(crime)"
   ],
   "metadata": {
    "collapsed": false,
    "pycharm": {
     "name": "#%%\n"
    }
   }
  },
  {
   "cell_type": "code",
   "execution_count": 26,
   "outputs": [],
   "source": [
    "lrpd[\"CRIME_TYPE\"] = lrpd[\"OFFENSE_DESCRIPTION\"].apply(determine_crime_type)"
   ],
   "metadata": {
    "collapsed": false,
    "pycharm": {
     "name": "#%%\n"
    }
   }
  },
  {
   "cell_type": "code",
   "execution_count": 27,
   "outputs": [],
   "source": [
    "lrpd.loc[(lrpd['CRIME_TYPE'] == 'Violent Crime') | (\n",
    "        lrpd['WEAPON_TYPE'] != 'UNKNOWN'), \"RISK_TYPE\"] = \"High Risk\"\n",
    "lrpd.loc[(lrpd['CRIME_TYPE'] == 'Violent Crime') & (\n",
    "        lrpd['WEAPON_TYPE'] != 'UNKNOWN'), \"RISK_TYPE\"] = \"High Risk\"\n",
    "lrpd.loc[(lrpd['CRIME_TYPE'] == 'Non-Violent Crime') & (\n",
    "        lrpd['WEAPON_TYPE'] != 'UNKNOWN'), \"RISK_TYPE\"] = \"High Risk\"\n",
    "lrpd.loc[(lrpd['CRIME_TYPE'] == 'Non-Violent Crime') & (\n",
    "        lrpd['WEAPON_TYPE'] == 'UNKNOWN'), \"RISK_TYPE\"] = \"Low Risk\""
   ],
   "metadata": {
    "collapsed": false,
    "pycharm": {
     "name": "#%%\n"
    }
   }
  },
  {
   "cell_type": "markdown",
   "source": [
    "### Binary Classification"
   ],
   "metadata": {
    "collapsed": false,
    "pycharm": {
     "name": "#%% md\n"
    }
   }
  },
  {
   "cell_type": "code",
   "execution_count": 28,
   "outputs": [],
   "source": [
    "lrpd['RISK_TYPE_BC'] = lrpd[\"RISK_TYPE\"].map({'High Risk': 1, 'Low Risk': 0})"
   ],
   "metadata": {
    "collapsed": false,
    "pycharm": {
     "name": "#%%\n"
    }
   }
  },
  {
   "cell_type": "markdown",
   "source": [
    "### Saving Changes"
   ],
   "metadata": {
    "collapsed": false,
    "pycharm": {
     "name": "#%% md\n"
    }
   }
  },
  {
   "cell_type": "code",
   "execution_count": 29,
   "outputs": [],
   "source": [
    "# Save the cleaned dataset.\n",
    "lrpd.to_csv(\"../data/lrpd-clean.csv\")"
   ],
   "metadata": {
    "collapsed": false,
    "pycharm": {
     "name": "#%%\n"
    }
   }
  }
 ],
 "metadata": {
  "kernelspec": {
   "display_name": "Python 3",
   "language": "python",
   "name": "python3"
  },
  "language_info": {
   "codemirror_mode": {
    "name": "ipython",
    "version": 2
   },
   "file_extension": ".py",
   "mimetype": "text/x-python",
   "name": "python",
   "nbconvert_exporter": "python",
   "pygments_lexer": "ipython2",
   "version": "2.7.6"
  }
 },
 "nbformat": 4,
 "nbformat_minor": 0
}