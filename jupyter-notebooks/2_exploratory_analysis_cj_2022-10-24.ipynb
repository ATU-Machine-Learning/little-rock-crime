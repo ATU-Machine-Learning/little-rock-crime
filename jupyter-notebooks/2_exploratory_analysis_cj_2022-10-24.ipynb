{
 "cells": [
  {
   "cell_type": "code",
   "execution_count": 35,
   "metadata": {
    "collapsed": true
   },
   "outputs": [],
   "source": [
    "import pandas as pd\n",
    "import numpy as np\n",
    "import matplotlib.pyplot as plt\n",
    "import seaborn as sns\n",
    "%matplotlib inline"
   ]
  },
  {
   "cell_type": "code",
   "execution_count": 21,
   "outputs": [],
   "source": [
    "lrpd = pd.read_csv(\"../data/lrpd-clean.csv\")\n",
    "lrpd = lrpd.set_index(\"INCIDENT_NUMBER\")"
   ],
   "metadata": {
    "collapsed": false
   }
  },
  {
   "cell_type": "code",
   "execution_count": 22,
   "outputs": [
    {
     "data": {
      "text/plain": "                INCIDENT_DATE  LOCATION_DISTRICT  \\\nINCIDENT_NUMBER                                    \n2021-092971        08/04/2021               72.0   \n2017-029450        03/16/2017               82.0   \n2017-156453        09/01/2017               53.0   \n2019-130717        10/17/2019               51.0   \n2020-073313        07/02/2020               50.0   \n\n                          OFFENSE_DESCRIPTION WEAPON_TYPE  \\\nINCIDENT_NUMBER                                             \n2021-092971          THEFT FROM MOTOR VEHICLE   NO WEAPON   \n2017-029450      THEFT OF MOTOR VEHICLE PARTS   NO WEAPON   \n2017-156453                              RAPE   NO WEAPON   \n2019-130717                              RAPE   NO WEAPON   \n2020-073313                              RAPE   NO WEAPON   \n\n                       INCIDENT_LOCATION      ZIP   LATITUDE  LONGITUDE  \\\nINCIDENT_NUMBER                                                           \n2021-092971              15601  KANIS RD  72204.0   0.000000   0.000000   \n2017-029450      10801 IRONTON CUTOFF RD  72206.0  34.649362 -92.301959   \n2017-156453                            0      0.0   0.000000   0.000000   \n2019-130717                            0      0.0   0.000000   0.000000   \n2020-073313                            0      0.0   0.000000   0.000000   \n\n                INCIDENT_TIME         CRIME_TYPE  RISK_TYPE  \nINCIDENT_NUMBER                                              \n2021-092971          10:21 AM  Non-Violent Crime   Low Risk  \n2017-029450          06:30 PM  Non-Violent Crime   Low Risk  \n2017-156453          12:00 PM      Violent Crime  High Risk  \n2019-130717          09:00 PM      Violent Crime  High Risk  \n2020-073313          07:10 PM      Violent Crime  High Risk  ",
      "text/html": "<div>\n<style scoped>\n    .dataframe tbody tr th:only-of-type {\n        vertical-align: middle;\n    }\n\n    .dataframe tbody tr th {\n        vertical-align: top;\n    }\n\n    .dataframe thead th {\n        text-align: right;\n    }\n</style>\n<table border=\"1\" class=\"dataframe\">\n  <thead>\n    <tr style=\"text-align: right;\">\n      <th></th>\n      <th>INCIDENT_DATE</th>\n      <th>LOCATION_DISTRICT</th>\n      <th>OFFENSE_DESCRIPTION</th>\n      <th>WEAPON_TYPE</th>\n      <th>INCIDENT_LOCATION</th>\n      <th>ZIP</th>\n      <th>LATITUDE</th>\n      <th>LONGITUDE</th>\n      <th>INCIDENT_TIME</th>\n      <th>CRIME_TYPE</th>\n      <th>RISK_TYPE</th>\n    </tr>\n    <tr>\n      <th>INCIDENT_NUMBER</th>\n      <th></th>\n      <th></th>\n      <th></th>\n      <th></th>\n      <th></th>\n      <th></th>\n      <th></th>\n      <th></th>\n      <th></th>\n      <th></th>\n      <th></th>\n    </tr>\n  </thead>\n  <tbody>\n    <tr>\n      <th>2021-092971</th>\n      <td>08/04/2021</td>\n      <td>72.0</td>\n      <td>THEFT FROM MOTOR VEHICLE</td>\n      <td>NO WEAPON</td>\n      <td>15601  KANIS RD</td>\n      <td>72204.0</td>\n      <td>0.000000</td>\n      <td>0.000000</td>\n      <td>10:21 AM</td>\n      <td>Non-Violent Crime</td>\n      <td>Low Risk</td>\n    </tr>\n    <tr>\n      <th>2017-029450</th>\n      <td>03/16/2017</td>\n      <td>82.0</td>\n      <td>THEFT OF MOTOR VEHICLE PARTS</td>\n      <td>NO WEAPON</td>\n      <td>10801 IRONTON CUTOFF RD</td>\n      <td>72206.0</td>\n      <td>34.649362</td>\n      <td>-92.301959</td>\n      <td>06:30 PM</td>\n      <td>Non-Violent Crime</td>\n      <td>Low Risk</td>\n    </tr>\n    <tr>\n      <th>2017-156453</th>\n      <td>09/01/2017</td>\n      <td>53.0</td>\n      <td>RAPE</td>\n      <td>NO WEAPON</td>\n      <td>0</td>\n      <td>0.0</td>\n      <td>0.000000</td>\n      <td>0.000000</td>\n      <td>12:00 PM</td>\n      <td>Violent Crime</td>\n      <td>High Risk</td>\n    </tr>\n    <tr>\n      <th>2019-130717</th>\n      <td>10/17/2019</td>\n      <td>51.0</td>\n      <td>RAPE</td>\n      <td>NO WEAPON</td>\n      <td>0</td>\n      <td>0.0</td>\n      <td>0.000000</td>\n      <td>0.000000</td>\n      <td>09:00 PM</td>\n      <td>Violent Crime</td>\n      <td>High Risk</td>\n    </tr>\n    <tr>\n      <th>2020-073313</th>\n      <td>07/02/2020</td>\n      <td>50.0</td>\n      <td>RAPE</td>\n      <td>NO WEAPON</td>\n      <td>0</td>\n      <td>0.0</td>\n      <td>0.000000</td>\n      <td>0.000000</td>\n      <td>07:10 PM</td>\n      <td>Violent Crime</td>\n      <td>High Risk</td>\n    </tr>\n  </tbody>\n</table>\n</div>"
     },
     "execution_count": 22,
     "metadata": {},
     "output_type": "execute_result"
    }
   ],
   "source": [
    "lrpd.head()"
   ],
   "metadata": {
    "collapsed": false
   }
  },
  {
   "cell_type": "code",
   "execution_count": 23,
   "outputs": [
    {
     "data": {
      "text/plain": "(81833, 11)"
     },
     "execution_count": 23,
     "metadata": {},
     "output_type": "execute_result"
    }
   ],
   "source": [
    "lrpd.shape"
   ],
   "metadata": {
    "collapsed": false
   }
  },
  {
   "cell_type": "code",
   "execution_count": 24,
   "outputs": [],
   "source": [
    "nvcs = lrpd.loc[lrpd[\"CRIME_TYPE\"] == \"Non-Violent Crime\"]"
   ],
   "metadata": {
    "collapsed": false
   }
  },
  {
   "cell_type": "code",
   "execution_count": 25,
   "outputs": [],
   "source": [
    "nvhr = nvcs.loc[nvcs[\"WEAPON_TYPE\"] != \"NO WEAPON\"]"
   ],
   "metadata": {
    "collapsed": false
   }
  },
  {
   "cell_type": "code",
   "execution_count": 26,
   "outputs": [
    {
     "data": {
      "text/plain": "                INCIDENT_DATE  LOCATION_DISTRICT       OFFENSE_DESCRIPTION  \\\nINCIDENT_NUMBER                                                              \n2020-113495        09/29/2020               81.0  THEFT FROM MOTOR VEHICLE   \n2017-081711        07/06/2017               91.0       MOTOR VEHICLE THEFT   \n2017-084112        07/11/2017               81.0            POCKET-PICKING   \n2018-059174        05/17/2018               93.0       THEFT FROM BUILDING   \n2017-089088        07/22/2017               93.0       THEFT FROM BUILDING   \n\n                                          WEAPON_TYPE      INCIDENT_LOCATION  \\\nINCIDENT_NUMBER                                                                \n2020-113495                                     OTHER         6101 W 65TH ST   \n2017-081711                                   UNKNOWN     8300 WINTERWOOD DR   \n2017-084112      PERSONAL WEAPONS (HANDS, FISTS, ETC)  8824 GEYER SPRINGS RD   \n2018-059174      PERSONAL WEAPONS (HANDS, FISTS, ETC)              8 PAR CIR   \n2017-089088      PERSONAL WEAPONS (HANDS, FISTS, ETC)    11700 INTERSTATE 30   \n\n                     ZIP   LATITUDE  LONGITUDE INCIDENT_TIME  \\\nINCIDENT_NUMBER                                                \n2020-113495      72209.0  34.690326 -92.343993      12:03 PM   \n2017-081711      72209.0  34.660416 -92.370445      02:00 PM   \n2017-084112      72209.0  34.669221 -92.344341      12:00 PM   \n2018-059174      72210.0  34.672579 -92.429148      03:00 PM   \n2017-089088      72210.0  34.657516 -92.407639      09:46 AM   \n\n                        CRIME_TYPE  RISK_TYPE  \nINCIDENT_NUMBER                                \n2020-113495      Non-Violent Crime  High Risk  \n2017-081711      Non-Violent Crime  High Risk  \n2017-084112      Non-Violent Crime  High Risk  \n2018-059174      Non-Violent Crime  High Risk  \n2017-089088      Non-Violent Crime  High Risk  ",
      "text/html": "<div>\n<style scoped>\n    .dataframe tbody tr th:only-of-type {\n        vertical-align: middle;\n    }\n\n    .dataframe tbody tr th {\n        vertical-align: top;\n    }\n\n    .dataframe thead th {\n        text-align: right;\n    }\n</style>\n<table border=\"1\" class=\"dataframe\">\n  <thead>\n    <tr style=\"text-align: right;\">\n      <th></th>\n      <th>INCIDENT_DATE</th>\n      <th>LOCATION_DISTRICT</th>\n      <th>OFFENSE_DESCRIPTION</th>\n      <th>WEAPON_TYPE</th>\n      <th>INCIDENT_LOCATION</th>\n      <th>ZIP</th>\n      <th>LATITUDE</th>\n      <th>LONGITUDE</th>\n      <th>INCIDENT_TIME</th>\n      <th>CRIME_TYPE</th>\n      <th>RISK_TYPE</th>\n    </tr>\n    <tr>\n      <th>INCIDENT_NUMBER</th>\n      <th></th>\n      <th></th>\n      <th></th>\n      <th></th>\n      <th></th>\n      <th></th>\n      <th></th>\n      <th></th>\n      <th></th>\n      <th></th>\n      <th></th>\n    </tr>\n  </thead>\n  <tbody>\n    <tr>\n      <th>2020-113495</th>\n      <td>09/29/2020</td>\n      <td>81.0</td>\n      <td>THEFT FROM MOTOR VEHICLE</td>\n      <td>OTHER</td>\n      <td>6101 W 65TH ST</td>\n      <td>72209.0</td>\n      <td>34.690326</td>\n      <td>-92.343993</td>\n      <td>12:03 PM</td>\n      <td>Non-Violent Crime</td>\n      <td>High Risk</td>\n    </tr>\n    <tr>\n      <th>2017-081711</th>\n      <td>07/06/2017</td>\n      <td>91.0</td>\n      <td>MOTOR VEHICLE THEFT</td>\n      <td>UNKNOWN</td>\n      <td>8300 WINTERWOOD DR</td>\n      <td>72209.0</td>\n      <td>34.660416</td>\n      <td>-92.370445</td>\n      <td>02:00 PM</td>\n      <td>Non-Violent Crime</td>\n      <td>High Risk</td>\n    </tr>\n    <tr>\n      <th>2017-084112</th>\n      <td>07/11/2017</td>\n      <td>81.0</td>\n      <td>POCKET-PICKING</td>\n      <td>PERSONAL WEAPONS (HANDS, FISTS, ETC)</td>\n      <td>8824 GEYER SPRINGS RD</td>\n      <td>72209.0</td>\n      <td>34.669221</td>\n      <td>-92.344341</td>\n      <td>12:00 PM</td>\n      <td>Non-Violent Crime</td>\n      <td>High Risk</td>\n    </tr>\n    <tr>\n      <th>2018-059174</th>\n      <td>05/17/2018</td>\n      <td>93.0</td>\n      <td>THEFT FROM BUILDING</td>\n      <td>PERSONAL WEAPONS (HANDS, FISTS, ETC)</td>\n      <td>8 PAR CIR</td>\n      <td>72210.0</td>\n      <td>34.672579</td>\n      <td>-92.429148</td>\n      <td>03:00 PM</td>\n      <td>Non-Violent Crime</td>\n      <td>High Risk</td>\n    </tr>\n    <tr>\n      <th>2017-089088</th>\n      <td>07/22/2017</td>\n      <td>93.0</td>\n      <td>THEFT FROM BUILDING</td>\n      <td>PERSONAL WEAPONS (HANDS, FISTS, ETC)</td>\n      <td>11700 INTERSTATE 30</td>\n      <td>72210.0</td>\n      <td>34.657516</td>\n      <td>-92.407639</td>\n      <td>09:46 AM</td>\n      <td>Non-Violent Crime</td>\n      <td>High Risk</td>\n    </tr>\n  </tbody>\n</table>\n</div>"
     },
     "execution_count": 26,
     "metadata": {},
     "output_type": "execute_result"
    }
   ],
   "source": [
    "nvhr.head()"
   ],
   "metadata": {
    "collapsed": false
   }
  },
  {
   "cell_type": "code",
   "execution_count": 27,
   "outputs": [],
   "source": [
    "vcs = lrpd.loc[lrpd[\"CRIME_TYPE\"] == \"Violent Crime\"]"
   ],
   "metadata": {
    "collapsed": false
   }
  },
  {
   "cell_type": "code",
   "execution_count": 28,
   "outputs": [],
   "source": [
    "vlr = vcs.loc[vcs[\"RISK_TYPE\"] == \"Low Risk\"]"
   ],
   "metadata": {
    "collapsed": false
   }
  },
  {
   "cell_type": "code",
   "execution_count": 29,
   "outputs": [
    {
     "data": {
      "text/plain": "Empty DataFrame\nColumns: [INCIDENT_DATE, LOCATION_DISTRICT, OFFENSE_DESCRIPTION, WEAPON_TYPE, INCIDENT_LOCATION, ZIP, LATITUDE, LONGITUDE, INCIDENT_TIME, CRIME_TYPE, RISK_TYPE]\nIndex: []",
      "text/html": "<div>\n<style scoped>\n    .dataframe tbody tr th:only-of-type {\n        vertical-align: middle;\n    }\n\n    .dataframe tbody tr th {\n        vertical-align: top;\n    }\n\n    .dataframe thead th {\n        text-align: right;\n    }\n</style>\n<table border=\"1\" class=\"dataframe\">\n  <thead>\n    <tr style=\"text-align: right;\">\n      <th></th>\n      <th>INCIDENT_DATE</th>\n      <th>LOCATION_DISTRICT</th>\n      <th>OFFENSE_DESCRIPTION</th>\n      <th>WEAPON_TYPE</th>\n      <th>INCIDENT_LOCATION</th>\n      <th>ZIP</th>\n      <th>LATITUDE</th>\n      <th>LONGITUDE</th>\n      <th>INCIDENT_TIME</th>\n      <th>CRIME_TYPE</th>\n      <th>RISK_TYPE</th>\n    </tr>\n    <tr>\n      <th>INCIDENT_NUMBER</th>\n      <th></th>\n      <th></th>\n      <th></th>\n      <th></th>\n      <th></th>\n      <th></th>\n      <th></th>\n      <th></th>\n      <th></th>\n      <th></th>\n      <th></th>\n    </tr>\n  </thead>\n  <tbody>\n  </tbody>\n</table>\n</div>"
     },
     "execution_count": 29,
     "metadata": {},
     "output_type": "execute_result"
    }
   ],
   "source": [
    "vlr"
   ],
   "metadata": {
    "collapsed": false
   }
  },
  {
   "cell_type": "markdown",
   "source": [
    "# What weapons are used the most in Violent Crimes?"
   ],
   "metadata": {
    "collapsed": false
   }
  },
  {
   "cell_type": "code",
   "execution_count": 31,
   "outputs": [
    {
     "data": {
      "text/plain": "                INCIDENT_DATE  LOCATION_DISTRICT OFFENSE_DESCRIPTION  \\\nINCIDENT_NUMBER                                                        \n2017-156453        09/01/2017               53.0                RAPE   \n2019-130717        10/17/2019               51.0                RAPE   \n2020-073313        07/02/2020               50.0                RAPE   \n2020-103105        09/05/2020               40.0                RAPE   \n2020-127857        11/01/2020               54.0                RAPE   \n\n                                          WEAPON_TYPE INCIDENT_LOCATION  ZIP  \\\nINCIDENT_NUMBER                                                                \n2017-156453                                 NO WEAPON                 0  0.0   \n2019-130717                                 NO WEAPON                 0  0.0   \n2020-073313                                 NO WEAPON                 0  0.0   \n2020-103105      PERSONAL WEAPONS (HANDS, FISTS, ETC)                 0  0.0   \n2020-127857                                   UNKNOWN                 0  0.0   \n\n                 LATITUDE  LONGITUDE INCIDENT_TIME     CRIME_TYPE  RISK_TYPE  \nINCIDENT_NUMBER                                                               \n2017-156453           0.0        0.0      12:00 PM  Violent Crime  High Risk  \n2019-130717           0.0        0.0      09:00 PM  Violent Crime  High Risk  \n2020-073313           0.0        0.0      07:10 PM  Violent Crime  High Risk  \n2020-103105           0.0        0.0      11:29 PM  Violent Crime  High Risk  \n2020-127857           0.0        0.0      12:09 AM  Violent Crime  High Risk  ",
      "text/html": "<div>\n<style scoped>\n    .dataframe tbody tr th:only-of-type {\n        vertical-align: middle;\n    }\n\n    .dataframe tbody tr th {\n        vertical-align: top;\n    }\n\n    .dataframe thead th {\n        text-align: right;\n    }\n</style>\n<table border=\"1\" class=\"dataframe\">\n  <thead>\n    <tr style=\"text-align: right;\">\n      <th></th>\n      <th>INCIDENT_DATE</th>\n      <th>LOCATION_DISTRICT</th>\n      <th>OFFENSE_DESCRIPTION</th>\n      <th>WEAPON_TYPE</th>\n      <th>INCIDENT_LOCATION</th>\n      <th>ZIP</th>\n      <th>LATITUDE</th>\n      <th>LONGITUDE</th>\n      <th>INCIDENT_TIME</th>\n      <th>CRIME_TYPE</th>\n      <th>RISK_TYPE</th>\n    </tr>\n    <tr>\n      <th>INCIDENT_NUMBER</th>\n      <th></th>\n      <th></th>\n      <th></th>\n      <th></th>\n      <th></th>\n      <th></th>\n      <th></th>\n      <th></th>\n      <th></th>\n      <th></th>\n      <th></th>\n    </tr>\n  </thead>\n  <tbody>\n    <tr>\n      <th>2017-156453</th>\n      <td>09/01/2017</td>\n      <td>53.0</td>\n      <td>RAPE</td>\n      <td>NO WEAPON</td>\n      <td>0</td>\n      <td>0.0</td>\n      <td>0.0</td>\n      <td>0.0</td>\n      <td>12:00 PM</td>\n      <td>Violent Crime</td>\n      <td>High Risk</td>\n    </tr>\n    <tr>\n      <th>2019-130717</th>\n      <td>10/17/2019</td>\n      <td>51.0</td>\n      <td>RAPE</td>\n      <td>NO WEAPON</td>\n      <td>0</td>\n      <td>0.0</td>\n      <td>0.0</td>\n      <td>0.0</td>\n      <td>09:00 PM</td>\n      <td>Violent Crime</td>\n      <td>High Risk</td>\n    </tr>\n    <tr>\n      <th>2020-073313</th>\n      <td>07/02/2020</td>\n      <td>50.0</td>\n      <td>RAPE</td>\n      <td>NO WEAPON</td>\n      <td>0</td>\n      <td>0.0</td>\n      <td>0.0</td>\n      <td>0.0</td>\n      <td>07:10 PM</td>\n      <td>Violent Crime</td>\n      <td>High Risk</td>\n    </tr>\n    <tr>\n      <th>2020-103105</th>\n      <td>09/05/2020</td>\n      <td>40.0</td>\n      <td>RAPE</td>\n      <td>PERSONAL WEAPONS (HANDS, FISTS, ETC)</td>\n      <td>0</td>\n      <td>0.0</td>\n      <td>0.0</td>\n      <td>0.0</td>\n      <td>11:29 PM</td>\n      <td>Violent Crime</td>\n      <td>High Risk</td>\n    </tr>\n    <tr>\n      <th>2020-127857</th>\n      <td>11/01/2020</td>\n      <td>54.0</td>\n      <td>RAPE</td>\n      <td>UNKNOWN</td>\n      <td>0</td>\n      <td>0.0</td>\n      <td>0.0</td>\n      <td>0.0</td>\n      <td>12:09 AM</td>\n      <td>Violent Crime</td>\n      <td>High Risk</td>\n    </tr>\n  </tbody>\n</table>\n</div>"
     },
     "execution_count": 31,
     "metadata": {},
     "output_type": "execute_result"
    }
   ],
   "source": [
    "vcs.head()"
   ],
   "metadata": {
    "collapsed": false
   }
  },
  {
   "cell_type": "code",
   "execution_count": 58,
   "outputs": [],
   "source": [
    "labels = [\"None\", \"Personal\", \"Handgun\", \"Firearm\", \"Knife\", \"Motor Vehicle\", \"Blunt Object\", \"Unknown\", \"Other\", \"Rifle\", \"Shotgun\", \"Other Firearm\", \"Drugs\", \"Fire\", \"Asphyxiation\", \"Explosives\", \"Poison\"]\n",
    "data = vcs[\"WEAPON_TYPE\"].value_counts()"
   ],
   "metadata": {
    "collapsed": false
   }
  },
  {
   "cell_type": "code",
   "execution_count": 59,
   "outputs": [],
   "source": [
    "colors = sns.color_palette('pastel')[:5]"
   ],
   "metadata": {
    "collapsed": false
   }
  },
  {
   "cell_type": "code",
   "execution_count": 67,
   "outputs": [
    {
     "data": {
      "text/plain": "<Figure size 640x480 with 1 Axes>",
      "image/png": "[encoded data removed]"
     },
     "metadata": {},
     "output_type": "display_data"
    }
   ],
   "source": [
    "plt.pie(data[:5], labels=labels[:5], labeldistance=None, colors=colors, autopct=\"%.0f%%\", startangle=45)\n",
    "plt.legend()\n",
    "plt.title(\"Weapons used in Violent Crimes\")\n",
    "plt.show()"
   ],
   "metadata": {
    "collapsed": false
   }
  },
  {
   "cell_type": "code",
   "execution_count": null,
   "outputs": [],
   "source": [],
   "metadata": {
    "collapsed": false
   }
  }
 ],
 "metadata": {
  "kernelspec": {
   "display_name": "Python 3",
   "language": "python",
   "name": "python3"
  },
  "language_info": {
   "codemirror_mode": {
    "name": "ipython",
    "version": 2
   },
   "file_extension": ".py",
   "mimetype": "text/x-python",
   "name": "python",
   "nbconvert_exporter": "python",
   "pygments_lexer": "ipython2",
   "version": "2.7.6"
  }
 },
 "nbformat": 4,
 "nbformat_minor": 0
}
