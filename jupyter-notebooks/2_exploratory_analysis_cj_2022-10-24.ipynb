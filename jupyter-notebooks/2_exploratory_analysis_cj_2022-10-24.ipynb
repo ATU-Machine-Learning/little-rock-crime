{
 "cells": [
  {
   "cell_type": "code",
   "execution_count": 51,
   "metadata": {
    "collapsed": true
   },
   "outputs": [],
   "source": [
    "import pandas as pd\n",
    "import numpy as np\n",
    "import matplotlib.pyplot as plt\n",
    "%matplotlib inline"
   ]
  },
  {
   "cell_type": "code",
   "execution_count": 52,
   "outputs": [],
   "source": [
    "lrpd = pd.read_csv(\"../data/lrpd-clean.csv\")\n",
    "lrpd = lrpd.set_index(\"INCIDENT_NUMBER\")"
   ],
   "metadata": {
    "collapsed": false
   }
  },
  {
   "cell_type": "code",
   "execution_count": 53,
   "outputs": [
    {
     "data": {
      "text/plain": "                INCIDENT_DATE  LOCATION_DISTRICT  \\\nINCIDENT_NUMBER                                    \n2021-092971        08/04/2021               72.0   \n2017-029450        03/16/2017               82.0   \n2017-156453        09/01/2017               53.0   \n2019-130717        10/17/2019               51.0   \n2020-073313        07/02/2020               50.0   \n\n                          OFFENSE_DESCRIPTION WEAPON_TYPE  \\\nINCIDENT_NUMBER                                             \n2021-092971          THEFT FROM MOTOR VEHICLE           0   \n2017-029450      THEFT OF MOTOR VEHICLE PARTS           0   \n2017-156453                              RAPE           0   \n2019-130717                              RAPE           0   \n2020-073313                              RAPE           0   \n\n                       INCIDENT_LOCATION      ZIP   LATITUDE  LONGITUDE  \\\nINCIDENT_NUMBER                                                           \n2021-092971              15601  KANIS RD  72204.0   0.000000   0.000000   \n2017-029450      10801 IRONTON CUTOFF RD  72206.0  34.649362 -92.301959   \n2017-156453                            0      0.0   0.000000   0.000000   \n2019-130717                            0      0.0   0.000000   0.000000   \n2020-073313                            0      0.0   0.000000   0.000000   \n\n                INCIDENT_TIME  \nINCIDENT_NUMBER                \n2021-092971          10:21 AM  \n2017-029450          06:30 PM  \n2017-156453          12:00 PM  \n2019-130717          09:00 PM  \n2020-073313          07:10 PM  ",
      "text/html": "<div>\n<style scoped>\n    .dataframe tbody tr th:only-of-type {\n        vertical-align: middle;\n    }\n\n    .dataframe tbody tr th {\n        vertical-align: top;\n    }\n\n    .dataframe thead th {\n        text-align: right;\n    }\n</style>\n<table border=\"1\" class=\"dataframe\">\n  <thead>\n    <tr style=\"text-align: right;\">\n      <th></th>\n      <th>INCIDENT_DATE</th>\n      <th>LOCATION_DISTRICT</th>\n      <th>OFFENSE_DESCRIPTION</th>\n      <th>WEAPON_TYPE</th>\n      <th>INCIDENT_LOCATION</th>\n      <th>ZIP</th>\n      <th>LATITUDE</th>\n      <th>LONGITUDE</th>\n      <th>INCIDENT_TIME</th>\n    </tr>\n    <tr>\n      <th>INCIDENT_NUMBER</th>\n      <th></th>\n      <th></th>\n      <th></th>\n      <th></th>\n      <th></th>\n      <th></th>\n      <th></th>\n      <th></th>\n      <th></th>\n    </tr>\n  </thead>\n  <tbody>\n    <tr>\n      <th>2021-092971</th>\n      <td>08/04/2021</td>\n      <td>72.0</td>\n      <td>THEFT FROM MOTOR VEHICLE</td>\n      <td>0</td>\n      <td>15601  KANIS RD</td>\n      <td>72204.0</td>\n      <td>0.000000</td>\n      <td>0.000000</td>\n      <td>10:21 AM</td>\n    </tr>\n    <tr>\n      <th>2017-029450</th>\n      <td>03/16/2017</td>\n      <td>82.0</td>\n      <td>THEFT OF MOTOR VEHICLE PARTS</td>\n      <td>0</td>\n      <td>10801 IRONTON CUTOFF RD</td>\n      <td>72206.0</td>\n      <td>34.649362</td>\n      <td>-92.301959</td>\n      <td>06:30 PM</td>\n    </tr>\n    <tr>\n      <th>2017-156453</th>\n      <td>09/01/2017</td>\n      <td>53.0</td>\n      <td>RAPE</td>\n      <td>0</td>\n      <td>0</td>\n      <td>0.0</td>\n      <td>0.000000</td>\n      <td>0.000000</td>\n      <td>12:00 PM</td>\n    </tr>\n    <tr>\n      <th>2019-130717</th>\n      <td>10/17/2019</td>\n      <td>51.0</td>\n      <td>RAPE</td>\n      <td>0</td>\n      <td>0</td>\n      <td>0.0</td>\n      <td>0.000000</td>\n      <td>0.000000</td>\n      <td>09:00 PM</td>\n    </tr>\n    <tr>\n      <th>2020-073313</th>\n      <td>07/02/2020</td>\n      <td>50.0</td>\n      <td>RAPE</td>\n      <td>0</td>\n      <td>0</td>\n      <td>0.0</td>\n      <td>0.000000</td>\n      <td>0.000000</td>\n      <td>07:10 PM</td>\n    </tr>\n  </tbody>\n</table>\n</div>"
     },
     "execution_count": 53,
     "metadata": {},
     "output_type": "execute_result"
    }
   ],
   "source": [
    "lrpd.head()"
   ],
   "metadata": {
    "collapsed": false
   }
  },
  {
   "cell_type": "code",
   "execution_count": 54,
   "outputs": [
    {
     "data": {
      "text/plain": "(81833, 9)"
     },
     "execution_count": 54,
     "metadata": {},
     "output_type": "execute_result"
    }
   ],
   "source": [
    "lrpd.shape"
   ],
   "metadata": {
    "collapsed": false
   }
  },
  {
   "cell_type": "code",
   "execution_count": 55,
   "outputs": [],
   "source": [
    "def describe_unique(column):\n",
    "    print(f'DESCRIBING {column}')\n",
    "    print(column.unique())\n",
    "    print(column.describe())"
   ],
   "metadata": {
    "collapsed": false
   }
  },
  {
   "cell_type": "code",
   "execution_count": 56,
   "outputs": [
    {
     "name": "stdout",
     "output_type": "stream",
     "text": [
      "DESCRIBING INCIDENT_NUMBER\n",
      "2021-092971             15601  KANIS RD\n",
      "2017-029450     10801 IRONTON CUTOFF RD\n",
      "2017-156453                           0\n",
      "2019-130717                           0\n",
      "2020-073313                           0\n",
      "                         ...           \n",
      "2018-066314       1601 N SHACKLEFORD RD\n",
      "2020-040599            225 KEIGHTLEY DR\n",
      "2020-091056         501  NAPA VALLEY DR\n",
      "2021-068606    13121 SAINT CHARLES BLVD\n",
      "2017-123107       1619 REBSAMEN PARK RD\n",
      "Name: INCIDENT_LOCATION, Length: 81833, dtype: object\n",
      "['15601  KANIS RD' '10801 IRONTON CUTOFF RD' '0' ...\n",
      " '3 RESERVOIR HEIGHTS DR' '5 LEDGELAWN DR' '1807  FOREMAN DR']\n",
      "count     81833\n",
      "unique    27905\n",
      "top           0\n",
      "freq       1053\n",
      "Name: INCIDENT_LOCATION, dtype: object\n"
     ]
    }
   ],
   "source": [
    "describe_unique(lrpd[\"INCIDENT_LOCATION\"])"
   ],
   "metadata": {
    "collapsed": false
   }
  },
  {
   "cell_type": "code",
   "execution_count": 57,
   "outputs": [
    {
     "name": "stdout",
     "output_type": "stream",
     "text": [
      "DESCRIBING INCIDENT_NUMBER\n",
      "2021-092971              15601  KANIS RD\n",
      "2017-029450      10801 IRONTON CUTOFF RD\n",
      "2022-301030    10901 BEVERLY HILLS DRIVE\n",
      "2022-302467             1321 MAIN STREET\n",
      "2021-027276                5010  OPAL ST\n",
      "                         ...            \n",
      "2018-066314        1601 N SHACKLEFORD RD\n",
      "2020-040599             225 KEIGHTLEY DR\n",
      "2020-091056          501  NAPA VALLEY DR\n",
      "2021-068606     13121 SAINT CHARLES BLVD\n",
      "2017-123107        1619 REBSAMEN PARK RD\n",
      "Name: INCIDENT_LOCATION, Length: 80780, dtype: object\n",
      "['15601  KANIS RD' '10801 IRONTON CUTOFF RD' '10901 BEVERLY HILLS DRIVE'\n",
      " ... '3 RESERVOIR HEIGHTS DR' '5 LEDGELAWN DR' '1807  FOREMAN DR']\n",
      "count                     80780\n",
      "unique                    27904\n",
      "top       2700 S SHACKLEFORD RD\n",
      "freq                       1025\n",
      "Name: INCIDENT_LOCATION, dtype: object\n"
     ]
    }
   ],
   "source": [
    "has_location = lrpd.loc[lrpd[\"INCIDENT_LOCATION\"] != \"0\"]\n",
    "describe_unique(has_location[\"INCIDENT_LOCATION\"])"
   ],
   "metadata": {
    "collapsed": false
   }
  },
  {
   "cell_type": "code",
   "execution_count": 58,
   "outputs": [
    {
     "data": {
      "text/plain": "                INCIDENT_DATE  LOCATION_DISTRICT  OFFENSE_DESCRIPTION  \\\nINCIDENT_NUMBER                                                         \n2020-147661        12/21/2020               63.0    ALL OTHER LARCENY   \n2021-141903        11/18/2021               63.0  THEFT FROM BUILDING   \n2021-052795        05/14/2021               63.0   AGGRAVATED ASSAULT   \n2021-082783        07/13/2021               63.0          SHOPLIFTING   \n2021-060242        05/29/2021               63.0    ALL OTHER LARCENY   \n...                       ...                ...                  ...   \n2021-009322        02/01/2021               63.0    ALL OTHER LARCENY   \n2021-157400        12/26/2021               63.0    ALL OTHER LARCENY   \n2021-009342        02/01/2021               63.0          SHOPLIFTING   \n2022-301410        05/28/2022               63.0    ALL OTHER LARCENY   \n2021-065651        06/09/2021               63.0          SHOPLIFTING   \n\n                                          WEAPON_TYPE      INCIDENT_LOCATION  \\\nINCIDENT_NUMBER                                                                \n2020-147661                                         0  2700 S SHACKLEFORD RD   \n2021-141903                                         0  2700 S SHACKLEFORD RD   \n2021-052795                             MOTOR VEHICLE  2700 S SHACKLEFORD RD   \n2021-082783                                         0  2700 S SHACKLEFORD RD   \n2021-060242                                         0  2700 S SHACKLEFORD RD   \n...                                               ...                    ...   \n2021-009322                                         0  2700 S SHACKLEFORD RD   \n2021-157400      PERSONAL WEAPONS (HANDS, FISTS, ETC)  2700 S SHACKLEFORD RD   \n2021-009342                                         0  2700 S SHACKLEFORD RD   \n2022-301410                                         0  2700 S SHACKLEFORD RD   \n2021-065651                                         0  2700 S SHACKLEFORD RD   \n\n                     ZIP   LATITUDE  LONGITUDE INCIDENT_TIME  \nINCIDENT_NUMBER                                               \n2020-147661      72211.0  34.472833 -92.239772      02:00 PM  \n2021-141903      72205.0  34.472833 -92.239772      07:22 PM  \n2021-052795      72209.0  34.688830 -92.332645      11:06 AM  \n2021-082783      72205.0  34.472833 -92.239772      10:25 PM  \n2021-060242      72205.0  34.472833 -92.239772      12:01 PM  \n...                  ...        ...        ...           ...  \n2021-009322      72209.0   0.000000   0.000000      09:12 PM  \n2021-157400      72204.0   0.000000   0.000000      10:07 AM  \n2021-009342      72209.0   0.000000   0.000000      10:11 PM  \n2022-301410      72205.0   0.000000   0.000000      04:20 PM  \n2021-065651      72205.0   0.000000   0.000000      03:46 PM  \n\n[1025 rows x 9 columns]",
      "text/html": "<div>\n<style scoped>\n    .dataframe tbody tr th:only-of-type {\n        vertical-align: middle;\n    }\n\n    .dataframe tbody tr th {\n        vertical-align: top;\n    }\n\n    .dataframe thead th {\n        text-align: right;\n    }\n</style>\n<table border=\"1\" class=\"dataframe\">\n  <thead>\n    <tr style=\"text-align: right;\">\n      <th></th>\n      <th>INCIDENT_DATE</th>\n      <th>LOCATION_DISTRICT</th>\n      <th>OFFENSE_DESCRIPTION</th>\n      <th>WEAPON_TYPE</th>\n      <th>INCIDENT_LOCATION</th>\n      <th>ZIP</th>\n      <th>LATITUDE</th>\n      <th>LONGITUDE</th>\n      <th>INCIDENT_TIME</th>\n    </tr>\n    <tr>\n      <th>INCIDENT_NUMBER</th>\n      <th></th>\n      <th></th>\n      <th></th>\n      <th></th>\n      <th></th>\n      <th></th>\n      <th></th>\n      <th></th>\n      <th></th>\n    </tr>\n  </thead>\n  <tbody>\n    <tr>\n      <th>2020-147661</th>\n      <td>12/21/2020</td>\n      <td>63.0</td>\n      <td>ALL OTHER LARCENY</td>\n      <td>0</td>\n      <td>2700 S SHACKLEFORD RD</td>\n      <td>72211.0</td>\n      <td>34.472833</td>\n      <td>-92.239772</td>\n      <td>02:00 PM</td>\n    </tr>\n    <tr>\n      <th>2021-141903</th>\n      <td>11/18/2021</td>\n      <td>63.0</td>\n      <td>THEFT FROM BUILDING</td>\n      <td>0</td>\n      <td>2700 S SHACKLEFORD RD</td>\n      <td>72205.0</td>\n      <td>34.472833</td>\n      <td>-92.239772</td>\n      <td>07:22 PM</td>\n    </tr>\n    <tr>\n      <th>2021-052795</th>\n      <td>05/14/2021</td>\n      <td>63.0</td>\n      <td>AGGRAVATED ASSAULT</td>\n      <td>MOTOR VEHICLE</td>\n      <td>2700 S SHACKLEFORD RD</td>\n      <td>72209.0</td>\n      <td>34.688830</td>\n      <td>-92.332645</td>\n      <td>11:06 AM</td>\n    </tr>\n    <tr>\n      <th>2021-082783</th>\n      <td>07/13/2021</td>\n      <td>63.0</td>\n      <td>SHOPLIFTING</td>\n      <td>0</td>\n      <td>2700 S SHACKLEFORD RD</td>\n      <td>72205.0</td>\n      <td>34.472833</td>\n      <td>-92.239772</td>\n      <td>10:25 PM</td>\n    </tr>\n    <tr>\n      <th>2021-060242</th>\n      <td>05/29/2021</td>\n      <td>63.0</td>\n      <td>ALL OTHER LARCENY</td>\n      <td>0</td>\n      <td>2700 S SHACKLEFORD RD</td>\n      <td>72205.0</td>\n      <td>34.472833</td>\n      <td>-92.239772</td>\n      <td>12:01 PM</td>\n    </tr>\n    <tr>\n      <th>...</th>\n      <td>...</td>\n      <td>...</td>\n      <td>...</td>\n      <td>...</td>\n      <td>...</td>\n      <td>...</td>\n      <td>...</td>\n      <td>...</td>\n      <td>...</td>\n    </tr>\n    <tr>\n      <th>2021-009322</th>\n      <td>02/01/2021</td>\n      <td>63.0</td>\n      <td>ALL OTHER LARCENY</td>\n      <td>0</td>\n      <td>2700 S SHACKLEFORD RD</td>\n      <td>72209.0</td>\n      <td>0.000000</td>\n      <td>0.000000</td>\n      <td>09:12 PM</td>\n    </tr>\n    <tr>\n      <th>2021-157400</th>\n      <td>12/26/2021</td>\n      <td>63.0</td>\n      <td>ALL OTHER LARCENY</td>\n      <td>PERSONAL WEAPONS (HANDS, FISTS, ETC)</td>\n      <td>2700 S SHACKLEFORD RD</td>\n      <td>72204.0</td>\n      <td>0.000000</td>\n      <td>0.000000</td>\n      <td>10:07 AM</td>\n    </tr>\n    <tr>\n      <th>2021-009342</th>\n      <td>02/01/2021</td>\n      <td>63.0</td>\n      <td>SHOPLIFTING</td>\n      <td>0</td>\n      <td>2700 S SHACKLEFORD RD</td>\n      <td>72209.0</td>\n      <td>0.000000</td>\n      <td>0.000000</td>\n      <td>10:11 PM</td>\n    </tr>\n    <tr>\n      <th>2022-301410</th>\n      <td>05/28/2022</td>\n      <td>63.0</td>\n      <td>ALL OTHER LARCENY</td>\n      <td>0</td>\n      <td>2700 S SHACKLEFORD RD</td>\n      <td>72205.0</td>\n      <td>0.000000</td>\n      <td>0.000000</td>\n      <td>04:20 PM</td>\n    </tr>\n    <tr>\n      <th>2021-065651</th>\n      <td>06/09/2021</td>\n      <td>63.0</td>\n      <td>SHOPLIFTING</td>\n      <td>0</td>\n      <td>2700 S SHACKLEFORD RD</td>\n      <td>72205.0</td>\n      <td>0.000000</td>\n      <td>0.000000</td>\n      <td>03:46 PM</td>\n    </tr>\n  </tbody>\n</table>\n<p>1025 rows × 9 columns</p>\n</div>"
     },
     "execution_count": 58,
     "metadata": {},
     "output_type": "execute_result"
    }
   ],
   "source": [
    "shackleford_rd = lrpd.loc[lrpd[\"INCIDENT_LOCATION\"] == \"2700 S SHACKLEFORD RD\"]\n",
    "shackleford_rd"
   ],
   "metadata": {
    "collapsed": false
   }
  },
  {
   "cell_type": "code",
   "execution_count": 59,
   "outputs": [
    {
     "data": {
      "text/plain": "count            1025\nunique             10\ntop       SHOPLIFTING\nfreq              711\nName: OFFENSE_DESCRIPTION, dtype: object"
     },
     "execution_count": 59,
     "metadata": {},
     "output_type": "execute_result"
    }
   ],
   "source": [
    "shackleford_rd[\"OFFENSE_DESCRIPTION\"].describe()"
   ],
   "metadata": {
    "collapsed": false
   }
  },
  {
   "cell_type": "code",
   "execution_count": 80,
   "outputs": [],
   "source": [
    "unique_offenses = shackleford_rd[\"OFFENSE_DESCRIPTION\"].unique()\n",
    "value_counts = shackleford_rd[\"OFFENSE_DESCRIPTION\"].value_counts()"
   ],
   "metadata": {
    "collapsed": false
   }
  },
  {
   "cell_type": "code",
   "execution_count": null,
   "outputs": [],
   "source": [],
   "metadata": {
    "collapsed": false
   }
  },
  {
   "cell_type": "code",
   "execution_count": 82,
   "outputs": [
    {
     "data": {
      "text/plain": "<Figure size 640x480 with 1 Axes>",
      "image/png": "[encoded data removed]"
     },
     "metadata": {},
     "output_type": "display_data"
    }
   ],
   "source": [
    "plt.pie(value_counts[:5])\n",
    "# ax.pie(shackleford_rd[\"OFFENSE_DESCRIPTION\"].value_counts(), labels=unique_offenses, autopct='%1.2f%%')\n",
    "plt.show()"
   ],
   "metadata": {
    "collapsed": false
   }
  },
  {
   "cell_type": "code",
   "execution_count": null,
   "outputs": [],
   "source": [],
   "metadata": {
    "collapsed": false
   }
  }
 ],
 "metadata": {
  "kernelspec": {
   "display_name": "Python 3",
   "language": "python",
   "name": "python3"
  },
  "language_info": {
   "codemirror_mode": {
    "name": "ipython",
    "version": 2
   },
   "file_extension": ".py",
   "mimetype": "text/x-python",
   "name": "python",
   "nbconvert_exporter": "python",
   "pygments_lexer": "ipython2",
   "version": "2.7.6"
  }
 },
 "nbformat": 4,
 "nbformat_minor": 0
}
