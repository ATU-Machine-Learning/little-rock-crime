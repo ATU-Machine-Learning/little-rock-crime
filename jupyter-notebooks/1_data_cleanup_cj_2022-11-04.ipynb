{
 "cells": [
  {
   "cell_type": "code",
   "execution_count": 115,
   "metadata": {
    "collapsed": true
   },
   "outputs": [],
   "source": [
    "import pandas as pd"
   ]
  },
  {
   "cell_type": "markdown",
   "source": [
    "### Read in the original DataSet for comparsion:"
   ],
   "metadata": {
    "collapsed": false
   }
  },
  {
   "cell_type": "code",
   "execution_count": 116,
   "outputs": [
    {
     "name": "stdout",
     "output_type": "stream",
     "text": [
      "Successfully read in Original Little Rock Crime Data. DataFrame Size: 88202 rows x 14 cols\n"
     ]
    }
   ],
   "source": [
    "original = pd.read_csv(\"../data/lrpd.csv\")\n",
    "print(f\"Successfully read in Original Little Rock Crime Data. DataFrame Size: {original.shape[0]} rows x {original.shape[1]} cols\")"
   ],
   "metadata": {
    "collapsed": false
   }
  },
  {
   "cell_type": "markdown",
   "source": [
    "### Request relevant columns from dataset:"
   ],
   "metadata": {
    "collapsed": false
   }
  },
  {
   "cell_type": "code",
   "execution_count": 117,
   "outputs": [
    {
     "name": "stdout",
     "output_type": "stream",
     "text": [
      "Successfully read in Little Rock Crime Data. DataFrame Size: 88202 rows x 7 cols\n"
     ]
    }
   ],
   "source": [
    "requested_columns = [\"INCIDENT_DATE\", \"INCIDENT_NUMBER\", \"LOCATION_DISTRICT\", \"OFFENSE_DESCRIPTION\", \"WEAPON_TYPE\", \"ZIP\", \"LATITUDE\", \"LONGITUDE\"]\n",
    "\n",
    "lrpd = pd.read_csv(\"../data/lrpd.csv\", usecols=requested_columns, index_col=\"INCIDENT_NUMBER\")\n",
    "\n",
    "print(f\"Successfully read in Little Rock Crime Data. DataFrame Size: {lrpd.shape[0]} rows x {lrpd.shape[1]} cols\")"
   ],
   "metadata": {
    "collapsed": false
   }
  },
  {
   "cell_type": "markdown",
   "source": [
    "### Drop duplicate rows based on index values:"
   ],
   "metadata": {
    "collapsed": false
   }
  },
  {
   "cell_type": "code",
   "execution_count": 118,
   "outputs": [
    {
     "name": "stdout",
     "output_type": "stream",
     "text": [
      "Dropped 5511 duplicates!\n",
      "Little Rock Crime Data DataFrame Size: 82691 rows x 7 cols\n"
     ]
    }
   ],
   "source": [
    "prev_shape = lrpd.shape\n",
    "lrpd = lrpd.drop_duplicates(keep='first')\n",
    "new_shape = lrpd.shape\n",
    "\n",
    "print(f'Dropped {(prev_shape[0] - new_shape[0])} duplicates!')\n",
    "print(f'Little Rock Crime Data DataFrame Size: {lrpd.shape[0]} rows x {lrpd.shape[1]} cols')"
   ],
   "metadata": {
    "collapsed": false
   }
  },
  {
   "cell_type": "markdown",
   "source": [
    "### Fill missing values with Number 0:"
   ],
   "metadata": {
    "collapsed": false
   }
  },
  {
   "cell_type": "code",
   "execution_count": 119,
   "outputs": [],
   "source": [
    "lrpd = lrpd.fillna(0)"
   ],
   "metadata": {
    "collapsed": false
   }
  },
  {
   "cell_type": "markdown",
   "source": [
    "### Parse Number 0 and String 1 to weapon type:"
   ],
   "metadata": {
    "collapsed": false
   }
  },
  {
   "cell_type": "code",
   "execution_count": 120,
   "outputs": [],
   "source": [
    "lrpd[\"WEAPON_TYPE\"] = lrpd[\"WEAPON_TYPE\"].replace(0, \"NO WEAPON\")\n",
    "lrpd[\"WEAPON_TYPE\"] = lrpd[\"WEAPON_TYPE\"].replace(\"1\", \"UNKNOWN\")"
   ],
   "metadata": {
    "collapsed": false
   }
  },
  {
   "cell_type": "markdown",
   "source": [
    "### Convert columns to correct types:"
   ],
   "metadata": {
    "collapsed": false
   }
  },
  {
   "cell_type": "code",
   "execution_count": 121,
   "outputs": [
    {
     "data": {
      "text/plain": "INCIDENT_NUMBER                   2021-092971                   2017-029450  \\\nINCIDENT_DATE             2021-08-04 10:21:00           2017-03-16 18:30:00   \nLOCATION_DISTRICT                        72.0                          82.0   \nOFFENSE_DESCRIPTION  THEFT FROM MOTOR VEHICLE  THEFT OF MOTOR VEHICLE PARTS   \nWEAPON_TYPE                         NO WEAPON                     NO WEAPON   \nZIP                                   72204.0                       72206.0   \nLATITUDE                                  0.0                     34.649362   \nLONGITUDE                                 0.0                    -92.301959   \n\nINCIDENT_NUMBER              2017-156453          2019-130717  \\\nINCIDENT_DATE        2017-09-01 12:00:00  2019-10-17 21:00:00   \nLOCATION_DISTRICT                   53.0                 51.0   \nOFFENSE_DESCRIPTION                 RAPE                 RAPE   \nWEAPON_TYPE                    NO WEAPON            NO WEAPON   \nZIP                                  0.0                  0.0   \nLATITUDE                             0.0                  0.0   \nLONGITUDE                            0.0                  0.0   \n\nINCIDENT_NUMBER              2020-073313  \nINCIDENT_DATE        2020-07-02 19:10:00  \nLOCATION_DISTRICT                   50.0  \nOFFENSE_DESCRIPTION                 RAPE  \nWEAPON_TYPE                    NO WEAPON  \nZIP                                  0.0  \nLATITUDE                             0.0  \nLONGITUDE                            0.0  ",
      "text/html": "<div>\n<style scoped>\n    .dataframe tbody tr th:only-of-type {\n        vertical-align: middle;\n    }\n\n    .dataframe tbody tr th {\n        vertical-align: top;\n    }\n\n    .dataframe thead th {\n        text-align: right;\n    }\n</style>\n<table border=\"1\" class=\"dataframe\">\n  <thead>\n    <tr style=\"text-align: right;\">\n      <th>INCIDENT_NUMBER</th>\n      <th>2021-092971</th>\n      <th>2017-029450</th>\n      <th>2017-156453</th>\n      <th>2019-130717</th>\n      <th>2020-073313</th>\n    </tr>\n  </thead>\n  <tbody>\n    <tr>\n      <th>INCIDENT_DATE</th>\n      <td>2021-08-04 10:21:00</td>\n      <td>2017-03-16 18:30:00</td>\n      <td>2017-09-01 12:00:00</td>\n      <td>2019-10-17 21:00:00</td>\n      <td>2020-07-02 19:10:00</td>\n    </tr>\n    <tr>\n      <th>LOCATION_DISTRICT</th>\n      <td>72.0</td>\n      <td>82.0</td>\n      <td>53.0</td>\n      <td>51.0</td>\n      <td>50.0</td>\n    </tr>\n    <tr>\n      <th>OFFENSE_DESCRIPTION</th>\n      <td>THEFT FROM MOTOR VEHICLE</td>\n      <td>THEFT OF MOTOR VEHICLE PARTS</td>\n      <td>RAPE</td>\n      <td>RAPE</td>\n      <td>RAPE</td>\n    </tr>\n    <tr>\n      <th>WEAPON_TYPE</th>\n      <td>NO WEAPON</td>\n      <td>NO WEAPON</td>\n      <td>NO WEAPON</td>\n      <td>NO WEAPON</td>\n      <td>NO WEAPON</td>\n    </tr>\n    <tr>\n      <th>ZIP</th>\n      <td>72204.0</td>\n      <td>72206.0</td>\n      <td>0.0</td>\n      <td>0.0</td>\n      <td>0.0</td>\n    </tr>\n    <tr>\n      <th>LATITUDE</th>\n      <td>0.0</td>\n      <td>34.649362</td>\n      <td>0.0</td>\n      <td>0.0</td>\n      <td>0.0</td>\n    </tr>\n    <tr>\n      <th>LONGITUDE</th>\n      <td>0.0</td>\n      <td>-92.301959</td>\n      <td>0.0</td>\n      <td>0.0</td>\n      <td>0.0</td>\n    </tr>\n  </tbody>\n</table>\n</div>"
     },
     "execution_count": 121,
     "metadata": {},
     "output_type": "execute_result"
    }
   ],
   "source": [
    "lrpd[\"INCIDENT_DATE\"] = pd.to_datetime(lrpd[\"INCIDENT_DATE\"])\n",
    "lrpd[\"LOCATION_DISTRICT\"] = pd.to_numeric(lrpd[\"LOCATION_DISTRICT\"])\n",
    "lrpd[\"OFFENSE_DESCRIPTION\"] = lrpd[\"OFFENSE_DESCRIPTION\"] # todo: ensure this is parsed as a string\n",
    "lrpd[\"WEAPON_TYPE\"] = lrpd[\"WEAPON_TYPE\"] # todo: ensure this is parsed as a string\n",
    "lrpd[\"ZIP\"] = pd.to_numeric(lrpd[\"ZIP\"])\n",
    "lrpd[\"LATITUDE\"] = pd.to_numeric(lrpd[\"LATITUDE\"])\n",
    "lrpd[\"LONGITUDE\"] = pd.to_numeric(lrpd[\"LONGITUDE\"])\n",
    "\n",
    "lrpd.head().T"
   ],
   "metadata": {
    "collapsed": false
   }
  },
  {
   "cell_type": "markdown",
   "source": [
    "### Appending new columns to DataFrame:"
   ],
   "metadata": {
    "collapsed": false
   }
  },
  {
   "cell_type": "code",
   "execution_count": 122,
   "outputs": [],
   "source": [
    "lrpd[\"WEEK_OF_MONTH\"] = lrpd[\"INCIDENT_DATE\"].dt.day // 7\n",
    "lrpd[\"YEAR\"] = lrpd[\"INCIDENT_DATE\"].dt.year\n",
    "lrpd[\"DAY\"] = lrpd[\"INCIDENT_DATE\"].dt.day\n",
    "lrpd[\"DAY_OF_YEAR\"] = lrpd[\"INCIDENT_DATE\"].dt.dayofyear\n",
    "lrpd[\"MONTH\"] = lrpd[\"INCIDENT_DATE\"].dt.month"
   ],
   "metadata": {
    "collapsed": false
   }
  },
  {
   "cell_type": "markdown",
   "source": [
    "### Visualizing current modifications:"
   ],
   "metadata": {
    "collapsed": false
   }
  },
  {
   "cell_type": "code",
   "execution_count": 123,
   "outputs": [
    {
     "data": {
      "text/plain": "INCIDENT_NUMBER                   2021-092971                   2017-029450  \\\nINCIDENT_DATE             2021-08-04 10:21:00           2017-03-16 18:30:00   \nLOCATION_DISTRICT                        72.0                          82.0   \nOFFENSE_DESCRIPTION  THEFT FROM MOTOR VEHICLE  THEFT OF MOTOR VEHICLE PARTS   \nWEAPON_TYPE                         NO WEAPON                     NO WEAPON   \nZIP                                   72204.0                       72206.0   \nLATITUDE                                  0.0                     34.649362   \nLONGITUDE                                 0.0                    -92.301959   \nWEEK_OF_MONTH                               0                             2   \nYEAR                                     2021                          2017   \nDAY                                         4                            16   \nDAY_OF_YEAR                               216                            75   \nMONTH                                       8                             3   \n\nINCIDENT_NUMBER              2017-156453          2019-130717  \\\nINCIDENT_DATE        2017-09-01 12:00:00  2019-10-17 21:00:00   \nLOCATION_DISTRICT                   53.0                 51.0   \nOFFENSE_DESCRIPTION                 RAPE                 RAPE   \nWEAPON_TYPE                    NO WEAPON            NO WEAPON   \nZIP                                  0.0                  0.0   \nLATITUDE                             0.0                  0.0   \nLONGITUDE                            0.0                  0.0   \nWEEK_OF_MONTH                          0                    2   \nYEAR                                2017                 2019   \nDAY                                    1                   17   \nDAY_OF_YEAR                          244                  290   \nMONTH                                  9                   10   \n\nINCIDENT_NUMBER              2020-073313  \nINCIDENT_DATE        2020-07-02 19:10:00  \nLOCATION_DISTRICT                   50.0  \nOFFENSE_DESCRIPTION                 RAPE  \nWEAPON_TYPE                    NO WEAPON  \nZIP                                  0.0  \nLATITUDE                             0.0  \nLONGITUDE                            0.0  \nWEEK_OF_MONTH                          0  \nYEAR                                2020  \nDAY                                    2  \nDAY_OF_YEAR                          184  \nMONTH                                  7  ",
      "text/html": "<div>\n<style scoped>\n    .dataframe tbody tr th:only-of-type {\n        vertical-align: middle;\n    }\n\n    .dataframe tbody tr th {\n        vertical-align: top;\n    }\n\n    .dataframe thead th {\n        text-align: right;\n    }\n</style>\n<table border=\"1\" class=\"dataframe\">\n  <thead>\n    <tr style=\"text-align: right;\">\n      <th>INCIDENT_NUMBER</th>\n      <th>2021-092971</th>\n      <th>2017-029450</th>\n      <th>2017-156453</th>\n      <th>2019-130717</th>\n      <th>2020-073313</th>\n    </tr>\n  </thead>\n  <tbody>\n    <tr>\n      <th>INCIDENT_DATE</th>\n      <td>2021-08-04 10:21:00</td>\n      <td>2017-03-16 18:30:00</td>\n      <td>2017-09-01 12:00:00</td>\n      <td>2019-10-17 21:00:00</td>\n      <td>2020-07-02 19:10:00</td>\n    </tr>\n    <tr>\n      <th>LOCATION_DISTRICT</th>\n      <td>72.0</td>\n      <td>82.0</td>\n      <td>53.0</td>\n      <td>51.0</td>\n      <td>50.0</td>\n    </tr>\n    <tr>\n      <th>OFFENSE_DESCRIPTION</th>\n      <td>THEFT FROM MOTOR VEHICLE</td>\n      <td>THEFT OF MOTOR VEHICLE PARTS</td>\n      <td>RAPE</td>\n      <td>RAPE</td>\n      <td>RAPE</td>\n    </tr>\n    <tr>\n      <th>WEAPON_TYPE</th>\n      <td>NO WEAPON</td>\n      <td>NO WEAPON</td>\n      <td>NO WEAPON</td>\n      <td>NO WEAPON</td>\n      <td>NO WEAPON</td>\n    </tr>\n    <tr>\n      <th>ZIP</th>\n      <td>72204.0</td>\n      <td>72206.0</td>\n      <td>0.0</td>\n      <td>0.0</td>\n      <td>0.0</td>\n    </tr>\n    <tr>\n      <th>LATITUDE</th>\n      <td>0.0</td>\n      <td>34.649362</td>\n      <td>0.0</td>\n      <td>0.0</td>\n      <td>0.0</td>\n    </tr>\n    <tr>\n      <th>LONGITUDE</th>\n      <td>0.0</td>\n      <td>-92.301959</td>\n      <td>0.0</td>\n      <td>0.0</td>\n      <td>0.0</td>\n    </tr>\n    <tr>\n      <th>WEEK_OF_MONTH</th>\n      <td>0</td>\n      <td>2</td>\n      <td>0</td>\n      <td>2</td>\n      <td>0</td>\n    </tr>\n    <tr>\n      <th>YEAR</th>\n      <td>2021</td>\n      <td>2017</td>\n      <td>2017</td>\n      <td>2019</td>\n      <td>2020</td>\n    </tr>\n    <tr>\n      <th>DAY</th>\n      <td>4</td>\n      <td>16</td>\n      <td>1</td>\n      <td>17</td>\n      <td>2</td>\n    </tr>\n    <tr>\n      <th>DAY_OF_YEAR</th>\n      <td>216</td>\n      <td>75</td>\n      <td>244</td>\n      <td>290</td>\n      <td>184</td>\n    </tr>\n    <tr>\n      <th>MONTH</th>\n      <td>8</td>\n      <td>3</td>\n      <td>9</td>\n      <td>10</td>\n      <td>7</td>\n    </tr>\n  </tbody>\n</table>\n</div>"
     },
     "execution_count": 123,
     "metadata": {},
     "output_type": "execute_result"
    }
   ],
   "source": [
    "lrpd.head().T"
   ],
   "metadata": {
    "collapsed": false
   }
  },
  {
   "cell_type": "code",
   "execution_count": 124,
   "outputs": [
    {
     "data": {
      "text/plain": "INCIDENT_NUMBER              2018-066314               2020-040599  \\\nINCIDENT_DATE        2018-05-31 17:50:00       2020-04-14 07:30:00   \nLOCATION_DISTRICT                   70.0                      60.0   \nOFFENSE_DESCRIPTION  THEFT FROM BUILDING  THEFT FROM MOTOR VEHICLE   \nWEAPON_TYPE                    NO WEAPON                 NO WEAPON   \nZIP                              72211.0                   72207.0   \nLATITUDE                       34.767624                       0.0   \nLONGITUDE                     -92.395836                       0.0   \nWEEK_OF_MONTH                          4                         2   \nYEAR                                2018                      2020   \nDAY                                   31                        14   \nDAY_OF_YEAR                          151                       105   \nMONTH                                  5                         4   \n\nINCIDENT_NUMBER                               2020-091056  \\\nINCIDENT_DATE                         2020-08-10 11:43:00   \nLOCATION_DISTRICT                                    71.0   \nOFFENSE_DESCRIPTION                    AGGRAVATED ASSAULT   \nWEAPON_TYPE          PERSONAL WEAPONS (HANDS, FISTS, ETC)   \nZIP                                               72207.0   \nLATITUDE                                        34.767513   \nLONGITUDE                                      -92.350911   \nWEEK_OF_MONTH                                           1   \nYEAR                                                 2020   \nDAY                                                    10   \nDAY_OF_YEAR                                           223   \nMONTH                                                   8   \n\nINCIDENT_NUMBER                   2021-068606          2017-123107  \nINCIDENT_DATE             2021-06-15 14:38:00  2017-10-02 10:10:00  \nLOCATION_DISTRICT                        71.0                 82.0  \nOFFENSE_DESCRIPTION  THEFT FROM MOTOR VEHICLE  THEFT FROM BUILDING  \nWEAPON_TYPE                         NO WEAPON            NO WEAPON  \nZIP                                   72211.0              72202.0  \nLATITUDE                            34.758569            34.765292  \nLONGITUDE                          -92.419065           -92.310104  \nWEEK_OF_MONTH                               2                    0  \nYEAR                                     2021                 2017  \nDAY                                        15                    2  \nDAY_OF_YEAR                               166                  275  \nMONTH                                       6                   10  ",
      "text/html": "<div>\n<style scoped>\n    .dataframe tbody tr th:only-of-type {\n        vertical-align: middle;\n    }\n\n    .dataframe tbody tr th {\n        vertical-align: top;\n    }\n\n    .dataframe thead th {\n        text-align: right;\n    }\n</style>\n<table border=\"1\" class=\"dataframe\">\n  <thead>\n    <tr style=\"text-align: right;\">\n      <th>INCIDENT_NUMBER</th>\n      <th>2018-066314</th>\n      <th>2020-040599</th>\n      <th>2020-091056</th>\n      <th>2021-068606</th>\n      <th>2017-123107</th>\n    </tr>\n  </thead>\n  <tbody>\n    <tr>\n      <th>INCIDENT_DATE</th>\n      <td>2018-05-31 17:50:00</td>\n      <td>2020-04-14 07:30:00</td>\n      <td>2020-08-10 11:43:00</td>\n      <td>2021-06-15 14:38:00</td>\n      <td>2017-10-02 10:10:00</td>\n    </tr>\n    <tr>\n      <th>LOCATION_DISTRICT</th>\n      <td>70.0</td>\n      <td>60.0</td>\n      <td>71.0</td>\n      <td>71.0</td>\n      <td>82.0</td>\n    </tr>\n    <tr>\n      <th>OFFENSE_DESCRIPTION</th>\n      <td>THEFT FROM BUILDING</td>\n      <td>THEFT FROM MOTOR VEHICLE</td>\n      <td>AGGRAVATED ASSAULT</td>\n      <td>THEFT FROM MOTOR VEHICLE</td>\n      <td>THEFT FROM BUILDING</td>\n    </tr>\n    <tr>\n      <th>WEAPON_TYPE</th>\n      <td>NO WEAPON</td>\n      <td>NO WEAPON</td>\n      <td>PERSONAL WEAPONS (HANDS, FISTS, ETC)</td>\n      <td>NO WEAPON</td>\n      <td>NO WEAPON</td>\n    </tr>\n    <tr>\n      <th>ZIP</th>\n      <td>72211.0</td>\n      <td>72207.0</td>\n      <td>72207.0</td>\n      <td>72211.0</td>\n      <td>72202.0</td>\n    </tr>\n    <tr>\n      <th>LATITUDE</th>\n      <td>34.767624</td>\n      <td>0.0</td>\n      <td>34.767513</td>\n      <td>34.758569</td>\n      <td>34.765292</td>\n    </tr>\n    <tr>\n      <th>LONGITUDE</th>\n      <td>-92.395836</td>\n      <td>0.0</td>\n      <td>-92.350911</td>\n      <td>-92.419065</td>\n      <td>-92.310104</td>\n    </tr>\n    <tr>\n      <th>WEEK_OF_MONTH</th>\n      <td>4</td>\n      <td>2</td>\n      <td>1</td>\n      <td>2</td>\n      <td>0</td>\n    </tr>\n    <tr>\n      <th>YEAR</th>\n      <td>2018</td>\n      <td>2020</td>\n      <td>2020</td>\n      <td>2021</td>\n      <td>2017</td>\n    </tr>\n    <tr>\n      <th>DAY</th>\n      <td>31</td>\n      <td>14</td>\n      <td>10</td>\n      <td>15</td>\n      <td>2</td>\n    </tr>\n    <tr>\n      <th>DAY_OF_YEAR</th>\n      <td>151</td>\n      <td>105</td>\n      <td>223</td>\n      <td>166</td>\n      <td>275</td>\n    </tr>\n    <tr>\n      <th>MONTH</th>\n      <td>5</td>\n      <td>4</td>\n      <td>8</td>\n      <td>6</td>\n      <td>10</td>\n    </tr>\n  </tbody>\n</table>\n</div>"
     },
     "execution_count": 124,
     "metadata": {},
     "output_type": "execute_result"
    }
   ],
   "source": [
    "lrpd.tail().T"
   ],
   "metadata": {
    "collapsed": false
   }
  },
  {
   "cell_type": "markdown",
   "source": [
    "### Determining crime risk and violence level:"
   ],
   "metadata": {
    "collapsed": false
   }
  },
  {
   "cell_type": "code",
   "execution_count": 125,
   "outputs": [],
   "source": [
    "all_crimes = lrpd[\"OFFENSE_DESCRIPTION\"].unique()\n",
    "all_weapons = lrpd[\"WEAPON_TYPE\"].unique()"
   ],
   "metadata": {
    "collapsed": false
   }
  },
  {
   "cell_type": "markdown",
   "source": [
    "Pre-defining which crimes are considered violent and nonviolent:"
   ],
   "metadata": {
    "collapsed": false
   }
  },
  {
   "cell_type": "code",
   "execution_count": 126,
   "outputs": [],
   "source": [
    "violent_crimes = ['RAPE', 'AGGRAVATED ASSAULT', 'ALL OTHER LARCENY', 'ROBBERY', 'BURGLARY/B&E',\n",
    "                  'MURDER & NONNEGLIGENT MANSLAUGHTER']\n",
    "nonviolent_crimes = ['THEFT FROM MOTOR VEHICLE', 'MOTOR VEHICLE THEFT', 'THEFT OF MOTOR VEHICLE PARTS',\n",
    "                     'SHOPLIFTING', 'THEFT FROM BUILDING', 'POCKET-PICKING', 'THEFT FROM COIN-OPERATED MACHINE',\n",
    "                     'PURSE-SNATCHING']"
   ],
   "metadata": {
    "collapsed": false
   }
  },
  {
   "cell_type": "code",
   "execution_count": 127,
   "outputs": [],
   "source": [
    "def determine_crime_type(crime):\n",
    "    if crime in violent_crimes:\n",
    "        return 'Violent Crime'\n",
    "    elif crime in nonviolent_crimes:\n",
    "        return 'Non-Violent Crime'\n",
    "    else:\n",
    "        return 'Crime Type Unknown'"
   ],
   "metadata": {
    "collapsed": false
   }
  },
  {
   "cell_type": "code",
   "execution_count": 128,
   "outputs": [],
   "source": [
    "def determine_risk_type(crime):\n",
    "    print(crime)"
   ],
   "metadata": {
    "collapsed": false
   }
  },
  {
   "cell_type": "code",
   "execution_count": 129,
   "outputs": [],
   "source": [
    "lrpd[\"CRIME_TYPE\"] = lrpd[\"OFFENSE_DESCRIPTION\"].apply(determine_crime_type)"
   ],
   "metadata": {
    "collapsed": false
   }
  },
  {
   "cell_type": "code",
   "execution_count": 130,
   "outputs": [],
   "source": [
    "# Risk ASSESSEMENT\n",
    "lrpd.loc[(lrpd['CRIME_TYPE'] == 'Violent Crime') | (\n",
    "        lrpd['WEAPON_TYPE'] != 'NO WEAPON'), \"RISK_TYPE\"] = \"High Risk\"\n",
    "\n",
    "lrpd.loc[(lrpd['CRIME_TYPE'] == 'Violent Crime') & (\n",
    "        lrpd['CRIME_TYPE'] != 'NO WEAPON'), \"RISK_TYPE\"] = \"High Risk\"\n",
    "\n",
    "lrpd.loc[(lrpd['CRIME_TYPE'] == 'Non-Violent Crime') & (\n",
    "        lrpd['WEAPON_TYPE'] != 'NO WEAPON'), \"RISK_TYPE\"] = \"High Risk\"\n",
    "\n",
    "lrpd.loc[(lrpd['CRIME_TYPE'] == 'Non-Violent Crime') & (\n",
    "        lrpd['WEAPON_TYPE'] == 'NO WEAPON'), \"RISK_TYPE\"] = \"Low Risk\""
   ],
   "metadata": {
    "collapsed": false
   }
  },
  {
   "cell_type": "code",
   "execution_count": 131,
   "outputs": [],
   "source": [
    "lrpd['RISK_TYPE_BC'] = lrpd[\"RISK_TYPE\"].map({'High Risk': 1, 'Low Risk': 0})"
   ],
   "metadata": {
    "collapsed": false
   }
  },
  {
   "cell_type": "markdown",
   "source": [
    "### Visualizing current modifications:"
   ],
   "metadata": {
    "collapsed": false
   }
  },
  {
   "cell_type": "code",
   "execution_count": 132,
   "outputs": [
    {
     "data": {
      "text/plain": "INCIDENT_NUMBER                   2021-092971                   2017-029450  \\\nINCIDENT_DATE             2021-08-04 10:21:00           2017-03-16 18:30:00   \nLOCATION_DISTRICT                        72.0                          82.0   \nOFFENSE_DESCRIPTION  THEFT FROM MOTOR VEHICLE  THEFT OF MOTOR VEHICLE PARTS   \nWEAPON_TYPE                         NO WEAPON                     NO WEAPON   \nZIP                                   72204.0                       72206.0   \nLATITUDE                                  0.0                     34.649362   \nLONGITUDE                                 0.0                    -92.301959   \nWEEK_OF_MONTH                               0                             2   \nYEAR                                     2021                          2017   \nDAY                                         4                            16   \nDAY_OF_YEAR                               216                            75   \nMONTH                                       8                             3   \nCRIME_TYPE                  Non-Violent Crime             Non-Violent Crime   \nRISK_TYPE                            Low Risk                      Low Risk   \nRISK_TYPE_BC                                0                             0   \n\nINCIDENT_NUMBER              2017-156453          2019-130717  \\\nINCIDENT_DATE        2017-09-01 12:00:00  2019-10-17 21:00:00   \nLOCATION_DISTRICT                   53.0                 51.0   \nOFFENSE_DESCRIPTION                 RAPE                 RAPE   \nWEAPON_TYPE                    NO WEAPON            NO WEAPON   \nZIP                                  0.0                  0.0   \nLATITUDE                             0.0                  0.0   \nLONGITUDE                            0.0                  0.0   \nWEEK_OF_MONTH                          0                    2   \nYEAR                                2017                 2019   \nDAY                                    1                   17   \nDAY_OF_YEAR                          244                  290   \nMONTH                                  9                   10   \nCRIME_TYPE                 Violent Crime        Violent Crime   \nRISK_TYPE                      High Risk            High Risk   \nRISK_TYPE_BC                           1                    1   \n\nINCIDENT_NUMBER              2020-073313  \nINCIDENT_DATE        2020-07-02 19:10:00  \nLOCATION_DISTRICT                   50.0  \nOFFENSE_DESCRIPTION                 RAPE  \nWEAPON_TYPE                    NO WEAPON  \nZIP                                  0.0  \nLATITUDE                             0.0  \nLONGITUDE                            0.0  \nWEEK_OF_MONTH                          0  \nYEAR                                2020  \nDAY                                    2  \nDAY_OF_YEAR                          184  \nMONTH                                  7  \nCRIME_TYPE                 Violent Crime  \nRISK_TYPE                      High Risk  \nRISK_TYPE_BC                           1  ",
      "text/html": "<div>\n<style scoped>\n    .dataframe tbody tr th:only-of-type {\n        vertical-align: middle;\n    }\n\n    .dataframe tbody tr th {\n        vertical-align: top;\n    }\n\n    .dataframe thead th {\n        text-align: right;\n    }\n</style>\n<table border=\"1\" class=\"dataframe\">\n  <thead>\n    <tr style=\"text-align: right;\">\n      <th>INCIDENT_NUMBER</th>\n      <th>2021-092971</th>\n      <th>2017-029450</th>\n      <th>2017-156453</th>\n      <th>2019-130717</th>\n      <th>2020-073313</th>\n    </tr>\n  </thead>\n  <tbody>\n    <tr>\n      <th>INCIDENT_DATE</th>\n      <td>2021-08-04 10:21:00</td>\n      <td>2017-03-16 18:30:00</td>\n      <td>2017-09-01 12:00:00</td>\n      <td>2019-10-17 21:00:00</td>\n      <td>2020-07-02 19:10:00</td>\n    </tr>\n    <tr>\n      <th>LOCATION_DISTRICT</th>\n      <td>72.0</td>\n      <td>82.0</td>\n      <td>53.0</td>\n      <td>51.0</td>\n      <td>50.0</td>\n    </tr>\n    <tr>\n      <th>OFFENSE_DESCRIPTION</th>\n      <td>THEFT FROM MOTOR VEHICLE</td>\n      <td>THEFT OF MOTOR VEHICLE PARTS</td>\n      <td>RAPE</td>\n      <td>RAPE</td>\n      <td>RAPE</td>\n    </tr>\n    <tr>\n      <th>WEAPON_TYPE</th>\n      <td>NO WEAPON</td>\n      <td>NO WEAPON</td>\n      <td>NO WEAPON</td>\n      <td>NO WEAPON</td>\n      <td>NO WEAPON</td>\n    </tr>\n    <tr>\n      <th>ZIP</th>\n      <td>72204.0</td>\n      <td>72206.0</td>\n      <td>0.0</td>\n      <td>0.0</td>\n      <td>0.0</td>\n    </tr>\n    <tr>\n      <th>LATITUDE</th>\n      <td>0.0</td>\n      <td>34.649362</td>\n      <td>0.0</td>\n      <td>0.0</td>\n      <td>0.0</td>\n    </tr>\n    <tr>\n      <th>LONGITUDE</th>\n      <td>0.0</td>\n      <td>-92.301959</td>\n      <td>0.0</td>\n      <td>0.0</td>\n      <td>0.0</td>\n    </tr>\n    <tr>\n      <th>WEEK_OF_MONTH</th>\n      <td>0</td>\n      <td>2</td>\n      <td>0</td>\n      <td>2</td>\n      <td>0</td>\n    </tr>\n    <tr>\n      <th>YEAR</th>\n      <td>2021</td>\n      <td>2017</td>\n      <td>2017</td>\n      <td>2019</td>\n      <td>2020</td>\n    </tr>\n    <tr>\n      <th>DAY</th>\n      <td>4</td>\n      <td>16</td>\n      <td>1</td>\n      <td>17</td>\n      <td>2</td>\n    </tr>\n    <tr>\n      <th>DAY_OF_YEAR</th>\n      <td>216</td>\n      <td>75</td>\n      <td>244</td>\n      <td>290</td>\n      <td>184</td>\n    </tr>\n    <tr>\n      <th>MONTH</th>\n      <td>8</td>\n      <td>3</td>\n      <td>9</td>\n      <td>10</td>\n      <td>7</td>\n    </tr>\n    <tr>\n      <th>CRIME_TYPE</th>\n      <td>Non-Violent Crime</td>\n      <td>Non-Violent Crime</td>\n      <td>Violent Crime</td>\n      <td>Violent Crime</td>\n      <td>Violent Crime</td>\n    </tr>\n    <tr>\n      <th>RISK_TYPE</th>\n      <td>Low Risk</td>\n      <td>Low Risk</td>\n      <td>High Risk</td>\n      <td>High Risk</td>\n      <td>High Risk</td>\n    </tr>\n    <tr>\n      <th>RISK_TYPE_BC</th>\n      <td>0</td>\n      <td>0</td>\n      <td>1</td>\n      <td>1</td>\n      <td>1</td>\n    </tr>\n  </tbody>\n</table>\n</div>"
     },
     "execution_count": 132,
     "metadata": {},
     "output_type": "execute_result"
    }
   ],
   "source": [
    "lrpd.head().T"
   ],
   "metadata": {
    "collapsed": false
   }
  },
  {
   "cell_type": "code",
   "execution_count": 133,
   "outputs": [
    {
     "data": {
      "text/plain": "INCIDENT_NUMBER              2018-066314               2020-040599  \\\nINCIDENT_DATE        2018-05-31 17:50:00       2020-04-14 07:30:00   \nLOCATION_DISTRICT                   70.0                      60.0   \nOFFENSE_DESCRIPTION  THEFT FROM BUILDING  THEFT FROM MOTOR VEHICLE   \nWEAPON_TYPE                    NO WEAPON                 NO WEAPON   \nZIP                              72211.0                   72207.0   \nLATITUDE                       34.767624                       0.0   \nLONGITUDE                     -92.395836                       0.0   \nWEEK_OF_MONTH                          4                         2   \nYEAR                                2018                      2020   \nDAY                                   31                        14   \nDAY_OF_YEAR                          151                       105   \nMONTH                                  5                         4   \nCRIME_TYPE             Non-Violent Crime         Non-Violent Crime   \nRISK_TYPE                       Low Risk                  Low Risk   \nRISK_TYPE_BC                           0                         0   \n\nINCIDENT_NUMBER                               2020-091056  \\\nINCIDENT_DATE                         2020-08-10 11:43:00   \nLOCATION_DISTRICT                                    71.0   \nOFFENSE_DESCRIPTION                    AGGRAVATED ASSAULT   \nWEAPON_TYPE          PERSONAL WEAPONS (HANDS, FISTS, ETC)   \nZIP                                               72207.0   \nLATITUDE                                        34.767513   \nLONGITUDE                                      -92.350911   \nWEEK_OF_MONTH                                           1   \nYEAR                                                 2020   \nDAY                                                    10   \nDAY_OF_YEAR                                           223   \nMONTH                                                   8   \nCRIME_TYPE                                  Violent Crime   \nRISK_TYPE                                       High Risk   \nRISK_TYPE_BC                                            1   \n\nINCIDENT_NUMBER                   2021-068606          2017-123107  \nINCIDENT_DATE             2021-06-15 14:38:00  2017-10-02 10:10:00  \nLOCATION_DISTRICT                        71.0                 82.0  \nOFFENSE_DESCRIPTION  THEFT FROM MOTOR VEHICLE  THEFT FROM BUILDING  \nWEAPON_TYPE                         NO WEAPON            NO WEAPON  \nZIP                                   72211.0              72202.0  \nLATITUDE                            34.758569            34.765292  \nLONGITUDE                          -92.419065           -92.310104  \nWEEK_OF_MONTH                               2                    0  \nYEAR                                     2021                 2017  \nDAY                                        15                    2  \nDAY_OF_YEAR                               166                  275  \nMONTH                                       6                   10  \nCRIME_TYPE                  Non-Violent Crime    Non-Violent Crime  \nRISK_TYPE                            Low Risk             Low Risk  \nRISK_TYPE_BC                                0                    0  ",
      "text/html": "<div>\n<style scoped>\n    .dataframe tbody tr th:only-of-type {\n        vertical-align: middle;\n    }\n\n    .dataframe tbody tr th {\n        vertical-align: top;\n    }\n\n    .dataframe thead th {\n        text-align: right;\n    }\n</style>\n<table border=\"1\" class=\"dataframe\">\n  <thead>\n    <tr style=\"text-align: right;\">\n      <th>INCIDENT_NUMBER</th>\n      <th>2018-066314</th>\n      <th>2020-040599</th>\n      <th>2020-091056</th>\n      <th>2021-068606</th>\n      <th>2017-123107</th>\n    </tr>\n  </thead>\n  <tbody>\n    <tr>\n      <th>INCIDENT_DATE</th>\n      <td>2018-05-31 17:50:00</td>\n      <td>2020-04-14 07:30:00</td>\n      <td>2020-08-10 11:43:00</td>\n      <td>2021-06-15 14:38:00</td>\n      <td>2017-10-02 10:10:00</td>\n    </tr>\n    <tr>\n      <th>LOCATION_DISTRICT</th>\n      <td>70.0</td>\n      <td>60.0</td>\n      <td>71.0</td>\n      <td>71.0</td>\n      <td>82.0</td>\n    </tr>\n    <tr>\n      <th>OFFENSE_DESCRIPTION</th>\n      <td>THEFT FROM BUILDING</td>\n      <td>THEFT FROM MOTOR VEHICLE</td>\n      <td>AGGRAVATED ASSAULT</td>\n      <td>THEFT FROM MOTOR VEHICLE</td>\n      <td>THEFT FROM BUILDING</td>\n    </tr>\n    <tr>\n      <th>WEAPON_TYPE</th>\n      <td>NO WEAPON</td>\n      <td>NO WEAPON</td>\n      <td>PERSONAL WEAPONS (HANDS, FISTS, ETC)</td>\n      <td>NO WEAPON</td>\n      <td>NO WEAPON</td>\n    </tr>\n    <tr>\n      <th>ZIP</th>\n      <td>72211.0</td>\n      <td>72207.0</td>\n      <td>72207.0</td>\n      <td>72211.0</td>\n      <td>72202.0</td>\n    </tr>\n    <tr>\n      <th>LATITUDE</th>\n      <td>34.767624</td>\n      <td>0.0</td>\n      <td>34.767513</td>\n      <td>34.758569</td>\n      <td>34.765292</td>\n    </tr>\n    <tr>\n      <th>LONGITUDE</th>\n      <td>-92.395836</td>\n      <td>0.0</td>\n      <td>-92.350911</td>\n      <td>-92.419065</td>\n      <td>-92.310104</td>\n    </tr>\n    <tr>\n      <th>WEEK_OF_MONTH</th>\n      <td>4</td>\n      <td>2</td>\n      <td>1</td>\n      <td>2</td>\n      <td>0</td>\n    </tr>\n    <tr>\n      <th>YEAR</th>\n      <td>2018</td>\n      <td>2020</td>\n      <td>2020</td>\n      <td>2021</td>\n      <td>2017</td>\n    </tr>\n    <tr>\n      <th>DAY</th>\n      <td>31</td>\n      <td>14</td>\n      <td>10</td>\n      <td>15</td>\n      <td>2</td>\n    </tr>\n    <tr>\n      <th>DAY_OF_YEAR</th>\n      <td>151</td>\n      <td>105</td>\n      <td>223</td>\n      <td>166</td>\n      <td>275</td>\n    </tr>\n    <tr>\n      <th>MONTH</th>\n      <td>5</td>\n      <td>4</td>\n      <td>8</td>\n      <td>6</td>\n      <td>10</td>\n    </tr>\n    <tr>\n      <th>CRIME_TYPE</th>\n      <td>Non-Violent Crime</td>\n      <td>Non-Violent Crime</td>\n      <td>Violent Crime</td>\n      <td>Non-Violent Crime</td>\n      <td>Non-Violent Crime</td>\n    </tr>\n    <tr>\n      <th>RISK_TYPE</th>\n      <td>Low Risk</td>\n      <td>Low Risk</td>\n      <td>High Risk</td>\n      <td>Low Risk</td>\n      <td>Low Risk</td>\n    </tr>\n    <tr>\n      <th>RISK_TYPE_BC</th>\n      <td>0</td>\n      <td>0</td>\n      <td>1</td>\n      <td>0</td>\n      <td>0</td>\n    </tr>\n  </tbody>\n</table>\n</div>"
     },
     "execution_count": 133,
     "metadata": {},
     "output_type": "execute_result"
    }
   ],
   "source": [
    "lrpd.tail().T"
   ],
   "metadata": {
    "collapsed": false
   }
  },
  {
   "cell_type": "markdown",
   "source": [
    "### Saving the modified DataSet to a new CSV:"
   ],
   "metadata": {
    "collapsed": false
   }
  },
  {
   "cell_type": "code",
   "execution_count": 134,
   "outputs": [],
   "source": [
    "lrpd.to_csv(\"../data/lrpd-clean.csv\")"
   ],
   "metadata": {
    "collapsed": false
   }
  },
  {
   "cell_type": "code",
   "execution_count": 135,
   "outputs": [
    {
     "data": {
      "text/plain": "(82691, 15)"
     },
     "execution_count": 135,
     "metadata": {},
     "output_type": "execute_result"
    }
   ],
   "source": [
    "lrpd.shape"
   ],
   "metadata": {
    "collapsed": false
   }
  }
 ],
 "metadata": {
  "kernelspec": {
   "display_name": "Python 3",
   "language": "python",
   "name": "python3"
  },
  "language_info": {
   "codemirror_mode": {
    "name": "ipython",
    "version": 2
   },
   "file_extension": ".py",
   "mimetype": "text/x-python",
   "name": "python",
   "nbconvert_exporter": "python",
   "pygments_lexer": "ipython2",
   "version": "2.7.6"
  }
 },
 "nbformat": 4,
 "nbformat_minor": 0
}
