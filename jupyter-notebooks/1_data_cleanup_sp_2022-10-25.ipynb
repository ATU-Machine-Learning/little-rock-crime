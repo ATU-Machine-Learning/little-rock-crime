{
 "cells": [
  {
   "cell_type": "markdown",
   "source": [
    "# Notebook Goals:\n",
    "- [] Remove major errors, duplicates, and outliers\n",
    "- [x] Remove unwanted data field(s)\n",
    "    * Removed all irrelevant field(s).\n",
    "- [x] Bring structure\n",
    "    * Parsed the Date into two columns.\n",
    "- [x] Handle missing data\n",
    "    * Filled all NA values with zeroes (0)."
   ],
   "metadata": {
    "collapsed": false
   }
  },
  {
   "cell_type": "code",
   "execution_count": 165,
   "metadata": {
    "collapsed": true
   },
   "outputs": [],
   "source": [
    "import pandas as pd\n",
    "import numpy as np"
   ]
  },
  {
   "cell_type": "code",
   "execution_count": 166,
   "outputs": [],
   "source": [
    "# Optimize loading the DataFrame into memory by only requesting the columns that are relevant towards the problem statement.\n",
    "requested_columns = [\"INCIDENT_DATE\", \"INCIDENT_NUMBER\", \"LOCATION_DISTRICT\", \"OFFENSE_DESCRIPTION\", \"WEAPON_TYPE\", \"INCIDENT_LOCATION\", \"ZIP\", \"LATITUDE\", \"LONGITUDE\"]\n",
    "\n",
    "lrpd = pd.read_csv(\"../data/lrpd.csv\", usecols=requested_columns)"
   ],
   "metadata": {
    "collapsed": false
   }
  },
  {
   "cell_type": "code",
   "execution_count": 167,
   "outputs": [],
   "source": [
    "# Drop all duplicate rows!\n",
    "prev_shape = lrpd.shape\n",
    "lrpd = lrpd.drop_duplicates(subset=[\"INCIDENT_NUMBER\"], keep='last')\n",
    "new_shape = lrpd.shape"
   ],
   "metadata": {
    "collapsed": false
   }
  },
  {
   "cell_type": "code",
   "execution_count": 168,
   "outputs": [
    {
     "name": "stdout",
     "output_type": "stream",
     "text": [
      "Dropped 6369 duplicates!\n"
     ]
    }
   ],
   "source": [
    "diff = prev_shape[0] - new_shape[0]\n",
    "print(f'Dropped {diff} duplicates!')"
   ],
   "metadata": {
    "collapsed": false
   }
  },
  {
   "cell_type": "code",
   "execution_count": 169,
   "outputs": [],
   "source": [
    "lrpd.set_index(\"INCIDENT_NUMBER\", inplace=True)"
   ],
   "metadata": {
    "collapsed": false
   }
  },
  {
   "cell_type": "code",
   "execution_count": 170,
   "outputs": [],
   "source": [
    "# Fill all the Pandas-handled Missing Data with zeroes (0).\n",
    "lrpd = lrpd.fillna(0)"
   ],
   "metadata": {
    "collapsed": false
   }
  },
  {
   "cell_type": "code",
   "execution_count": 171,
   "outputs": [],
   "source": [
    "lrpd[\"WEAPON_TYPE\"] = lrpd[\"WEAPON_TYPE\"].replace(0, \"NO WEAPON\")\n",
    "lrpd[\"WEAPON_TYPE\"] = lrpd[\"WEAPON_TYPE\"].replace(\"1\", \"NO WEAPON\")"
   ],
   "metadata": {
    "collapsed": false
   }
  },
  {
   "cell_type": "code",
   "execution_count": 172,
   "outputs": [
    {
     "data": {
      "text/plain": "Empty DataFrame\nColumns: [INCIDENT_DATE, LOCATION_DISTRICT, OFFENSE_DESCRIPTION, WEAPON_TYPE, INCIDENT_LOCATION, ZIP, LATITUDE, LONGITUDE]\nIndex: []",
      "text/html": "<div>\n<style scoped>\n    .dataframe tbody tr th:only-of-type {\n        vertical-align: middle;\n    }\n\n    .dataframe tbody tr th {\n        vertical-align: top;\n    }\n\n    .dataframe thead th {\n        text-align: right;\n    }\n</style>\n<table border=\"1\" class=\"dataframe\">\n  <thead>\n    <tr style=\"text-align: right;\">\n      <th></th>\n      <th>INCIDENT_DATE</th>\n      <th>LOCATION_DISTRICT</th>\n      <th>OFFENSE_DESCRIPTION</th>\n      <th>WEAPON_TYPE</th>\n      <th>INCIDENT_LOCATION</th>\n      <th>ZIP</th>\n      <th>LATITUDE</th>\n      <th>LONGITUDE</th>\n    </tr>\n    <tr>\n      <th>INCIDENT_NUMBER</th>\n      <th></th>\n      <th></th>\n      <th></th>\n      <th></th>\n      <th></th>\n      <th></th>\n      <th></th>\n      <th></th>\n    </tr>\n  </thead>\n  <tbody>\n  </tbody>\n</table>\n</div>"
     },
     "execution_count": 172,
     "metadata": {},
     "output_type": "execute_result"
    }
   ],
   "source": [
    "lrpd.loc[lrpd[\"WEAPON_TYPE\"] == \"1\"]"
   ],
   "metadata": {
    "collapsed": false
   }
  },
  {
   "cell_type": "code",
   "execution_count": 173,
   "outputs": [
    {
     "data": {
      "text/plain": "                          INCIDENT_DATE  LOCATION_DISTRICT  \\\nINCIDENT_NUMBER                                              \n2021-092971      08/04/2021 10:21:00 AM               72.0   \n2017-029450      03/16/2017 06:30:00 PM               82.0   \n2017-156453      09/01/2017 12:00:00 PM               53.0   \n2019-130717      10/17/2019 09:00:00 PM               51.0   \n2020-073313      07/02/2020 07:10:00 PM               50.0   \n\n                          OFFENSE_DESCRIPTION WEAPON_TYPE  \\\nINCIDENT_NUMBER                                             \n2021-092971          THEFT FROM MOTOR VEHICLE   NO WEAPON   \n2017-029450      THEFT OF MOTOR VEHICLE PARTS   NO WEAPON   \n2017-156453                              RAPE   NO WEAPON   \n2019-130717                              RAPE   NO WEAPON   \n2020-073313                              RAPE   NO WEAPON   \n\n                       INCIDENT_LOCATION      ZIP   LATITUDE  LONGITUDE  \nINCIDENT_NUMBER                                                          \n2021-092971              15601  KANIS RD  72204.0   0.000000   0.000000  \n2017-029450      10801 IRONTON CUTOFF RD  72206.0  34.649362 -92.301959  \n2017-156453                            0      0.0   0.000000   0.000000  \n2019-130717                            0      0.0   0.000000   0.000000  \n2020-073313                            0      0.0   0.000000   0.000000  ",
      "text/html": "<div>\n<style scoped>\n    .dataframe tbody tr th:only-of-type {\n        vertical-align: middle;\n    }\n\n    .dataframe tbody tr th {\n        vertical-align: top;\n    }\n\n    .dataframe thead th {\n        text-align: right;\n    }\n</style>\n<table border=\"1\" class=\"dataframe\">\n  <thead>\n    <tr style=\"text-align: right;\">\n      <th></th>\n      <th>INCIDENT_DATE</th>\n      <th>LOCATION_DISTRICT</th>\n      <th>OFFENSE_DESCRIPTION</th>\n      <th>WEAPON_TYPE</th>\n      <th>INCIDENT_LOCATION</th>\n      <th>ZIP</th>\n      <th>LATITUDE</th>\n      <th>LONGITUDE</th>\n    </tr>\n    <tr>\n      <th>INCIDENT_NUMBER</th>\n      <th></th>\n      <th></th>\n      <th></th>\n      <th></th>\n      <th></th>\n      <th></th>\n      <th></th>\n      <th></th>\n    </tr>\n  </thead>\n  <tbody>\n    <tr>\n      <th>2021-092971</th>\n      <td>08/04/2021 10:21:00 AM</td>\n      <td>72.0</td>\n      <td>THEFT FROM MOTOR VEHICLE</td>\n      <td>NO WEAPON</td>\n      <td>15601  KANIS RD</td>\n      <td>72204.0</td>\n      <td>0.000000</td>\n      <td>0.000000</td>\n    </tr>\n    <tr>\n      <th>2017-029450</th>\n      <td>03/16/2017 06:30:00 PM</td>\n      <td>82.0</td>\n      <td>THEFT OF MOTOR VEHICLE PARTS</td>\n      <td>NO WEAPON</td>\n      <td>10801 IRONTON CUTOFF RD</td>\n      <td>72206.0</td>\n      <td>34.649362</td>\n      <td>-92.301959</td>\n    </tr>\n    <tr>\n      <th>2017-156453</th>\n      <td>09/01/2017 12:00:00 PM</td>\n      <td>53.0</td>\n      <td>RAPE</td>\n      <td>NO WEAPON</td>\n      <td>0</td>\n      <td>0.0</td>\n      <td>0.000000</td>\n      <td>0.000000</td>\n    </tr>\n    <tr>\n      <th>2019-130717</th>\n      <td>10/17/2019 09:00:00 PM</td>\n      <td>51.0</td>\n      <td>RAPE</td>\n      <td>NO WEAPON</td>\n      <td>0</td>\n      <td>0.0</td>\n      <td>0.000000</td>\n      <td>0.000000</td>\n    </tr>\n    <tr>\n      <th>2020-073313</th>\n      <td>07/02/2020 07:10:00 PM</td>\n      <td>50.0</td>\n      <td>RAPE</td>\n      <td>NO WEAPON</td>\n      <td>0</td>\n      <td>0.0</td>\n      <td>0.000000</td>\n      <td>0.000000</td>\n    </tr>\n  </tbody>\n</table>\n</div>"
     },
     "execution_count": 173,
     "metadata": {},
     "output_type": "execute_result"
    }
   ],
   "source": [
    "lrpd.head()"
   ],
   "metadata": {
    "collapsed": false
   }
  },
  {
   "cell_type": "code",
   "execution_count": 174,
   "outputs": [],
   "source": [
    "# Splits the incident_date string into a 3-element tuple.\n",
    "# [0] -> MM/DD/YYYY\n",
    "# [1] -> HH:MM:SS\n",
    "# [2] -> AM/PM\n",
    "def split_incident_date(incident_date):\n",
    "    split = incident_date.split(' ')\n",
    "    return split[0], split[1], split[2]\n",
    "\n",
    "# Parses the split incident into a Date format (MM/DD/YYYY).\n",
    "def get_incident_date(incident_date):\n",
    "    date = split_incident_date(incident_date)\n",
    "    return date[0]\n",
    "\n",
    "# Parses the incident into a Time format (HH:MM AM/PM).\n",
    "def get_incident_time(incident_date):\n",
    "    time = split_incident_date(incident_date)\n",
    "    hms = time[1].split(':')\n",
    "    return hms[0] + ':' + hms[1] + ' ' + time[2]"
   ],
   "metadata": {
    "collapsed": false
   }
  },
  {
   "cell_type": "code",
   "execution_count": 175,
   "outputs": [],
   "source": [
    "# Replace INCIDENT_DATE column with more concise columns.\n",
    "temp_date = lrpd[\"INCIDENT_DATE\"]\n",
    "lrpd[\"INCIDENT_DATE\"] = temp_date.apply(get_incident_date)\n",
    "lrpd[\"INCIDENT_TIME\"] = temp_date.apply(get_incident_time)"
   ],
   "metadata": {
    "collapsed": false
   }
  },
  {
   "cell_type": "code",
   "execution_count": 176,
   "outputs": [
    {
     "data": {
      "text/plain": "                INCIDENT_DATE  LOCATION_DISTRICT  \\\nINCIDENT_NUMBER                                    \n2021-092971        08/04/2021               72.0   \n2017-029450        03/16/2017               82.0   \n2017-156453        09/01/2017               53.0   \n2019-130717        10/17/2019               51.0   \n2020-073313        07/02/2020               50.0   \n\n                          OFFENSE_DESCRIPTION WEAPON_TYPE  \\\nINCIDENT_NUMBER                                             \n2021-092971          THEFT FROM MOTOR VEHICLE   NO WEAPON   \n2017-029450      THEFT OF MOTOR VEHICLE PARTS   NO WEAPON   \n2017-156453                              RAPE   NO WEAPON   \n2019-130717                              RAPE   NO WEAPON   \n2020-073313                              RAPE   NO WEAPON   \n\n                       INCIDENT_LOCATION      ZIP   LATITUDE  LONGITUDE  \\\nINCIDENT_NUMBER                                                           \n2021-092971              15601  KANIS RD  72204.0   0.000000   0.000000   \n2017-029450      10801 IRONTON CUTOFF RD  72206.0  34.649362 -92.301959   \n2017-156453                            0      0.0   0.000000   0.000000   \n2019-130717                            0      0.0   0.000000   0.000000   \n2020-073313                            0      0.0   0.000000   0.000000   \n\n                INCIDENT_TIME  \nINCIDENT_NUMBER                \n2021-092971          10:21 AM  \n2017-029450          06:30 PM  \n2017-156453          12:00 PM  \n2019-130717          09:00 PM  \n2020-073313          07:10 PM  ",
      "text/html": "<div>\n<style scoped>\n    .dataframe tbody tr th:only-of-type {\n        vertical-align: middle;\n    }\n\n    .dataframe tbody tr th {\n        vertical-align: top;\n    }\n\n    .dataframe thead th {\n        text-align: right;\n    }\n</style>\n<table border=\"1\" class=\"dataframe\">\n  <thead>\n    <tr style=\"text-align: right;\">\n      <th></th>\n      <th>INCIDENT_DATE</th>\n      <th>LOCATION_DISTRICT</th>\n      <th>OFFENSE_DESCRIPTION</th>\n      <th>WEAPON_TYPE</th>\n      <th>INCIDENT_LOCATION</th>\n      <th>ZIP</th>\n      <th>LATITUDE</th>\n      <th>LONGITUDE</th>\n      <th>INCIDENT_TIME</th>\n    </tr>\n    <tr>\n      <th>INCIDENT_NUMBER</th>\n      <th></th>\n      <th></th>\n      <th></th>\n      <th></th>\n      <th></th>\n      <th></th>\n      <th></th>\n      <th></th>\n      <th></th>\n    </tr>\n  </thead>\n  <tbody>\n    <tr>\n      <th>2021-092971</th>\n      <td>08/04/2021</td>\n      <td>72.0</td>\n      <td>THEFT FROM MOTOR VEHICLE</td>\n      <td>NO WEAPON</td>\n      <td>15601  KANIS RD</td>\n      <td>72204.0</td>\n      <td>0.000000</td>\n      <td>0.000000</td>\n      <td>10:21 AM</td>\n    </tr>\n    <tr>\n      <th>2017-029450</th>\n      <td>03/16/2017</td>\n      <td>82.0</td>\n      <td>THEFT OF MOTOR VEHICLE PARTS</td>\n      <td>NO WEAPON</td>\n      <td>10801 IRONTON CUTOFF RD</td>\n      <td>72206.0</td>\n      <td>34.649362</td>\n      <td>-92.301959</td>\n      <td>06:30 PM</td>\n    </tr>\n    <tr>\n      <th>2017-156453</th>\n      <td>09/01/2017</td>\n      <td>53.0</td>\n      <td>RAPE</td>\n      <td>NO WEAPON</td>\n      <td>0</td>\n      <td>0.0</td>\n      <td>0.000000</td>\n      <td>0.000000</td>\n      <td>12:00 PM</td>\n    </tr>\n    <tr>\n      <th>2019-130717</th>\n      <td>10/17/2019</td>\n      <td>51.0</td>\n      <td>RAPE</td>\n      <td>NO WEAPON</td>\n      <td>0</td>\n      <td>0.0</td>\n      <td>0.000000</td>\n      <td>0.000000</td>\n      <td>09:00 PM</td>\n    </tr>\n    <tr>\n      <th>2020-073313</th>\n      <td>07/02/2020</td>\n      <td>50.0</td>\n      <td>RAPE</td>\n      <td>NO WEAPON</td>\n      <td>0</td>\n      <td>0.0</td>\n      <td>0.000000</td>\n      <td>0.000000</td>\n      <td>07:10 PM</td>\n    </tr>\n  </tbody>\n</table>\n</div>"
     },
     "execution_count": 176,
     "metadata": {},
     "output_type": "execute_result"
    }
   ],
   "source": [
    "lrpd.head()"
   ],
   "metadata": {
    "collapsed": false
   }
  },
  {
   "cell_type": "code",
   "execution_count": 177,
   "outputs": [
    {
     "data": {
      "text/plain": "       LOCATION_DISTRICT           ZIP      LATITUDE     LONGITUDE\ncount       81833.000000  81833.000000  81833.000000  81833.000000\nmean           65.955446  71271.371867     33.596511    -89.350141\nstd            15.510309   8160.766312      6.157083     16.374495\nmin             0.000000      0.000000      0.000000    -92.545466\n25%            54.000000  72204.000000     34.689606    -92.387244\n50%            63.000000  72206.000000     34.732894    -92.346238\n75%            81.000000  72209.000000     34.752135    -92.314721\nmax            93.000000  72227.000000     34.881691      0.000000",
      "text/html": "<div>\n<style scoped>\n    .dataframe tbody tr th:only-of-type {\n        vertical-align: middle;\n    }\n\n    .dataframe tbody tr th {\n        vertical-align: top;\n    }\n\n    .dataframe thead th {\n        text-align: right;\n    }\n</style>\n<table border=\"1\" class=\"dataframe\">\n  <thead>\n    <tr style=\"text-align: right;\">\n      <th></th>\n      <th>LOCATION_DISTRICT</th>\n      <th>ZIP</th>\n      <th>LATITUDE</th>\n      <th>LONGITUDE</th>\n    </tr>\n  </thead>\n  <tbody>\n    <tr>\n      <th>count</th>\n      <td>81833.000000</td>\n      <td>81833.000000</td>\n      <td>81833.000000</td>\n      <td>81833.000000</td>\n    </tr>\n    <tr>\n      <th>mean</th>\n      <td>65.955446</td>\n      <td>71271.371867</td>\n      <td>33.596511</td>\n      <td>-89.350141</td>\n    </tr>\n    <tr>\n      <th>std</th>\n      <td>15.510309</td>\n      <td>8160.766312</td>\n      <td>6.157083</td>\n      <td>16.374495</td>\n    </tr>\n    <tr>\n      <th>min</th>\n      <td>0.000000</td>\n      <td>0.000000</td>\n      <td>0.000000</td>\n      <td>-92.545466</td>\n    </tr>\n    <tr>\n      <th>25%</th>\n      <td>54.000000</td>\n      <td>72204.000000</td>\n      <td>34.689606</td>\n      <td>-92.387244</td>\n    </tr>\n    <tr>\n      <th>50%</th>\n      <td>63.000000</td>\n      <td>72206.000000</td>\n      <td>34.732894</td>\n      <td>-92.346238</td>\n    </tr>\n    <tr>\n      <th>75%</th>\n      <td>81.000000</td>\n      <td>72209.000000</td>\n      <td>34.752135</td>\n      <td>-92.314721</td>\n    </tr>\n    <tr>\n      <th>max</th>\n      <td>93.000000</td>\n      <td>72227.000000</td>\n      <td>34.881691</td>\n      <td>0.000000</td>\n    </tr>\n  </tbody>\n</table>\n</div>"
     },
     "execution_count": 177,
     "metadata": {},
     "output_type": "execute_result"
    }
   ],
   "source": [
    "# Handle outliers.\n",
    "# Reference: https://hersanyagci.medium.com/detecting-and-handling-outliers-with-pandas-7adbfcd5cad8\n",
    "lrpd.describe()"
   ],
   "metadata": {
    "collapsed": false
   }
  },
  {
   "cell_type": "code",
   "execution_count": 178,
   "outputs": [],
   "source": [
    "Q1 = lrpd.quantile(0.25)\n",
    "Q3 = lrpd.quantile(0.75)\n",
    "IQR = Q3 - Q1"
   ],
   "metadata": {
    "collapsed": false
   }
  },
  {
   "cell_type": "code",
   "execution_count": 179,
   "outputs": [],
   "source": [
    "lower_limit = Q1 - 1.5 * IQR\n",
    "upper_limit = Q3 + 1.5 * IQR"
   ],
   "metadata": {
    "collapsed": false
   }
  },
  {
   "cell_type": "code",
   "execution_count": 180,
   "outputs": [
    {
     "name": "stderr",
     "output_type": "stream",
     "text": [
      "C:\\Users\\pande\\AppData\\Local\\Temp\\ipykernel_3648\\2720126428.py:2: FutureWarning: Automatic reindexing on DataFrame vs Series comparisons is deprecated and will raise ValueError in a future version. Do `left, right = left.align(right, axis=1, copy=False)` before e.g. `left == right`\n",
      "  outliers_15_low = (lrpd < lower_limit)\n",
      "C:\\Users\\pande\\AppData\\Local\\Temp\\ipykernel_3648\\2720126428.py:3: FutureWarning: Automatic reindexing on DataFrame vs Series comparisons is deprecated and will raise ValueError in a future version. Do `left, right = left.align(right, axis=1, copy=False)` before e.g. `left == right`\n",
      "  outliers_15_up = (lrpd > upper_limit)\n"
     ]
    }
   ],
   "source": [
    "# Drop the outliers.\n",
    "outliers_15_low = (lrpd < lower_limit)\n",
    "outliers_15_up = (lrpd > upper_limit)"
   ],
   "metadata": {
    "collapsed": false
   }
  },
  {
   "cell_type": "code",
   "execution_count": 181,
   "outputs": [],
   "source": [
    "# risk assessment\n",
    "all_crimes = lrpd[\"OFFENSE_DESCRIPTION\"].unique()\n",
    "all_weapons = lrpd[\"WEAPON_TYPE\"].unique()"
   ],
   "metadata": {
    "collapsed": false
   }
  },
  {
   "cell_type": "code",
   "execution_count": 182,
   "outputs": [
    {
     "data": {
      "text/plain": "array(['THEFT FROM MOTOR VEHICLE', 'THEFT OF MOTOR VEHICLE PARTS', 'RAPE',\n       'ALL OTHER LARCENY', 'SHOPLIFTING', 'ROBBERY', 'BURGLARY/B&E',\n       'THEFT FROM BUILDING', 'AGGRAVATED ASSAULT', 'MOTOR VEHICLE THEFT',\n       'PURSE-SNATCHING', 'MURDER & NONNEGLIGENT MANSLAUGHTER',\n       'POCKET-PICKING', 'THEFT FROM COIN-OPERATED MACHINE'], dtype=object)"
     },
     "execution_count": 182,
     "metadata": {},
     "output_type": "execute_result"
    }
   ],
   "source": [
    "all_crimes"
   ],
   "metadata": {
    "collapsed": false
   }
  },
  {
   "cell_type": "code",
   "execution_count": 183,
   "outputs": [
    {
     "data": {
      "text/plain": "array(['NO WEAPON', 'PERSONAL WEAPONS (HANDS, FISTS, ETC)', 'UNKNOWN',\n       'FIREARM', 'KNIFE/CUTTING INSTRUMENT', 'OTHER', 'BLUNT OBJECT',\n       'HANDGUN', 'MOTOR VEHICLE', 'ASPHYXIATION', 'SHOTGUN',\n       'FIRE/INCENDIARY DEVICE', 'RIFLE', 'OTHER FIREARM',\n       'DRUGS/NARCOTICS', 'POISON', 'EXPLOSIVES'], dtype=object)"
     },
     "execution_count": 183,
     "metadata": {},
     "output_type": "execute_result"
    }
   ],
   "source": [
    "all_weapons"
   ],
   "metadata": {
    "collapsed": false
   }
  },
  {
   "cell_type": "code",
   "execution_count": 184,
   "outputs": [],
   "source": [
    "violent_crimes = ['RAPE', 'AGGRAVATED ASSAULT', 'ALL OTHER LARCENY', 'ROBBERY', 'BURGLARY/B&E',\n",
    "                  'MURDER & NONNEGLIGENT MANSLAUGHTER']\n",
    "nonviolent_crimes = ['THEFT FROM MOTOR VEHICLE', 'MOTOR VEHICLE THEFT', 'THEFT OF MOTOR VEHICLE PARTS',\n",
    "                     'SHOPLIFTING', 'THEFT FROM BUILDING', 'POCKET-PICKING', 'THEFT FROM COIN-OPERATED MACHINE',\n",
    "                     'PURSE-SNATCHING']"
   ],
   "metadata": {
    "collapsed": false
   }
  },
  {
   "cell_type": "code",
   "execution_count": 185,
   "outputs": [],
   "source": [
    "def determine_crime_type(crime):\n",
    "    if crime in violent_crimes:\n",
    "        return 'Violent Crime'\n",
    "    elif crime in nonviolent_crimes:\n",
    "        return 'Non-Violent Crime'\n",
    "    else:\n",
    "        return 'Crime Type Unknown'"
   ],
   "metadata": {
    "collapsed": false
   }
  },
  {
   "cell_type": "code",
   "execution_count": 186,
   "outputs": [],
   "source": [
    "lrpd[\"CRIME_TYPE\"] = lrpd[\"OFFENSE_DESCRIPTION\"].apply(determine_crime_type)"
   ],
   "metadata": {
    "collapsed": false
   }
  },
  {
   "cell_type": "code",
   "execution_count": 187,
   "outputs": [],
   "source": [
    "lrpd.loc[(lrpd['CRIME_TYPE'] == 'Violent Crime') | (\n",
    "        lrpd['WEAPON_TYPE'] != 'NO WEAPON'), \"RISK_TYPE\"] = \"High Risk\"\n",
    "lrpd.loc[(lrpd['CRIME_TYPE'] == 'Violent Crime') & (\n",
    "        lrpd['WEAPON_TYPE'] != 'NO WEAPON'), \"RISK_TYPE\"] = \"High Risk\"\n",
    "lrpd.loc[(lrpd['CRIME_TYPE'] == 'Non-Violent Crime') & (\n",
    "        lrpd['WEAPON_TYPE'] != 'NO WEAPON'), \"RISK_TYPE\"] = \"High Risk\"\n",
    "lrpd.loc[(lrpd['CRIME_TYPE'] == 'Non-Violent Crime') & (\n",
    "        lrpd['WEAPON_TYPE'] == 'NO WEAPON'), \"RISK_TYPE\"] = \"Low Risk\""
   ],
   "metadata": {
    "collapsed": false
   }
  },
  {
   "cell_type": "code",
   "execution_count": 188,
   "outputs": [
    {
     "data": {
      "text/plain": "                INCIDENT_DATE  LOCATION_DISTRICT  \\\nINCIDENT_NUMBER                                    \n2021-092971        08/04/2021               72.0   \n2017-029450        03/16/2017               82.0   \n2017-156453        09/01/2017               53.0   \n2019-130717        10/17/2019               51.0   \n2020-073313        07/02/2020               50.0   \n2020-103105        09/05/2020               40.0   \n2020-127857        11/01/2020               54.0   \n2021-002311        01/10/2021               71.0   \n2021-113605        09/16/2021               92.0   \n2022-014768        02/07/2022               80.0   \n2022-301030        04/22/2022               62.0   \n2022-302467        09/03/2022               39.0   \n2021-027276        03/17/2021               82.0   \n2020-121047        10/16/2020               93.0   \n2021-107177        09/02/2021               83.0   \n2018-126330        10/03/2018               92.0   \n2017-158478        12/17/2017               91.0   \n2017-012201        02/01/2017               80.0   \n2017-122878        10/01/2017               90.0   \n2017-037527        04/03/2017               81.0   \n\n                          OFFENSE_DESCRIPTION  \\\nINCIDENT_NUMBER                                 \n2021-092971          THEFT FROM MOTOR VEHICLE   \n2017-029450      THEFT OF MOTOR VEHICLE PARTS   \n2017-156453                              RAPE   \n2019-130717                              RAPE   \n2020-073313                              RAPE   \n2020-103105                              RAPE   \n2020-127857                              RAPE   \n2021-002311                              RAPE   \n2021-113605                              RAPE   \n2022-014768                              RAPE   \n2022-301030                 ALL OTHER LARCENY   \n2022-302467                       SHOPLIFTING   \n2021-027276      THEFT OF MOTOR VEHICLE PARTS   \n2020-121047                 ALL OTHER LARCENY   \n2021-107177                           ROBBERY   \n2018-126330                           ROBBERY   \n2017-158478      THEFT OF MOTOR VEHICLE PARTS   \n2017-012201                      BURGLARY/B&E   \n2017-122878               THEFT FROM BUILDING   \n2017-037527                      BURGLARY/B&E   \n\n                                          WEAPON_TYPE  \\\nINCIDENT_NUMBER                                         \n2021-092971                                 NO WEAPON   \n2017-029450                                 NO WEAPON   \n2017-156453                                 NO WEAPON   \n2019-130717                                 NO WEAPON   \n2020-073313                                 NO WEAPON   \n2020-103105      PERSONAL WEAPONS (HANDS, FISTS, ETC)   \n2020-127857                                   UNKNOWN   \n2021-002311                                   UNKNOWN   \n2021-113605      PERSONAL WEAPONS (HANDS, FISTS, ETC)   \n2022-014768                                   UNKNOWN   \n2022-301030                                 NO WEAPON   \n2022-302467                                 NO WEAPON   \n2021-027276                                 NO WEAPON   \n2020-121047                                 NO WEAPON   \n2021-107177                                   FIREARM   \n2018-126330                  KNIFE/CUTTING INSTRUMENT   \n2017-158478                                 NO WEAPON   \n2017-012201                                 NO WEAPON   \n2017-122878                                 NO WEAPON   \n2017-037527                                   UNKNOWN   \n\n                         INCIDENT_LOCATION      ZIP   LATITUDE  LONGITUDE  \\\nINCIDENT_NUMBER                                                             \n2021-092971                15601  KANIS RD  72204.0   0.000000   0.000000   \n2017-029450        10801 IRONTON CUTOFF RD  72206.0  34.649362 -92.301959   \n2017-156453                              0      0.0   0.000000   0.000000   \n2019-130717                              0      0.0   0.000000   0.000000   \n2020-073313                              0      0.0   0.000000   0.000000   \n2020-103105                              0      0.0   0.000000   0.000000   \n2020-127857                              0      0.0   0.000000   0.000000   \n2021-002311                              0      0.0   0.000000   0.000000   \n2021-113605                              0      0.0   0.000000   0.000000   \n2022-014768                              0      0.0   0.000000   0.000000   \n2022-301030      10901 BEVERLY HILLS DRIVE  72211.0   0.000000   0.000000   \n2022-302467               1321 MAIN STREET  72202.0   0.000000   0.000000   \n2021-027276                  5010  OPAL ST  72209.0  34.673893 -92.334594   \n2020-121047                  4  NANDINA  5  72210.0  34.652869 -92.430480   \n2021-107177               6401 BASELINE RD  72209.0  34.667065 -92.352370   \n2018-126330                13622 SARDIS RD  72103.0  34.627232 -92.390674   \n2017-158478             9911 INTERSTATE 30  72209.0  34.673161 -92.372574   \n2017-012201                   10 TIMBER LN  72209.0  34.692613 -92.335765   \n2017-122878          7500 S UNIVERSITY AVE  72209.0  34.679524 -92.353965   \n2017-037527                 5001 W 65TH ST  72209.0  34.690300 -92.331863   \n\n                INCIDENT_TIME         CRIME_TYPE  RISK_TYPE  \nINCIDENT_NUMBER                                              \n2021-092971          10:21 AM  Non-Violent Crime   Low Risk  \n2017-029450          06:30 PM  Non-Violent Crime   Low Risk  \n2017-156453          12:00 PM      Violent Crime  High Risk  \n2019-130717          09:00 PM      Violent Crime  High Risk  \n2020-073313          07:10 PM      Violent Crime  High Risk  \n2020-103105          11:29 PM      Violent Crime  High Risk  \n2020-127857          12:09 AM      Violent Crime  High Risk  \n2021-002311          10:08 PM      Violent Crime  High Risk  \n2021-113605          02:37 PM      Violent Crime  High Risk  \n2022-014768          10:58 AM      Violent Crime  High Risk  \n2022-301030          08:30 PM      Violent Crime  High Risk  \n2022-302467          04:45 PM  Non-Violent Crime   Low Risk  \n2021-027276          06:12 PM  Non-Violent Crime   Low Risk  \n2020-121047          12:23 PM      Violent Crime  High Risk  \n2021-107177          06:35 PM      Violent Crime  High Risk  \n2018-126330          12:44 PM      Violent Crime  High Risk  \n2017-158478          08:00 PM  Non-Violent Crime   Low Risk  \n2017-012201          07:10 AM      Violent Crime  High Risk  \n2017-122878          07:32 PM  Non-Violent Crime   Low Risk  \n2017-037527          07:00 AM      Violent Crime  High Risk  ",
      "text/html": "<div>\n<style scoped>\n    .dataframe tbody tr th:only-of-type {\n        vertical-align: middle;\n    }\n\n    .dataframe tbody tr th {\n        vertical-align: top;\n    }\n\n    .dataframe thead th {\n        text-align: right;\n    }\n</style>\n<table border=\"1\" class=\"dataframe\">\n  <thead>\n    <tr style=\"text-align: right;\">\n      <th></th>\n      <th>INCIDENT_DATE</th>\n      <th>LOCATION_DISTRICT</th>\n      <th>OFFENSE_DESCRIPTION</th>\n      <th>WEAPON_TYPE</th>\n      <th>INCIDENT_LOCATION</th>\n      <th>ZIP</th>\n      <th>LATITUDE</th>\n      <th>LONGITUDE</th>\n      <th>INCIDENT_TIME</th>\n      <th>CRIME_TYPE</th>\n      <th>RISK_TYPE</th>\n    </tr>\n    <tr>\n      <th>INCIDENT_NUMBER</th>\n      <th></th>\n      <th></th>\n      <th></th>\n      <th></th>\n      <th></th>\n      <th></th>\n      <th></th>\n      <th></th>\n      <th></th>\n      <th></th>\n      <th></th>\n    </tr>\n  </thead>\n  <tbody>\n    <tr>\n      <th>2021-092971</th>\n      <td>08/04/2021</td>\n      <td>72.0</td>\n      <td>THEFT FROM MOTOR VEHICLE</td>\n      <td>NO WEAPON</td>\n      <td>15601  KANIS RD</td>\n      <td>72204.0</td>\n      <td>0.000000</td>\n      <td>0.000000</td>\n      <td>10:21 AM</td>\n      <td>Non-Violent Crime</td>\n      <td>Low Risk</td>\n    </tr>\n    <tr>\n      <th>2017-029450</th>\n      <td>03/16/2017</td>\n      <td>82.0</td>\n      <td>THEFT OF MOTOR VEHICLE PARTS</td>\n      <td>NO WEAPON</td>\n      <td>10801 IRONTON CUTOFF RD</td>\n      <td>72206.0</td>\n      <td>34.649362</td>\n      <td>-92.301959</td>\n      <td>06:30 PM</td>\n      <td>Non-Violent Crime</td>\n      <td>Low Risk</td>\n    </tr>\n    <tr>\n      <th>2017-156453</th>\n      <td>09/01/2017</td>\n      <td>53.0</td>\n      <td>RAPE</td>\n      <td>NO WEAPON</td>\n      <td>0</td>\n      <td>0.0</td>\n      <td>0.000000</td>\n      <td>0.000000</td>\n      <td>12:00 PM</td>\n      <td>Violent Crime</td>\n      <td>High Risk</td>\n    </tr>\n    <tr>\n      <th>2019-130717</th>\n      <td>10/17/2019</td>\n      <td>51.0</td>\n      <td>RAPE</td>\n      <td>NO WEAPON</td>\n      <td>0</td>\n      <td>0.0</td>\n      <td>0.000000</td>\n      <td>0.000000</td>\n      <td>09:00 PM</td>\n      <td>Violent Crime</td>\n      <td>High Risk</td>\n    </tr>\n    <tr>\n      <th>2020-073313</th>\n      <td>07/02/2020</td>\n      <td>50.0</td>\n      <td>RAPE</td>\n      <td>NO WEAPON</td>\n      <td>0</td>\n      <td>0.0</td>\n      <td>0.000000</td>\n      <td>0.000000</td>\n      <td>07:10 PM</td>\n      <td>Violent Crime</td>\n      <td>High Risk</td>\n    </tr>\n    <tr>\n      <th>2020-103105</th>\n      <td>09/05/2020</td>\n      <td>40.0</td>\n      <td>RAPE</td>\n      <td>PERSONAL WEAPONS (HANDS, FISTS, ETC)</td>\n      <td>0</td>\n      <td>0.0</td>\n      <td>0.000000</td>\n      <td>0.000000</td>\n      <td>11:29 PM</td>\n      <td>Violent Crime</td>\n      <td>High Risk</td>\n    </tr>\n    <tr>\n      <th>2020-127857</th>\n      <td>11/01/2020</td>\n      <td>54.0</td>\n      <td>RAPE</td>\n      <td>UNKNOWN</td>\n      <td>0</td>\n      <td>0.0</td>\n      <td>0.000000</td>\n      <td>0.000000</td>\n      <td>12:09 AM</td>\n      <td>Violent Crime</td>\n      <td>High Risk</td>\n    </tr>\n    <tr>\n      <th>2021-002311</th>\n      <td>01/10/2021</td>\n      <td>71.0</td>\n      <td>RAPE</td>\n      <td>UNKNOWN</td>\n      <td>0</td>\n      <td>0.0</td>\n      <td>0.000000</td>\n      <td>0.000000</td>\n      <td>10:08 PM</td>\n      <td>Violent Crime</td>\n      <td>High Risk</td>\n    </tr>\n    <tr>\n      <th>2021-113605</th>\n      <td>09/16/2021</td>\n      <td>92.0</td>\n      <td>RAPE</td>\n      <td>PERSONAL WEAPONS (HANDS, FISTS, ETC)</td>\n      <td>0</td>\n      <td>0.0</td>\n      <td>0.000000</td>\n      <td>0.000000</td>\n      <td>02:37 PM</td>\n      <td>Violent Crime</td>\n      <td>High Risk</td>\n    </tr>\n    <tr>\n      <th>2022-014768</th>\n      <td>02/07/2022</td>\n      <td>80.0</td>\n      <td>RAPE</td>\n      <td>UNKNOWN</td>\n      <td>0</td>\n      <td>0.0</td>\n      <td>0.000000</td>\n      <td>0.000000</td>\n      <td>10:58 AM</td>\n      <td>Violent Crime</td>\n      <td>High Risk</td>\n    </tr>\n    <tr>\n      <th>2022-301030</th>\n      <td>04/22/2022</td>\n      <td>62.0</td>\n      <td>ALL OTHER LARCENY</td>\n      <td>NO WEAPON</td>\n      <td>10901 BEVERLY HILLS DRIVE</td>\n      <td>72211.0</td>\n      <td>0.000000</td>\n      <td>0.000000</td>\n      <td>08:30 PM</td>\n      <td>Violent Crime</td>\n      <td>High Risk</td>\n    </tr>\n    <tr>\n      <th>2022-302467</th>\n      <td>09/03/2022</td>\n      <td>39.0</td>\n      <td>SHOPLIFTING</td>\n      <td>NO WEAPON</td>\n      <td>1321 MAIN STREET</td>\n      <td>72202.0</td>\n      <td>0.000000</td>\n      <td>0.000000</td>\n      <td>04:45 PM</td>\n      <td>Non-Violent Crime</td>\n      <td>Low Risk</td>\n    </tr>\n    <tr>\n      <th>2021-027276</th>\n      <td>03/17/2021</td>\n      <td>82.0</td>\n      <td>THEFT OF MOTOR VEHICLE PARTS</td>\n      <td>NO WEAPON</td>\n      <td>5010  OPAL ST</td>\n      <td>72209.0</td>\n      <td>34.673893</td>\n      <td>-92.334594</td>\n      <td>06:12 PM</td>\n      <td>Non-Violent Crime</td>\n      <td>Low Risk</td>\n    </tr>\n    <tr>\n      <th>2020-121047</th>\n      <td>10/16/2020</td>\n      <td>93.0</td>\n      <td>ALL OTHER LARCENY</td>\n      <td>NO WEAPON</td>\n      <td>4  NANDINA  5</td>\n      <td>72210.0</td>\n      <td>34.652869</td>\n      <td>-92.430480</td>\n      <td>12:23 PM</td>\n      <td>Violent Crime</td>\n      <td>High Risk</td>\n    </tr>\n    <tr>\n      <th>2021-107177</th>\n      <td>09/02/2021</td>\n      <td>83.0</td>\n      <td>ROBBERY</td>\n      <td>FIREARM</td>\n      <td>6401 BASELINE RD</td>\n      <td>72209.0</td>\n      <td>34.667065</td>\n      <td>-92.352370</td>\n      <td>06:35 PM</td>\n      <td>Violent Crime</td>\n      <td>High Risk</td>\n    </tr>\n    <tr>\n      <th>2018-126330</th>\n      <td>10/03/2018</td>\n      <td>92.0</td>\n      <td>ROBBERY</td>\n      <td>KNIFE/CUTTING INSTRUMENT</td>\n      <td>13622 SARDIS RD</td>\n      <td>72103.0</td>\n      <td>34.627232</td>\n      <td>-92.390674</td>\n      <td>12:44 PM</td>\n      <td>Violent Crime</td>\n      <td>High Risk</td>\n    </tr>\n    <tr>\n      <th>2017-158478</th>\n      <td>12/17/2017</td>\n      <td>91.0</td>\n      <td>THEFT OF MOTOR VEHICLE PARTS</td>\n      <td>NO WEAPON</td>\n      <td>9911 INTERSTATE 30</td>\n      <td>72209.0</td>\n      <td>34.673161</td>\n      <td>-92.372574</td>\n      <td>08:00 PM</td>\n      <td>Non-Violent Crime</td>\n      <td>Low Risk</td>\n    </tr>\n    <tr>\n      <th>2017-012201</th>\n      <td>02/01/2017</td>\n      <td>80.0</td>\n      <td>BURGLARY/B&amp;E</td>\n      <td>NO WEAPON</td>\n      <td>10 TIMBER LN</td>\n      <td>72209.0</td>\n      <td>34.692613</td>\n      <td>-92.335765</td>\n      <td>07:10 AM</td>\n      <td>Violent Crime</td>\n      <td>High Risk</td>\n    </tr>\n    <tr>\n      <th>2017-122878</th>\n      <td>10/01/2017</td>\n      <td>90.0</td>\n      <td>THEFT FROM BUILDING</td>\n      <td>NO WEAPON</td>\n      <td>7500 S UNIVERSITY AVE</td>\n      <td>72209.0</td>\n      <td>34.679524</td>\n      <td>-92.353965</td>\n      <td>07:32 PM</td>\n      <td>Non-Violent Crime</td>\n      <td>Low Risk</td>\n    </tr>\n    <tr>\n      <th>2017-037527</th>\n      <td>04/03/2017</td>\n      <td>81.0</td>\n      <td>BURGLARY/B&amp;E</td>\n      <td>UNKNOWN</td>\n      <td>5001 W 65TH ST</td>\n      <td>72209.0</td>\n      <td>34.690300</td>\n      <td>-92.331863</td>\n      <td>07:00 AM</td>\n      <td>Violent Crime</td>\n      <td>High Risk</td>\n    </tr>\n  </tbody>\n</table>\n</div>"
     },
     "execution_count": 188,
     "metadata": {},
     "output_type": "execute_result"
    }
   ],
   "source": [
    "lrpd[:20]"
   ],
   "metadata": {
    "collapsed": false
   }
  },
  {
   "cell_type": "code",
   "execution_count": 189,
   "outputs": [
    {
     "data": {
      "text/plain": "                INCIDENT_DATE  LOCATION_DISTRICT  \\\nINCIDENT_NUMBER                                    \n2021-092971        08/04/2021               72.0   \n2017-029450        03/16/2017               82.0   \n2022-302467        09/03/2022               39.0   \n2021-027276        03/17/2021               82.0   \n2017-158478        12/17/2017               91.0   \n2017-122878        10/01/2017               90.0   \n2017-056757        05/15/2017               81.0   \n2021-110722        09/10/2021               82.0   \n2017-057898        05/17/2017               90.0   \n2022-302817        10/16/2022               92.0   \n\n                          OFFENSE_DESCRIPTION WEAPON_TYPE  \\\nINCIDENT_NUMBER                                             \n2021-092971          THEFT FROM MOTOR VEHICLE   NO WEAPON   \n2017-029450      THEFT OF MOTOR VEHICLE PARTS   NO WEAPON   \n2022-302467                       SHOPLIFTING   NO WEAPON   \n2021-027276      THEFT OF MOTOR VEHICLE PARTS   NO WEAPON   \n2017-158478      THEFT OF MOTOR VEHICLE PARTS   NO WEAPON   \n2017-122878               THEFT FROM BUILDING   NO WEAPON   \n2017-056757                       SHOPLIFTING   NO WEAPON   \n2021-110722               MOTOR VEHICLE THEFT   NO WEAPON   \n2017-057898      THEFT OF MOTOR VEHICLE PARTS   NO WEAPON   \n2022-302817          THEFT FROM MOTOR VEHICLE   NO WEAPON   \n\n                       INCIDENT_LOCATION      ZIP   LATITUDE  LONGITUDE  \\\nINCIDENT_NUMBER                                                           \n2021-092971              15601  KANIS RD  72204.0   0.000000   0.000000   \n2017-029450      10801 IRONTON CUTOFF RD  72206.0  34.649362 -92.301959   \n2022-302467             1321 MAIN STREET  72202.0   0.000000   0.000000   \n2021-027276                5010  OPAL ST  72209.0  34.673893 -92.334594   \n2017-158478           9911 INTERSTATE 30  72209.0  34.673161 -92.372574   \n2017-122878        7500 S UNIVERSITY AVE  72209.0  34.679524 -92.353965   \n2017-056757        8824 GEYER SPRINGS RD  72209.0  34.669221 -92.344341   \n2021-110722             6100 MITCHELL DR  72209.0  34.677840 -92.345397   \n2017-057898             6600 CAROLINA DR  72209.0  34.690880 -92.360054   \n2022-302817               36 ANGEL COURT  72103.0   0.000000   0.000000   \n\n                INCIDENT_TIME         CRIME_TYPE RISK_TYPE  \nINCIDENT_NUMBER                                             \n2021-092971          10:21 AM  Non-Violent Crime  Low Risk  \n2017-029450          06:30 PM  Non-Violent Crime  Low Risk  \n2022-302467          04:45 PM  Non-Violent Crime  Low Risk  \n2021-027276          06:12 PM  Non-Violent Crime  Low Risk  \n2017-158478          08:00 PM  Non-Violent Crime  Low Risk  \n2017-122878          07:32 PM  Non-Violent Crime  Low Risk  \n2017-056757          04:00 PM  Non-Violent Crime  Low Risk  \n2021-110722          09:30 AM  Non-Violent Crime  Low Risk  \n2017-057898          10:00 PM  Non-Violent Crime  Low Risk  \n2022-302817          11:00 PM  Non-Violent Crime  Low Risk  ",
      "text/html": "<div>\n<style scoped>\n    .dataframe tbody tr th:only-of-type {\n        vertical-align: middle;\n    }\n\n    .dataframe tbody tr th {\n        vertical-align: top;\n    }\n\n    .dataframe thead th {\n        text-align: right;\n    }\n</style>\n<table border=\"1\" class=\"dataframe\">\n  <thead>\n    <tr style=\"text-align: right;\">\n      <th></th>\n      <th>INCIDENT_DATE</th>\n      <th>LOCATION_DISTRICT</th>\n      <th>OFFENSE_DESCRIPTION</th>\n      <th>WEAPON_TYPE</th>\n      <th>INCIDENT_LOCATION</th>\n      <th>ZIP</th>\n      <th>LATITUDE</th>\n      <th>LONGITUDE</th>\n      <th>INCIDENT_TIME</th>\n      <th>CRIME_TYPE</th>\n      <th>RISK_TYPE</th>\n    </tr>\n    <tr>\n      <th>INCIDENT_NUMBER</th>\n      <th></th>\n      <th></th>\n      <th></th>\n      <th></th>\n      <th></th>\n      <th></th>\n      <th></th>\n      <th></th>\n      <th></th>\n      <th></th>\n      <th></th>\n    </tr>\n  </thead>\n  <tbody>\n    <tr>\n      <th>2021-092971</th>\n      <td>08/04/2021</td>\n      <td>72.0</td>\n      <td>THEFT FROM MOTOR VEHICLE</td>\n      <td>NO WEAPON</td>\n      <td>15601  KANIS RD</td>\n      <td>72204.0</td>\n      <td>0.000000</td>\n      <td>0.000000</td>\n      <td>10:21 AM</td>\n      <td>Non-Violent Crime</td>\n      <td>Low Risk</td>\n    </tr>\n    <tr>\n      <th>2017-029450</th>\n      <td>03/16/2017</td>\n      <td>82.0</td>\n      <td>THEFT OF MOTOR VEHICLE PARTS</td>\n      <td>NO WEAPON</td>\n      <td>10801 IRONTON CUTOFF RD</td>\n      <td>72206.0</td>\n      <td>34.649362</td>\n      <td>-92.301959</td>\n      <td>06:30 PM</td>\n      <td>Non-Violent Crime</td>\n      <td>Low Risk</td>\n    </tr>\n    <tr>\n      <th>2022-302467</th>\n      <td>09/03/2022</td>\n      <td>39.0</td>\n      <td>SHOPLIFTING</td>\n      <td>NO WEAPON</td>\n      <td>1321 MAIN STREET</td>\n      <td>72202.0</td>\n      <td>0.000000</td>\n      <td>0.000000</td>\n      <td>04:45 PM</td>\n      <td>Non-Violent Crime</td>\n      <td>Low Risk</td>\n    </tr>\n    <tr>\n      <th>2021-027276</th>\n      <td>03/17/2021</td>\n      <td>82.0</td>\n      <td>THEFT OF MOTOR VEHICLE PARTS</td>\n      <td>NO WEAPON</td>\n      <td>5010  OPAL ST</td>\n      <td>72209.0</td>\n      <td>34.673893</td>\n      <td>-92.334594</td>\n      <td>06:12 PM</td>\n      <td>Non-Violent Crime</td>\n      <td>Low Risk</td>\n    </tr>\n    <tr>\n      <th>2017-158478</th>\n      <td>12/17/2017</td>\n      <td>91.0</td>\n      <td>THEFT OF MOTOR VEHICLE PARTS</td>\n      <td>NO WEAPON</td>\n      <td>9911 INTERSTATE 30</td>\n      <td>72209.0</td>\n      <td>34.673161</td>\n      <td>-92.372574</td>\n      <td>08:00 PM</td>\n      <td>Non-Violent Crime</td>\n      <td>Low Risk</td>\n    </tr>\n    <tr>\n      <th>2017-122878</th>\n      <td>10/01/2017</td>\n      <td>90.0</td>\n      <td>THEFT FROM BUILDING</td>\n      <td>NO WEAPON</td>\n      <td>7500 S UNIVERSITY AVE</td>\n      <td>72209.0</td>\n      <td>34.679524</td>\n      <td>-92.353965</td>\n      <td>07:32 PM</td>\n      <td>Non-Violent Crime</td>\n      <td>Low Risk</td>\n    </tr>\n    <tr>\n      <th>2017-056757</th>\n      <td>05/15/2017</td>\n      <td>81.0</td>\n      <td>SHOPLIFTING</td>\n      <td>NO WEAPON</td>\n      <td>8824 GEYER SPRINGS RD</td>\n      <td>72209.0</td>\n      <td>34.669221</td>\n      <td>-92.344341</td>\n      <td>04:00 PM</td>\n      <td>Non-Violent Crime</td>\n      <td>Low Risk</td>\n    </tr>\n    <tr>\n      <th>2021-110722</th>\n      <td>09/10/2021</td>\n      <td>82.0</td>\n      <td>MOTOR VEHICLE THEFT</td>\n      <td>NO WEAPON</td>\n      <td>6100 MITCHELL DR</td>\n      <td>72209.0</td>\n      <td>34.677840</td>\n      <td>-92.345397</td>\n      <td>09:30 AM</td>\n      <td>Non-Violent Crime</td>\n      <td>Low Risk</td>\n    </tr>\n    <tr>\n      <th>2017-057898</th>\n      <td>05/17/2017</td>\n      <td>90.0</td>\n      <td>THEFT OF MOTOR VEHICLE PARTS</td>\n      <td>NO WEAPON</td>\n      <td>6600 CAROLINA DR</td>\n      <td>72209.0</td>\n      <td>34.690880</td>\n      <td>-92.360054</td>\n      <td>10:00 PM</td>\n      <td>Non-Violent Crime</td>\n      <td>Low Risk</td>\n    </tr>\n    <tr>\n      <th>2022-302817</th>\n      <td>10/16/2022</td>\n      <td>92.0</td>\n      <td>THEFT FROM MOTOR VEHICLE</td>\n      <td>NO WEAPON</td>\n      <td>36 ANGEL COURT</td>\n      <td>72103.0</td>\n      <td>0.000000</td>\n      <td>0.000000</td>\n      <td>11:00 PM</td>\n      <td>Non-Violent Crime</td>\n      <td>Low Risk</td>\n    </tr>\n  </tbody>\n</table>\n</div>"
     },
     "execution_count": 189,
     "metadata": {},
     "output_type": "execute_result"
    }
   ],
   "source": [
    "lrpd.query('WEAPON_TYPE == \"NO WEAPON\" & CRIME_TYPE == \"Non-Violent Crime\"').head(10)"
   ],
   "metadata": {
    "collapsed": false
   }
  },
  {
   "cell_type": "code",
   "execution_count": 190,
   "outputs": [],
   "source": [
    "CrimeTypeGroup = lrpd.groupby(\"CRIME_TYPE\")"
   ],
   "metadata": {
    "collapsed": false
   }
  },
  {
   "cell_type": "code",
   "execution_count": 191,
   "outputs": [
    {
     "data": {
      "text/plain": "CRIME_TYPE\nNon-Violent Crime    43598\nViolent Crime        38235\ndtype: int64"
     },
     "execution_count": 191,
     "metadata": {},
     "output_type": "execute_result"
    }
   ],
   "source": [
    "CrimeTypeGroup.size()"
   ],
   "metadata": {
    "collapsed": false
   }
  },
  {
   "cell_type": "code",
   "execution_count": 192,
   "outputs": [],
   "source": [
    "RiskTypeGroup = lrpd.groupby(\"RISK_TYPE\")"
   ],
   "metadata": {
    "collapsed": false
   }
  },
  {
   "cell_type": "code",
   "execution_count": 193,
   "outputs": [
    {
     "data": {
      "text/plain": "RISK_TYPE\nHigh Risk    38435\nLow Risk     43398\ndtype: int64"
     },
     "execution_count": 193,
     "metadata": {},
     "output_type": "execute_result"
    }
   ],
   "source": [
    "RiskTypeGroup.size()"
   ],
   "metadata": {
    "collapsed": false
   }
  },
  {
   "cell_type": "markdown",
   "source": [],
   "metadata": {
    "collapsed": false
   }
  },
  {
   "cell_type": "code",
   "execution_count": 194,
   "outputs": [],
   "source": [
    "lrpd['RISK_TYPE_NUM'] = lrpd.RISK_TYPE.map({'High Risk': 1, 'Low Risk': 0})"
   ],
   "metadata": {
    "collapsed": false
   }
  },
  {
   "cell_type": "code",
   "execution_count": 194,
   "outputs": [],
   "source": [],
   "metadata": {
    "collapsed": false
   }
  },
  {
   "cell_type": "code",
   "execution_count": 195,
   "outputs": [
    {
     "data": {
      "text/plain": "                INCIDENT_DATE  LOCATION_DISTRICT  \\\nINCIDENT_NUMBER                                    \n2021-092971        08/04/2021               72.0   \n2017-029450        03/16/2017               82.0   \n2017-156453        09/01/2017               53.0   \n2019-130717        10/17/2019               51.0   \n2020-073313        07/02/2020               50.0   \n2020-103105        09/05/2020               40.0   \n2020-127857        11/01/2020               54.0   \n2021-002311        01/10/2021               71.0   \n2021-113605        09/16/2021               92.0   \n2022-014768        02/07/2022               80.0   \n\n                          OFFENSE_DESCRIPTION  \\\nINCIDENT_NUMBER                                 \n2021-092971          THEFT FROM MOTOR VEHICLE   \n2017-029450      THEFT OF MOTOR VEHICLE PARTS   \n2017-156453                              RAPE   \n2019-130717                              RAPE   \n2020-073313                              RAPE   \n2020-103105                              RAPE   \n2020-127857                              RAPE   \n2021-002311                              RAPE   \n2021-113605                              RAPE   \n2022-014768                              RAPE   \n\n                                          WEAPON_TYPE  \\\nINCIDENT_NUMBER                                         \n2021-092971                                 NO WEAPON   \n2017-029450                                 NO WEAPON   \n2017-156453                                 NO WEAPON   \n2019-130717                                 NO WEAPON   \n2020-073313                                 NO WEAPON   \n2020-103105      PERSONAL WEAPONS (HANDS, FISTS, ETC)   \n2020-127857                                   UNKNOWN   \n2021-002311                                   UNKNOWN   \n2021-113605      PERSONAL WEAPONS (HANDS, FISTS, ETC)   \n2022-014768                                   UNKNOWN   \n\n                       INCIDENT_LOCATION      ZIP   LATITUDE  LONGITUDE  \\\nINCIDENT_NUMBER                                                           \n2021-092971              15601  KANIS RD  72204.0   0.000000   0.000000   \n2017-029450      10801 IRONTON CUTOFF RD  72206.0  34.649362 -92.301959   \n2017-156453                            0      0.0   0.000000   0.000000   \n2019-130717                            0      0.0   0.000000   0.000000   \n2020-073313                            0      0.0   0.000000   0.000000   \n2020-103105                            0      0.0   0.000000   0.000000   \n2020-127857                            0      0.0   0.000000   0.000000   \n2021-002311                            0      0.0   0.000000   0.000000   \n2021-113605                            0      0.0   0.000000   0.000000   \n2022-014768                            0      0.0   0.000000   0.000000   \n\n                INCIDENT_TIME         CRIME_TYPE  RISK_TYPE  RISK_TYPE_NUM  \nINCIDENT_NUMBER                                                             \n2021-092971          10:21 AM  Non-Violent Crime   Low Risk              0  \n2017-029450          06:30 PM  Non-Violent Crime   Low Risk              0  \n2017-156453          12:00 PM      Violent Crime  High Risk              1  \n2019-130717          09:00 PM      Violent Crime  High Risk              1  \n2020-073313          07:10 PM      Violent Crime  High Risk              1  \n2020-103105          11:29 PM      Violent Crime  High Risk              1  \n2020-127857          12:09 AM      Violent Crime  High Risk              1  \n2021-002311          10:08 PM      Violent Crime  High Risk              1  \n2021-113605          02:37 PM      Violent Crime  High Risk              1  \n2022-014768          10:58 AM      Violent Crime  High Risk              1  ",
      "text/html": "<div>\n<style scoped>\n    .dataframe tbody tr th:only-of-type {\n        vertical-align: middle;\n    }\n\n    .dataframe tbody tr th {\n        vertical-align: top;\n    }\n\n    .dataframe thead th {\n        text-align: right;\n    }\n</style>\n<table border=\"1\" class=\"dataframe\">\n  <thead>\n    <tr style=\"text-align: right;\">\n      <th></th>\n      <th>INCIDENT_DATE</th>\n      <th>LOCATION_DISTRICT</th>\n      <th>OFFENSE_DESCRIPTION</th>\n      <th>WEAPON_TYPE</th>\n      <th>INCIDENT_LOCATION</th>\n      <th>ZIP</th>\n      <th>LATITUDE</th>\n      <th>LONGITUDE</th>\n      <th>INCIDENT_TIME</th>\n      <th>CRIME_TYPE</th>\n      <th>RISK_TYPE</th>\n      <th>RISK_TYPE_NUM</th>\n    </tr>\n    <tr>\n      <th>INCIDENT_NUMBER</th>\n      <th></th>\n      <th></th>\n      <th></th>\n      <th></th>\n      <th></th>\n      <th></th>\n      <th></th>\n      <th></th>\n      <th></th>\n      <th></th>\n      <th></th>\n      <th></th>\n    </tr>\n  </thead>\n  <tbody>\n    <tr>\n      <th>2021-092971</th>\n      <td>08/04/2021</td>\n      <td>72.0</td>\n      <td>THEFT FROM MOTOR VEHICLE</td>\n      <td>NO WEAPON</td>\n      <td>15601  KANIS RD</td>\n      <td>72204.0</td>\n      <td>0.000000</td>\n      <td>0.000000</td>\n      <td>10:21 AM</td>\n      <td>Non-Violent Crime</td>\n      <td>Low Risk</td>\n      <td>0</td>\n    </tr>\n    <tr>\n      <th>2017-029450</th>\n      <td>03/16/2017</td>\n      <td>82.0</td>\n      <td>THEFT OF MOTOR VEHICLE PARTS</td>\n      <td>NO WEAPON</td>\n      <td>10801 IRONTON CUTOFF RD</td>\n      <td>72206.0</td>\n      <td>34.649362</td>\n      <td>-92.301959</td>\n      <td>06:30 PM</td>\n      <td>Non-Violent Crime</td>\n      <td>Low Risk</td>\n      <td>0</td>\n    </tr>\n    <tr>\n      <th>2017-156453</th>\n      <td>09/01/2017</td>\n      <td>53.0</td>\n      <td>RAPE</td>\n      <td>NO WEAPON</td>\n      <td>0</td>\n      <td>0.0</td>\n      <td>0.000000</td>\n      <td>0.000000</td>\n      <td>12:00 PM</td>\n      <td>Violent Crime</td>\n      <td>High Risk</td>\n      <td>1</td>\n    </tr>\n    <tr>\n      <th>2019-130717</th>\n      <td>10/17/2019</td>\n      <td>51.0</td>\n      <td>RAPE</td>\n      <td>NO WEAPON</td>\n      <td>0</td>\n      <td>0.0</td>\n      <td>0.000000</td>\n      <td>0.000000</td>\n      <td>09:00 PM</td>\n      <td>Violent Crime</td>\n      <td>High Risk</td>\n      <td>1</td>\n    </tr>\n    <tr>\n      <th>2020-073313</th>\n      <td>07/02/2020</td>\n      <td>50.0</td>\n      <td>RAPE</td>\n      <td>NO WEAPON</td>\n      <td>0</td>\n      <td>0.0</td>\n      <td>0.000000</td>\n      <td>0.000000</td>\n      <td>07:10 PM</td>\n      <td>Violent Crime</td>\n      <td>High Risk</td>\n      <td>1</td>\n    </tr>\n    <tr>\n      <th>2020-103105</th>\n      <td>09/05/2020</td>\n      <td>40.0</td>\n      <td>RAPE</td>\n      <td>PERSONAL WEAPONS (HANDS, FISTS, ETC)</td>\n      <td>0</td>\n      <td>0.0</td>\n      <td>0.000000</td>\n      <td>0.000000</td>\n      <td>11:29 PM</td>\n      <td>Violent Crime</td>\n      <td>High Risk</td>\n      <td>1</td>\n    </tr>\n    <tr>\n      <th>2020-127857</th>\n      <td>11/01/2020</td>\n      <td>54.0</td>\n      <td>RAPE</td>\n      <td>UNKNOWN</td>\n      <td>0</td>\n      <td>0.0</td>\n      <td>0.000000</td>\n      <td>0.000000</td>\n      <td>12:09 AM</td>\n      <td>Violent Crime</td>\n      <td>High Risk</td>\n      <td>1</td>\n    </tr>\n    <tr>\n      <th>2021-002311</th>\n      <td>01/10/2021</td>\n      <td>71.0</td>\n      <td>RAPE</td>\n      <td>UNKNOWN</td>\n      <td>0</td>\n      <td>0.0</td>\n      <td>0.000000</td>\n      <td>0.000000</td>\n      <td>10:08 PM</td>\n      <td>Violent Crime</td>\n      <td>High Risk</td>\n      <td>1</td>\n    </tr>\n    <tr>\n      <th>2021-113605</th>\n      <td>09/16/2021</td>\n      <td>92.0</td>\n      <td>RAPE</td>\n      <td>PERSONAL WEAPONS (HANDS, FISTS, ETC)</td>\n      <td>0</td>\n      <td>0.0</td>\n      <td>0.000000</td>\n      <td>0.000000</td>\n      <td>02:37 PM</td>\n      <td>Violent Crime</td>\n      <td>High Risk</td>\n      <td>1</td>\n    </tr>\n    <tr>\n      <th>2022-014768</th>\n      <td>02/07/2022</td>\n      <td>80.0</td>\n      <td>RAPE</td>\n      <td>UNKNOWN</td>\n      <td>0</td>\n      <td>0.0</td>\n      <td>0.000000</td>\n      <td>0.000000</td>\n      <td>10:58 AM</td>\n      <td>Violent Crime</td>\n      <td>High Risk</td>\n      <td>1</td>\n    </tr>\n  </tbody>\n</table>\n</div>"
     },
     "execution_count": 195,
     "metadata": {},
     "output_type": "execute_result"
    }
   ],
   "source": [
    "lrpd.head(10)"
   ],
   "metadata": {
    "collapsed": false
   }
  },
  {
   "cell_type": "code",
   "execution_count": 196,
   "outputs": [],
   "source": [
    "# Save the cleaned dataset.\n",
    "lrpd.to_csv(\"../data/lrpd-clean.csv\")"
   ],
   "metadata": {
    "collapsed": false
   }
  }
 ],
 "metadata": {
  "kernelspec": {
   "display_name": "Python 3",
   "language": "python",
   "name": "python3"
  },
  "language_info": {
   "codemirror_mode": {
    "name": "ipython",
    "version": 2
   },
   "file_extension": ".py",
   "mimetype": "text/x-python",
   "name": "python",
   "nbconvert_exporter": "python",
   "pygments_lexer": "ipython2",
   "version": "2.7.6"
  }
 },
 "nbformat": 4,
 "nbformat_minor": 0
}
