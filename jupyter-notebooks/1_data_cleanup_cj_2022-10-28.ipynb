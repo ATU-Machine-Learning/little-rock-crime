{
 "cells": [
  {
   "cell_type": "code",
   "execution_count": 223,
   "metadata": {
    "collapsed": true
   },
   "outputs": [],
   "source": [
    "import pandas as pd"
   ]
  },
  {
   "cell_type": "markdown",
   "source": [
    "### Request relevant columns from dataset:"
   ],
   "metadata": {
    "collapsed": false
   }
  },
  {
   "cell_type": "code",
   "execution_count": 224,
   "outputs": [],
   "source": [
    "requested_columns = [\"INCIDENT_DATE\", \"INCIDENT_NUMBER\", \"LOCATION_DISTRICT\", \"OFFENSE_DESCRIPTION\", \"WEAPON_TYPE\", \"INCIDENT_LOCATION\", \"ZIP\", \"LATITUDE\", \"LONGITUDE\"]\n",
    "lrpd = pd.read_csv(\"../data/lrpd.csv\", usecols=requested_columns)\n",
    "lrpd.set_index(\"INCIDENT_NUMBER\", inplace=True)"
   ],
   "metadata": {
    "collapsed": false
   }
  },
  {
   "cell_type": "markdown",
   "source": [
    "### Drop duplicate rows:"
   ],
   "metadata": {
    "collapsed": false
   }
  },
  {
   "cell_type": "code",
   "execution_count": 225,
   "outputs": [
    {
     "name": "stdout",
     "output_type": "stream",
     "text": [
      "Dropped 5501 duplicates!\n"
     ]
    }
   ],
   "source": [
    "prev_shape = lrpd.shape\n",
    "lrpd = lrpd.drop_duplicates(keep='last')\n",
    "new_shape = lrpd.shape\n",
    "\n",
    "print(f'Dropped {(prev_shape[0] - new_shape[0])} duplicates!')"
   ],
   "metadata": {
    "collapsed": false
   }
  },
  {
   "cell_type": "markdown",
   "source": [
    "### Fill missing values with Number 0:"
   ],
   "metadata": {
    "collapsed": false
   }
  },
  {
   "cell_type": "code",
   "execution_count": 226,
   "outputs": [],
   "source": [
    "lrpd = lrpd.fillna(0)"
   ],
   "metadata": {
    "collapsed": false
   }
  },
  {
   "cell_type": "markdown",
   "source": [
    "### Parse Number 0 and String 1 to UNKNOWN weapon type:"
   ],
   "metadata": {
    "collapsed": false
   }
  },
  {
   "cell_type": "code",
   "execution_count": 227,
   "outputs": [],
   "source": [
    "lrpd[\"WEAPON_TYPE\"] = lrpd[\"WEAPON_TYPE\"].replace(0, \"UNKNOWN\")\n",
    "lrpd[\"WEAPON_TYPE\"] = lrpd[\"WEAPON_TYPE\"].replace(\"1\", \"UNKNOWN\")"
   ],
   "metadata": {
    "collapsed": false
   }
  },
  {
   "cell_type": "markdown",
   "source": [
    "### Convert columns to correct types:"
   ],
   "metadata": {
    "collapsed": false
   }
  },
  {
   "cell_type": "code",
   "execution_count": 228,
   "outputs": [
    {
     "data": {
      "text/plain": "                      INCIDENT_DATE  LOCATION_DISTRICT  \\\nINCIDENT_NUMBER                                          \n2021-092971     2021-08-04 10:21:00               72.0   \n2017-029450     2017-03-16 18:30:00               82.0   \n2017-156453     2017-09-01 12:00:00               53.0   \n2019-130717     2019-10-17 21:00:00               51.0   \n2020-073313     2020-07-02 19:10:00               50.0   \n\n                          OFFENSE_DESCRIPTION WEAPON_TYPE  \\\nINCIDENT_NUMBER                                             \n2021-092971          THEFT FROM MOTOR VEHICLE     UNKNOWN   \n2017-029450      THEFT OF MOTOR VEHICLE PARTS     UNKNOWN   \n2017-156453                              RAPE     UNKNOWN   \n2019-130717                              RAPE     UNKNOWN   \n2020-073313                              RAPE     UNKNOWN   \n\n                       INCIDENT_LOCATION      ZIP   LATITUDE  LONGITUDE  \nINCIDENT_NUMBER                                                          \n2021-092971              15601  KANIS RD  72204.0   0.000000   0.000000  \n2017-029450      10801 IRONTON CUTOFF RD  72206.0  34.649362 -92.301959  \n2017-156453                            0      0.0   0.000000   0.000000  \n2019-130717                            0      0.0   0.000000   0.000000  \n2020-073313                            0      0.0   0.000000   0.000000  ",
      "text/html": "<div>\n<style scoped>\n    .dataframe tbody tr th:only-of-type {\n        vertical-align: middle;\n    }\n\n    .dataframe tbody tr th {\n        vertical-align: top;\n    }\n\n    .dataframe thead th {\n        text-align: right;\n    }\n</style>\n<table border=\"1\" class=\"dataframe\">\n  <thead>\n    <tr style=\"text-align: right;\">\n      <th></th>\n      <th>INCIDENT_DATE</th>\n      <th>LOCATION_DISTRICT</th>\n      <th>OFFENSE_DESCRIPTION</th>\n      <th>WEAPON_TYPE</th>\n      <th>INCIDENT_LOCATION</th>\n      <th>ZIP</th>\n      <th>LATITUDE</th>\n      <th>LONGITUDE</th>\n    </tr>\n    <tr>\n      <th>INCIDENT_NUMBER</th>\n      <th></th>\n      <th></th>\n      <th></th>\n      <th></th>\n      <th></th>\n      <th></th>\n      <th></th>\n      <th></th>\n    </tr>\n  </thead>\n  <tbody>\n    <tr>\n      <th>2021-092971</th>\n      <td>2021-08-04 10:21:00</td>\n      <td>72.0</td>\n      <td>THEFT FROM MOTOR VEHICLE</td>\n      <td>UNKNOWN</td>\n      <td>15601  KANIS RD</td>\n      <td>72204.0</td>\n      <td>0.000000</td>\n      <td>0.000000</td>\n    </tr>\n    <tr>\n      <th>2017-029450</th>\n      <td>2017-03-16 18:30:00</td>\n      <td>82.0</td>\n      <td>THEFT OF MOTOR VEHICLE PARTS</td>\n      <td>UNKNOWN</td>\n      <td>10801 IRONTON CUTOFF RD</td>\n      <td>72206.0</td>\n      <td>34.649362</td>\n      <td>-92.301959</td>\n    </tr>\n    <tr>\n      <th>2017-156453</th>\n      <td>2017-09-01 12:00:00</td>\n      <td>53.0</td>\n      <td>RAPE</td>\n      <td>UNKNOWN</td>\n      <td>0</td>\n      <td>0.0</td>\n      <td>0.000000</td>\n      <td>0.000000</td>\n    </tr>\n    <tr>\n      <th>2019-130717</th>\n      <td>2019-10-17 21:00:00</td>\n      <td>51.0</td>\n      <td>RAPE</td>\n      <td>UNKNOWN</td>\n      <td>0</td>\n      <td>0.0</td>\n      <td>0.000000</td>\n      <td>0.000000</td>\n    </tr>\n    <tr>\n      <th>2020-073313</th>\n      <td>2020-07-02 19:10:00</td>\n      <td>50.0</td>\n      <td>RAPE</td>\n      <td>UNKNOWN</td>\n      <td>0</td>\n      <td>0.0</td>\n      <td>0.000000</td>\n      <td>0.000000</td>\n    </tr>\n  </tbody>\n</table>\n</div>"
     },
     "execution_count": 228,
     "metadata": {},
     "output_type": "execute_result"
    }
   ],
   "source": [
    "lrpd[\"ZIP\"] = pd.to_numeric(lrpd[\"ZIP\"])\n",
    "lrpd[\"LATITUDE\"] = pd.to_numeric(lrpd[\"LATITUDE\"])\n",
    "lrpd[\"LONGITUDE\"] = pd.to_numeric(lrpd[\"LONGITUDE\"])\n",
    "lrpd[\"INCIDENT_DATE\"] = pd.to_datetime(lrpd[\"INCIDENT_DATE\"])\n",
    "lrpd[\"LOCATION_DISTRICT\"] = pd.to_numeric(lrpd[\"LOCATION_DISTRICT\"])\n",
    "\n",
    "lrpd.head()"
   ],
   "metadata": {
    "collapsed": false
   }
  },
  {
   "cell_type": "code",
   "execution_count": 229,
   "outputs": [],
   "source": [
    "all_crimes = lrpd[\"OFFENSE_DESCRIPTION\"].unique()\n",
    "all_weapons = lrpd[\"WEAPON_TYPE\"].unique()"
   ],
   "metadata": {
    "collapsed": false
   }
  },
  {
   "cell_type": "code",
   "execution_count": 230,
   "outputs": [],
   "source": [
    "violent_crimes = ['RAPE', 'AGGRAVATED ASSAULT', 'ALL OTHER LARCENY', 'ROBBERY', 'BURGLARY/B&E',\n",
    "                  'MURDER & NONNEGLIGENT MANSLAUGHTER']\n",
    "nonviolent_crimes = ['THEFT FROM MOTOR VEHICLE', 'MOTOR VEHICLE THEFT', 'THEFT OF MOTOR VEHICLE PARTS',\n",
    "                     'SHOPLIFTING', 'THEFT FROM BUILDING', 'POCKET-PICKING', 'THEFT FROM COIN-OPERATED MACHINE',\n",
    "                     'PURSE-SNATCHING']"
   ],
   "metadata": {
    "collapsed": false
   }
  },
  {
   "cell_type": "code",
   "execution_count": 231,
   "outputs": [],
   "source": [
    "def determine_crime_type(crime):\n",
    "    if crime in violent_crimes:\n",
    "        return 'Violent Crime'\n",
    "    elif crime in nonviolent_crimes:\n",
    "        return 'Non-Violent Crime'\n",
    "    else:\n",
    "        return 'Crime Type Unknown'"
   ],
   "metadata": {
    "collapsed": false
   }
  },
  {
   "cell_type": "code",
   "execution_count": 232,
   "outputs": [],
   "source": [
    "def determine_risk_type(crime):\n",
    "    pass"
   ],
   "metadata": {
    "collapsed": false
   }
  },
  {
   "cell_type": "code",
   "execution_count": 233,
   "outputs": [],
   "source": [
    "lrpd[\"CRIME_TYPE\"] = lrpd[\"OFFENSE_DESCRIPTION\"].apply(determine_crime_type)"
   ],
   "metadata": {
    "collapsed": false
   }
  },
  {
   "cell_type": "code",
   "execution_count": 234,
   "outputs": [],
   "source": [
    "lrpd.loc[(lrpd['CRIME_TYPE'] == 'Violent Crime') | (\n",
    "        lrpd['WEAPON_TYPE'] != 'UNKNOWN'), \"RISK_TYPE\"] = \"High Risk\"\n",
    "lrpd.loc[(lrpd['CRIME_TYPE'] == 'Violent Crime') & (\n",
    "        lrpd['WEAPON_TYPE'] != 'UNKNOWN'), \"RISK_TYPE\"] = \"High Risk\"\n",
    "lrpd.loc[(lrpd['CRIME_TYPE'] == 'Non-Violent Crime') & (\n",
    "        lrpd['WEAPON_TYPE'] != 'UNKNOWN'), \"RISK_TYPE\"] = \"High Risk\"\n",
    "lrpd.loc[(lrpd['CRIME_TYPE'] == 'Non-Violent Crime') & (\n",
    "        lrpd['WEAPON_TYPE'] == 'UNKNOWN'), \"RISK_TYPE\"] = \"Low Risk\""
   ],
   "metadata": {
    "collapsed": false
   }
  },
  {
   "cell_type": "code",
   "execution_count": 235,
   "outputs": [
    {
     "data": {
      "text/plain": "                      INCIDENT_DATE  LOCATION_DISTRICT  \\\nINCIDENT_NUMBER                                          \n2021-092971     2021-08-04 10:21:00               72.0   \n2017-029450     2017-03-16 18:30:00               82.0   \n2017-156453     2017-09-01 12:00:00               53.0   \n2019-130717     2019-10-17 21:00:00               51.0   \n2020-073313     2020-07-02 19:10:00               50.0   \n...                             ...                ...   \n2018-066314     2018-05-31 17:50:00               70.0   \n2020-040599     2020-04-14 07:30:00               60.0   \n2020-091056     2020-08-10 11:43:00               71.0   \n2021-068606     2021-06-15 14:38:00               71.0   \n2017-123107     2017-10-02 10:10:00               82.0   \n\n                          OFFENSE_DESCRIPTION  \\\nINCIDENT_NUMBER                                 \n2021-092971          THEFT FROM MOTOR VEHICLE   \n2017-029450      THEFT OF MOTOR VEHICLE PARTS   \n2017-156453                              RAPE   \n2019-130717                              RAPE   \n2020-073313                              RAPE   \n...                                       ...   \n2018-066314               THEFT FROM BUILDING   \n2020-040599          THEFT FROM MOTOR VEHICLE   \n2020-091056                AGGRAVATED ASSAULT   \n2021-068606          THEFT FROM MOTOR VEHICLE   \n2017-123107               THEFT FROM BUILDING   \n\n                                          WEAPON_TYPE  \\\nINCIDENT_NUMBER                                         \n2021-092971                                   UNKNOWN   \n2017-029450                                   UNKNOWN   \n2017-156453                                   UNKNOWN   \n2019-130717                                   UNKNOWN   \n2020-073313                                   UNKNOWN   \n...                                               ...   \n2018-066314                                   UNKNOWN   \n2020-040599                                   UNKNOWN   \n2020-091056      PERSONAL WEAPONS (HANDS, FISTS, ETC)   \n2021-068606                                   UNKNOWN   \n2017-123107                                   UNKNOWN   \n\n                        INCIDENT_LOCATION      ZIP   LATITUDE  LONGITUDE  \\\nINCIDENT_NUMBER                                                            \n2021-092971               15601  KANIS RD  72204.0   0.000000   0.000000   \n2017-029450       10801 IRONTON CUTOFF RD  72206.0  34.649362 -92.301959   \n2017-156453                             0      0.0   0.000000   0.000000   \n2019-130717                             0      0.0   0.000000   0.000000   \n2020-073313                             0      0.0   0.000000   0.000000   \n...                                   ...      ...        ...        ...   \n2018-066314         1601 N SHACKLEFORD RD  72211.0  34.767624 -92.395836   \n2020-040599              225 KEIGHTLEY DR  72207.0   0.000000   0.000000   \n2020-091056           501  NAPA VALLEY DR  72207.0  34.767513 -92.350911   \n2021-068606      13121 SAINT CHARLES BLVD  72211.0  34.758569 -92.419065   \n2017-123107         1619 REBSAMEN PARK RD  72202.0  34.765292 -92.310104   \n\n                        CRIME_TYPE  RISK_TYPE  \nINCIDENT_NUMBER                                \n2021-092971      Non-Violent Crime   Low Risk  \n2017-029450      Non-Violent Crime   Low Risk  \n2017-156453          Violent Crime  High Risk  \n2019-130717          Violent Crime  High Risk  \n2020-073313          Violent Crime  High Risk  \n...                            ...        ...  \n2018-066314      Non-Violent Crime   Low Risk  \n2020-040599      Non-Violent Crime   Low Risk  \n2020-091056          Violent Crime  High Risk  \n2021-068606      Non-Violent Crime   Low Risk  \n2017-123107      Non-Violent Crime   Low Risk  \n\n[82701 rows x 10 columns]",
      "text/html": "<div>\n<style scoped>\n    .dataframe tbody tr th:only-of-type {\n        vertical-align: middle;\n    }\n\n    .dataframe tbody tr th {\n        vertical-align: top;\n    }\n\n    .dataframe thead th {\n        text-align: right;\n    }\n</style>\n<table border=\"1\" class=\"dataframe\">\n  <thead>\n    <tr style=\"text-align: right;\">\n      <th></th>\n      <th>INCIDENT_DATE</th>\n      <th>LOCATION_DISTRICT</th>\n      <th>OFFENSE_DESCRIPTION</th>\n      <th>WEAPON_TYPE</th>\n      <th>INCIDENT_LOCATION</th>\n      <th>ZIP</th>\n      <th>LATITUDE</th>\n      <th>LONGITUDE</th>\n      <th>CRIME_TYPE</th>\n      <th>RISK_TYPE</th>\n    </tr>\n    <tr>\n      <th>INCIDENT_NUMBER</th>\n      <th></th>\n      <th></th>\n      <th></th>\n      <th></th>\n      <th></th>\n      <th></th>\n      <th></th>\n      <th></th>\n      <th></th>\n      <th></th>\n    </tr>\n  </thead>\n  <tbody>\n    <tr>\n      <th>2021-092971</th>\n      <td>2021-08-04 10:21:00</td>\n      <td>72.0</td>\n      <td>THEFT FROM MOTOR VEHICLE</td>\n      <td>UNKNOWN</td>\n      <td>15601  KANIS RD</td>\n      <td>72204.0</td>\n      <td>0.000000</td>\n      <td>0.000000</td>\n      <td>Non-Violent Crime</td>\n      <td>Low Risk</td>\n    </tr>\n    <tr>\n      <th>2017-029450</th>\n      <td>2017-03-16 18:30:00</td>\n      <td>82.0</td>\n      <td>THEFT OF MOTOR VEHICLE PARTS</td>\n      <td>UNKNOWN</td>\n      <td>10801 IRONTON CUTOFF RD</td>\n      <td>72206.0</td>\n      <td>34.649362</td>\n      <td>-92.301959</td>\n      <td>Non-Violent Crime</td>\n      <td>Low Risk</td>\n    </tr>\n    <tr>\n      <th>2017-156453</th>\n      <td>2017-09-01 12:00:00</td>\n      <td>53.0</td>\n      <td>RAPE</td>\n      <td>UNKNOWN</td>\n      <td>0</td>\n      <td>0.0</td>\n      <td>0.000000</td>\n      <td>0.000000</td>\n      <td>Violent Crime</td>\n      <td>High Risk</td>\n    </tr>\n    <tr>\n      <th>2019-130717</th>\n      <td>2019-10-17 21:00:00</td>\n      <td>51.0</td>\n      <td>RAPE</td>\n      <td>UNKNOWN</td>\n      <td>0</td>\n      <td>0.0</td>\n      <td>0.000000</td>\n      <td>0.000000</td>\n      <td>Violent Crime</td>\n      <td>High Risk</td>\n    </tr>\n    <tr>\n      <th>2020-073313</th>\n      <td>2020-07-02 19:10:00</td>\n      <td>50.0</td>\n      <td>RAPE</td>\n      <td>UNKNOWN</td>\n      <td>0</td>\n      <td>0.0</td>\n      <td>0.000000</td>\n      <td>0.000000</td>\n      <td>Violent Crime</td>\n      <td>High Risk</td>\n    </tr>\n    <tr>\n      <th>...</th>\n      <td>...</td>\n      <td>...</td>\n      <td>...</td>\n      <td>...</td>\n      <td>...</td>\n      <td>...</td>\n      <td>...</td>\n      <td>...</td>\n      <td>...</td>\n      <td>...</td>\n    </tr>\n    <tr>\n      <th>2018-066314</th>\n      <td>2018-05-31 17:50:00</td>\n      <td>70.0</td>\n      <td>THEFT FROM BUILDING</td>\n      <td>UNKNOWN</td>\n      <td>1601 N SHACKLEFORD RD</td>\n      <td>72211.0</td>\n      <td>34.767624</td>\n      <td>-92.395836</td>\n      <td>Non-Violent Crime</td>\n      <td>Low Risk</td>\n    </tr>\n    <tr>\n      <th>2020-040599</th>\n      <td>2020-04-14 07:30:00</td>\n      <td>60.0</td>\n      <td>THEFT FROM MOTOR VEHICLE</td>\n      <td>UNKNOWN</td>\n      <td>225 KEIGHTLEY DR</td>\n      <td>72207.0</td>\n      <td>0.000000</td>\n      <td>0.000000</td>\n      <td>Non-Violent Crime</td>\n      <td>Low Risk</td>\n    </tr>\n    <tr>\n      <th>2020-091056</th>\n      <td>2020-08-10 11:43:00</td>\n      <td>71.0</td>\n      <td>AGGRAVATED ASSAULT</td>\n      <td>PERSONAL WEAPONS (HANDS, FISTS, ETC)</td>\n      <td>501  NAPA VALLEY DR</td>\n      <td>72207.0</td>\n      <td>34.767513</td>\n      <td>-92.350911</td>\n      <td>Violent Crime</td>\n      <td>High Risk</td>\n    </tr>\n    <tr>\n      <th>2021-068606</th>\n      <td>2021-06-15 14:38:00</td>\n      <td>71.0</td>\n      <td>THEFT FROM MOTOR VEHICLE</td>\n      <td>UNKNOWN</td>\n      <td>13121 SAINT CHARLES BLVD</td>\n      <td>72211.0</td>\n      <td>34.758569</td>\n      <td>-92.419065</td>\n      <td>Non-Violent Crime</td>\n      <td>Low Risk</td>\n    </tr>\n    <tr>\n      <th>2017-123107</th>\n      <td>2017-10-02 10:10:00</td>\n      <td>82.0</td>\n      <td>THEFT FROM BUILDING</td>\n      <td>UNKNOWN</td>\n      <td>1619 REBSAMEN PARK RD</td>\n      <td>72202.0</td>\n      <td>34.765292</td>\n      <td>-92.310104</td>\n      <td>Non-Violent Crime</td>\n      <td>Low Risk</td>\n    </tr>\n  </tbody>\n</table>\n<p>82701 rows × 10 columns</p>\n</div>"
     },
     "execution_count": 235,
     "metadata": {},
     "output_type": "execute_result"
    }
   ],
   "source": [
    "lrpd"
   ],
   "metadata": {
    "collapsed": false
   }
  },
  {
   "cell_type": "code",
   "execution_count": 236,
   "outputs": [],
   "source": [
    "# Save the cleaned dataset.\n",
    "lrpd.to_csv(\"../data/lrpd-clean.csv\")"
   ],
   "metadata": {
    "collapsed": false
   }
  }
 ],
 "metadata": {
  "kernelspec": {
   "display_name": "Python 3",
   "language": "python",
   "name": "python3"
  },
  "language_info": {
   "codemirror_mode": {
    "name": "ipython",
    "version": 2
   },
   "file_extension": ".py",
   "mimetype": "text/x-python",
   "name": "python",
   "nbconvert_exporter": "python",
   "pygments_lexer": "ipython2",
   "version": "2.7.6"
  }
 },
 "nbformat": 4,
 "nbformat_minor": 0
}
