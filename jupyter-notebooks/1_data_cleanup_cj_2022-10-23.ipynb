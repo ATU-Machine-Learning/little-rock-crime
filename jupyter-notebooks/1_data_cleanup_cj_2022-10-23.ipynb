{
 "cells": [
  {
   "cell_type": "markdown",
   "source": [
    "# Notebook Goals:\n",
    "- [] Remove major errors, duplicates, and outliers\n",
    "- [x] Remove unwanted data field(s)\n",
    "    * Removed all irrelevant field(s).\n",
    "- [x] Bring structure\n",
    "    * Parsed the Date into two columns.\n",
    "- [x] Handle missing data\n",
    "    * Filled all NA values with zeroes (0)."
   ],
   "metadata": {
    "collapsed": false
   }
  },
  {
   "cell_type": "code",
   "execution_count": 49,
   "metadata": {
    "collapsed": true
   },
   "outputs": [],
   "source": [
    "import pandas as pd"
   ]
  },
  {
   "cell_type": "code",
   "execution_count": 50,
   "outputs": [],
   "source": [
    "# Optimize loading the DataFrame into memory by only requesting the columns that are relevant towards the problem statement.\n",
    "requested_columns = [\"INCIDENT_DATE\", \"INCIDENT_NUMBER\", \"LOCATION_DISTRICT\", \"OFFENSE_DESCRIPTION\", \"WEAPON_TYPE\", \"INCIDENT_LOCATION\", \"ZIP\", \"LATITUDE\", \"LONGITUDE\"]\n",
    "\n",
    "lrpd = pd.read_csv(\"../data/lrpd.csv\", usecols=requested_columns)"
   ],
   "metadata": {
    "collapsed": false
   }
  },
  {
   "cell_type": "code",
   "execution_count": 51,
   "outputs": [],
   "source": [
    "# Drop all duplicate rows!\n",
    "prev_shape = lrpd.shape\n",
    "lrpd = lrpd.drop_duplicates(subset=[\"INCIDENT_NUMBER\"], keep='last')\n",
    "new_shape = lrpd.shape"
   ],
   "metadata": {
    "collapsed": false
   }
  },
  {
   "cell_type": "code",
   "execution_count": 52,
   "outputs": [
    {
     "name": "stdout",
     "output_type": "stream",
     "text": [
      "Dropped 6369 duplicates!\n"
     ]
    }
   ],
   "source": [
    "diff = prev_shape[0] - new_shape[0]\n",
    "print(f'Dropped {diff} duplicates!')"
   ],
   "metadata": {
    "collapsed": false
   }
  },
  {
   "cell_type": "code",
   "execution_count": 53,
   "outputs": [],
   "source": [
    "lrpd.set_index(\"INCIDENT_NUMBER\", inplace=True)"
   ],
   "metadata": {
    "collapsed": false
   }
  },
  {
   "cell_type": "code",
   "execution_count": 54,
   "outputs": [],
   "source": [
    "# Fill all the Pandas-handled Missing Data with zeroes (0).\n",
    "lrpd = lrpd.fillna(0)"
   ],
   "metadata": {
    "collapsed": false
   }
  },
  {
   "cell_type": "code",
   "execution_count": 55,
   "outputs": [
    {
     "data": {
      "text/plain": "                          INCIDENT_DATE  LOCATION_DISTRICT  \\\nINCIDENT_NUMBER                                              \n2021-092971      08/04/2021 10:21:00 AM               72.0   \n2017-029450      03/16/2017 06:30:00 PM               82.0   \n2017-156453      09/01/2017 12:00:00 PM               53.0   \n2019-130717      10/17/2019 09:00:00 PM               51.0   \n2020-073313      07/02/2020 07:10:00 PM               50.0   \n\n                          OFFENSE_DESCRIPTION WEAPON_TYPE  \\\nINCIDENT_NUMBER                                             \n2021-092971          THEFT FROM MOTOR VEHICLE           0   \n2017-029450      THEFT OF MOTOR VEHICLE PARTS           0   \n2017-156453                              RAPE           0   \n2019-130717                              RAPE           0   \n2020-073313                              RAPE           0   \n\n                       INCIDENT_LOCATION      ZIP   LATITUDE  LONGITUDE  \nINCIDENT_NUMBER                                                          \n2021-092971              15601  KANIS RD  72204.0   0.000000   0.000000  \n2017-029450      10801 IRONTON CUTOFF RD  72206.0  34.649362 -92.301959  \n2017-156453                            0      0.0   0.000000   0.000000  \n2019-130717                            0      0.0   0.000000   0.000000  \n2020-073313                            0      0.0   0.000000   0.000000  ",
      "text/html": "<div>\n<style scoped>\n    .dataframe tbody tr th:only-of-type {\n        vertical-align: middle;\n    }\n\n    .dataframe tbody tr th {\n        vertical-align: top;\n    }\n\n    .dataframe thead th {\n        text-align: right;\n    }\n</style>\n<table border=\"1\" class=\"dataframe\">\n  <thead>\n    <tr style=\"text-align: right;\">\n      <th></th>\n      <th>INCIDENT_DATE</th>\n      <th>LOCATION_DISTRICT</th>\n      <th>OFFENSE_DESCRIPTION</th>\n      <th>WEAPON_TYPE</th>\n      <th>INCIDENT_LOCATION</th>\n      <th>ZIP</th>\n      <th>LATITUDE</th>\n      <th>LONGITUDE</th>\n    </tr>\n    <tr>\n      <th>INCIDENT_NUMBER</th>\n      <th></th>\n      <th></th>\n      <th></th>\n      <th></th>\n      <th></th>\n      <th></th>\n      <th></th>\n      <th></th>\n    </tr>\n  </thead>\n  <tbody>\n    <tr>\n      <th>2021-092971</th>\n      <td>08/04/2021 10:21:00 AM</td>\n      <td>72.0</td>\n      <td>THEFT FROM MOTOR VEHICLE</td>\n      <td>0</td>\n      <td>15601  KANIS RD</td>\n      <td>72204.0</td>\n      <td>0.000000</td>\n      <td>0.000000</td>\n    </tr>\n    <tr>\n      <th>2017-029450</th>\n      <td>03/16/2017 06:30:00 PM</td>\n      <td>82.0</td>\n      <td>THEFT OF MOTOR VEHICLE PARTS</td>\n      <td>0</td>\n      <td>10801 IRONTON CUTOFF RD</td>\n      <td>72206.0</td>\n      <td>34.649362</td>\n      <td>-92.301959</td>\n    </tr>\n    <tr>\n      <th>2017-156453</th>\n      <td>09/01/2017 12:00:00 PM</td>\n      <td>53.0</td>\n      <td>RAPE</td>\n      <td>0</td>\n      <td>0</td>\n      <td>0.0</td>\n      <td>0.000000</td>\n      <td>0.000000</td>\n    </tr>\n    <tr>\n      <th>2019-130717</th>\n      <td>10/17/2019 09:00:00 PM</td>\n      <td>51.0</td>\n      <td>RAPE</td>\n      <td>0</td>\n      <td>0</td>\n      <td>0.0</td>\n      <td>0.000000</td>\n      <td>0.000000</td>\n    </tr>\n    <tr>\n      <th>2020-073313</th>\n      <td>07/02/2020 07:10:00 PM</td>\n      <td>50.0</td>\n      <td>RAPE</td>\n      <td>0</td>\n      <td>0</td>\n      <td>0.0</td>\n      <td>0.000000</td>\n      <td>0.000000</td>\n    </tr>\n  </tbody>\n</table>\n</div>"
     },
     "execution_count": 55,
     "metadata": {},
     "output_type": "execute_result"
    }
   ],
   "source": [
    "lrpd.head()"
   ],
   "metadata": {
    "collapsed": false
   }
  },
  {
   "cell_type": "code",
   "execution_count": 56,
   "outputs": [],
   "source": [
    "# Splits the incident_date string into a 3-element tuple.\n",
    "# [0] -> MM/DD/YYYY\n",
    "# [1] -> HH:MM:SS\n",
    "# [2] -> AM/PM\n",
    "def split_incident_date(incident_date):\n",
    "    split = incident_date.split(' ')\n",
    "    return split[0], split[1], split[2]\n",
    "\n",
    "# Parses the split incident into a Date format (MM/DD/YYYY).\n",
    "def get_incident_date(incident_date):\n",
    "    date = split_incident_date(incident_date)\n",
    "    return date[0]\n",
    "\n",
    "# Parses the incident into a Time format (HH:MM AM/PM).\n",
    "def get_incident_time(incident_date):\n",
    "    time = split_incident_date(incident_date)\n",
    "    hms = time[1].split(':')\n",
    "    return hms[0] + ':' + hms[1] + ' ' + time[2]"
   ],
   "metadata": {
    "collapsed": false
   }
  },
  {
   "cell_type": "code",
   "execution_count": 57,
   "outputs": [],
   "source": [
    "# Replace INCIDENT_DATE column with more concise columns.\n",
    "temp_date = lrpd[\"INCIDENT_DATE\"]\n",
    "lrpd[\"INCIDENT_DATE\"] = temp_date.apply(get_incident_date)\n",
    "lrpd[\"INCIDENT_TIME\"] = temp_date.apply(get_incident_time)"
   ],
   "metadata": {
    "collapsed": false
   }
  },
  {
   "cell_type": "code",
   "execution_count": 58,
   "outputs": [
    {
     "data": {
      "text/plain": "                INCIDENT_DATE  LOCATION_DISTRICT  \\\nINCIDENT_NUMBER                                    \n2021-092971        08/04/2021               72.0   \n2017-029450        03/16/2017               82.0   \n2017-156453        09/01/2017               53.0   \n2019-130717        10/17/2019               51.0   \n2020-073313        07/02/2020               50.0   \n\n                          OFFENSE_DESCRIPTION WEAPON_TYPE  \\\nINCIDENT_NUMBER                                             \n2021-092971          THEFT FROM MOTOR VEHICLE           0   \n2017-029450      THEFT OF MOTOR VEHICLE PARTS           0   \n2017-156453                              RAPE           0   \n2019-130717                              RAPE           0   \n2020-073313                              RAPE           0   \n\n                       INCIDENT_LOCATION      ZIP   LATITUDE  LONGITUDE  \\\nINCIDENT_NUMBER                                                           \n2021-092971              15601  KANIS RD  72204.0   0.000000   0.000000   \n2017-029450      10801 IRONTON CUTOFF RD  72206.0  34.649362 -92.301959   \n2017-156453                            0      0.0   0.000000   0.000000   \n2019-130717                            0      0.0   0.000000   0.000000   \n2020-073313                            0      0.0   0.000000   0.000000   \n\n                INCIDENT_TIME  \nINCIDENT_NUMBER                \n2021-092971          10:21 AM  \n2017-029450          06:30 PM  \n2017-156453          12:00 PM  \n2019-130717          09:00 PM  \n2020-073313          07:10 PM  ",
      "text/html": "<div>\n<style scoped>\n    .dataframe tbody tr th:only-of-type {\n        vertical-align: middle;\n    }\n\n    .dataframe tbody tr th {\n        vertical-align: top;\n    }\n\n    .dataframe thead th {\n        text-align: right;\n    }\n</style>\n<table border=\"1\" class=\"dataframe\">\n  <thead>\n    <tr style=\"text-align: right;\">\n      <th></th>\n      <th>INCIDENT_DATE</th>\n      <th>LOCATION_DISTRICT</th>\n      <th>OFFENSE_DESCRIPTION</th>\n      <th>WEAPON_TYPE</th>\n      <th>INCIDENT_LOCATION</th>\n      <th>ZIP</th>\n      <th>LATITUDE</th>\n      <th>LONGITUDE</th>\n      <th>INCIDENT_TIME</th>\n    </tr>\n    <tr>\n      <th>INCIDENT_NUMBER</th>\n      <th></th>\n      <th></th>\n      <th></th>\n      <th></th>\n      <th></th>\n      <th></th>\n      <th></th>\n      <th></th>\n      <th></th>\n    </tr>\n  </thead>\n  <tbody>\n    <tr>\n      <th>2021-092971</th>\n      <td>08/04/2021</td>\n      <td>72.0</td>\n      <td>THEFT FROM MOTOR VEHICLE</td>\n      <td>0</td>\n      <td>15601  KANIS RD</td>\n      <td>72204.0</td>\n      <td>0.000000</td>\n      <td>0.000000</td>\n      <td>10:21 AM</td>\n    </tr>\n    <tr>\n      <th>2017-029450</th>\n      <td>03/16/2017</td>\n      <td>82.0</td>\n      <td>THEFT OF MOTOR VEHICLE PARTS</td>\n      <td>0</td>\n      <td>10801 IRONTON CUTOFF RD</td>\n      <td>72206.0</td>\n      <td>34.649362</td>\n      <td>-92.301959</td>\n      <td>06:30 PM</td>\n    </tr>\n    <tr>\n      <th>2017-156453</th>\n      <td>09/01/2017</td>\n      <td>53.0</td>\n      <td>RAPE</td>\n      <td>0</td>\n      <td>0</td>\n      <td>0.0</td>\n      <td>0.000000</td>\n      <td>0.000000</td>\n      <td>12:00 PM</td>\n    </tr>\n    <tr>\n      <th>2019-130717</th>\n      <td>10/17/2019</td>\n      <td>51.0</td>\n      <td>RAPE</td>\n      <td>0</td>\n      <td>0</td>\n      <td>0.0</td>\n      <td>0.000000</td>\n      <td>0.000000</td>\n      <td>09:00 PM</td>\n    </tr>\n    <tr>\n      <th>2020-073313</th>\n      <td>07/02/2020</td>\n      <td>50.0</td>\n      <td>RAPE</td>\n      <td>0</td>\n      <td>0</td>\n      <td>0.0</td>\n      <td>0.000000</td>\n      <td>0.000000</td>\n      <td>07:10 PM</td>\n    </tr>\n  </tbody>\n</table>\n</div>"
     },
     "execution_count": 58,
     "metadata": {},
     "output_type": "execute_result"
    }
   ],
   "source": [
    "lrpd.head()"
   ],
   "metadata": {
    "collapsed": false
   }
  },
  {
   "cell_type": "code",
   "execution_count": 59,
   "outputs": [
    {
     "data": {
      "text/plain": "       LOCATION_DISTRICT           ZIP      LATITUDE     LONGITUDE\ncount       81833.000000  81833.000000  81833.000000  81833.000000\nmean           65.955446  71271.371867     33.596511    -89.350141\nstd            15.510309   8160.766312      6.157083     16.374495\nmin             0.000000      0.000000      0.000000    -92.545466\n25%            54.000000  72204.000000     34.689606    -92.387244\n50%            63.000000  72206.000000     34.732894    -92.346238\n75%            81.000000  72209.000000     34.752135    -92.314721\nmax            93.000000  72227.000000     34.881691      0.000000",
      "text/html": "<div>\n<style scoped>\n    .dataframe tbody tr th:only-of-type {\n        vertical-align: middle;\n    }\n\n    .dataframe tbody tr th {\n        vertical-align: top;\n    }\n\n    .dataframe thead th {\n        text-align: right;\n    }\n</style>\n<table border=\"1\" class=\"dataframe\">\n  <thead>\n    <tr style=\"text-align: right;\">\n      <th></th>\n      <th>LOCATION_DISTRICT</th>\n      <th>ZIP</th>\n      <th>LATITUDE</th>\n      <th>LONGITUDE</th>\n    </tr>\n  </thead>\n  <tbody>\n    <tr>\n      <th>count</th>\n      <td>81833.000000</td>\n      <td>81833.000000</td>\n      <td>81833.000000</td>\n      <td>81833.000000</td>\n    </tr>\n    <tr>\n      <th>mean</th>\n      <td>65.955446</td>\n      <td>71271.371867</td>\n      <td>33.596511</td>\n      <td>-89.350141</td>\n    </tr>\n    <tr>\n      <th>std</th>\n      <td>15.510309</td>\n      <td>8160.766312</td>\n      <td>6.157083</td>\n      <td>16.374495</td>\n    </tr>\n    <tr>\n      <th>min</th>\n      <td>0.000000</td>\n      <td>0.000000</td>\n      <td>0.000000</td>\n      <td>-92.545466</td>\n    </tr>\n    <tr>\n      <th>25%</th>\n      <td>54.000000</td>\n      <td>72204.000000</td>\n      <td>34.689606</td>\n      <td>-92.387244</td>\n    </tr>\n    <tr>\n      <th>50%</th>\n      <td>63.000000</td>\n      <td>72206.000000</td>\n      <td>34.732894</td>\n      <td>-92.346238</td>\n    </tr>\n    <tr>\n      <th>75%</th>\n      <td>81.000000</td>\n      <td>72209.000000</td>\n      <td>34.752135</td>\n      <td>-92.314721</td>\n    </tr>\n    <tr>\n      <th>max</th>\n      <td>93.000000</td>\n      <td>72227.000000</td>\n      <td>34.881691</td>\n      <td>0.000000</td>\n    </tr>\n  </tbody>\n</table>\n</div>"
     },
     "execution_count": 59,
     "metadata": {},
     "output_type": "execute_result"
    }
   ],
   "source": [
    "# Handle outliers.\n",
    "# Reference: https://hersanyagci.medium.com/detecting-and-handling-outliers-with-pandas-7adbfcd5cad8\n",
    "lrpd.describe()"
   ],
   "metadata": {
    "collapsed": false
   }
  },
  {
   "cell_type": "code",
   "execution_count": 60,
   "outputs": [],
   "source": [
    "Q1 = lrpd.quantile(0.25)\n",
    "Q3 = lrpd.quantile(0.75)\n",
    "IQR = Q3 - Q1"
   ],
   "metadata": {
    "collapsed": false
   }
  },
  {
   "cell_type": "code",
   "execution_count": 61,
   "outputs": [],
   "source": [
    "lower_limit = Q1 - 1.5 * IQR\n",
    "upper_limit = Q3 + 1.5 * IQR"
   ],
   "metadata": {
    "collapsed": false
   }
  },
  {
   "cell_type": "code",
   "execution_count": 62,
   "outputs": [
    {
     "name": "stderr",
     "output_type": "stream",
     "text": [
      "C:\\Users\\clayt\\AppData\\Local\\Temp\\ipykernel_14796\\2720126428.py:2: FutureWarning: Automatic reindexing on DataFrame vs Series comparisons is deprecated and will raise ValueError in a future version. Do `left, right = left.align(right, axis=1, copy=False)` before e.g. `left == right`\n",
      "  outliers_15_low = (lrpd < lower_limit)\n",
      "C:\\Users\\clayt\\AppData\\Local\\Temp\\ipykernel_14796\\2720126428.py:3: FutureWarning: Automatic reindexing on DataFrame vs Series comparisons is deprecated and will raise ValueError in a future version. Do `left, right = left.align(right, axis=1, copy=False)` before e.g. `left == right`\n",
      "  outliers_15_up = (lrpd > upper_limit)\n"
     ]
    }
   ],
   "source": [
    "# Drop the outliers.\n",
    "outliers_15_low = (lrpd < lower_limit)\n",
    "outliers_15_up = (lrpd > upper_limit)"
   ],
   "metadata": {
    "collapsed": false
   }
  },
  {
   "cell_type": "code",
   "execution_count": 63,
   "outputs": [],
   "source": [
    "# Save the cleaned dataset.\n",
    "lrpd.to_csv(\"../data/lrpd-clean.csv\")"
   ],
   "metadata": {
    "collapsed": false
   }
  }
 ],
 "metadata": {
  "kernelspec": {
   "display_name": "Python 3",
   "language": "python",
   "name": "python3"
  },
  "language_info": {
   "codemirror_mode": {
    "name": "ipython",
    "version": 2
   },
   "file_extension": ".py",
   "mimetype": "text/x-python",
   "name": "python",
   "nbconvert_exporter": "python",
   "pygments_lexer": "ipython2",
   "version": "2.7.6"
  }
 },
 "nbformat": 4,
 "nbformat_minor": 0
}
