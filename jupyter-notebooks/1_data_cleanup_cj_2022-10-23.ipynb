{
 "cells": [
  {
   "cell_type": "markdown",
   "source": [
    "# Notebook Goals:\n",
    "- [] Remove major errors, duplicates, and outliers\n",
    "- [x] Remove unwanted data field(s)\n",
    "    * Removed all irrelevant field(s).\n",
    "- [x] Bring structure\n",
    "    * Parsed the Date into two columns.\n",
    "- [x] Handle missing data\n",
    "    * Filled all NA values with zeroes (0)."
   ],
   "metadata": {
    "collapsed": false
   }
  },
  {
   "cell_type": "code",
   "execution_count": 35,
   "metadata": {
    "collapsed": true
   },
   "outputs": [],
   "source": [
    "import pandas as pd"
   ]
  },
  {
   "cell_type": "code",
   "execution_count": 32,
   "outputs": [],
   "source": [
    "# Optimize loading the DataFrame into memory by only requesting the columns that are relevant towards the problem statement.\n",
    "requested_columns = [\"INCIDENT_DATE\", \"INCIDENT_NUMBER\", \"LOCATION_DISTRICT\", \"OFFENSE_DESCRIPTION\", \"WEAPON_TYPE\", \"INCIDENT_LOCATION\", \"ZIP\", \"LATITUDE\", \"LONGITUDE\"]\n",
    "\n",
    "lrpd = pd.read_csv(\"../data/lrpd.csv\", usecols=requested_columns)"
   ],
   "metadata": {
    "collapsed": false
   }
  },
  {
   "cell_type": "code",
   "execution_count": 19,
   "outputs": [],
   "source": [
    "# Drop all duplicate rows!\n",
    "prev_shape = lrpd.shape\n",
    "lrpd = lrpd.drop_duplicates(subset=[\"INCIDENT_NUMBER\"], keep='last')\n",
    "new_shape = lrpd.shape"
   ],
   "metadata": {
    "collapsed": false
   }
  },
  {
   "cell_type": "code",
   "execution_count": 20,
   "outputs": [
    {
     "name": "stdout",
     "output_type": "stream",
     "text": [
      "Dropped 6369 duplicates!\n"
     ]
    }
   ],
   "source": [
    "diff = prev_shape[0] - new_shape[0]\n",
    "print(f'Dropped {diff} duplicates!')"
   ],
   "metadata": {
    "collapsed": false
   }
  },
  {
   "cell_type": "code",
   "execution_count": 21,
   "outputs": [],
   "source": [
    "# Fill all the Pandas-handled Missing Data with zeroes (0).\n",
    "lrpd = lrpd.fillna(0)"
   ],
   "metadata": {
    "collapsed": false
   }
  },
  {
   "cell_type": "code",
   "execution_count": 22,
   "outputs": [
    {
     "data": {
      "text/plain": "            INCIDENT_DATE INCIDENT_NUMBER  LOCATION_DISTRICT  \\\n0  08/04/2021 10:21:00 AM     2021-092971               72.0   \n1  03/16/2017 06:30:00 PM     2017-029450               82.0   \n2  09/01/2017 12:00:00 PM     2017-156453               53.0   \n3  10/17/2019 09:00:00 PM     2019-130717               51.0   \n4  07/02/2020 07:10:00 PM     2020-073313               50.0   \n\n            OFFENSE_DESCRIPTION WEAPON_TYPE        INCIDENT_LOCATION      ZIP  \\\n0      THEFT FROM MOTOR VEHICLE           0          15601  KANIS RD  72204.0   \n1  THEFT OF MOTOR VEHICLE PARTS           0  10801 IRONTON CUTOFF RD  72206.0   \n2                          RAPE           0                        0      0.0   \n3                          RAPE           0                        0      0.0   \n4                          RAPE           0                        0      0.0   \n\n    LATITUDE  LONGITUDE  \n0   0.000000   0.000000  \n1  34.649362 -92.301959  \n2   0.000000   0.000000  \n3   0.000000   0.000000  \n4   0.000000   0.000000  ",
      "text/html": "<div>\n<style scoped>\n    .dataframe tbody tr th:only-of-type {\n        vertical-align: middle;\n    }\n\n    .dataframe tbody tr th {\n        vertical-align: top;\n    }\n\n    .dataframe thead th {\n        text-align: right;\n    }\n</style>\n<table border=\"1\" class=\"dataframe\">\n  <thead>\n    <tr style=\"text-align: right;\">\n      <th></th>\n      <th>INCIDENT_DATE</th>\n      <th>INCIDENT_NUMBER</th>\n      <th>LOCATION_DISTRICT</th>\n      <th>OFFENSE_DESCRIPTION</th>\n      <th>WEAPON_TYPE</th>\n      <th>INCIDENT_LOCATION</th>\n      <th>ZIP</th>\n      <th>LATITUDE</th>\n      <th>LONGITUDE</th>\n    </tr>\n  </thead>\n  <tbody>\n    <tr>\n      <th>0</th>\n      <td>08/04/2021 10:21:00 AM</td>\n      <td>2021-092971</td>\n      <td>72.0</td>\n      <td>THEFT FROM MOTOR VEHICLE</td>\n      <td>0</td>\n      <td>15601  KANIS RD</td>\n      <td>72204.0</td>\n      <td>0.000000</td>\n      <td>0.000000</td>\n    </tr>\n    <tr>\n      <th>1</th>\n      <td>03/16/2017 06:30:00 PM</td>\n      <td>2017-029450</td>\n      <td>82.0</td>\n      <td>THEFT OF MOTOR VEHICLE PARTS</td>\n      <td>0</td>\n      <td>10801 IRONTON CUTOFF RD</td>\n      <td>72206.0</td>\n      <td>34.649362</td>\n      <td>-92.301959</td>\n    </tr>\n    <tr>\n      <th>2</th>\n      <td>09/01/2017 12:00:00 PM</td>\n      <td>2017-156453</td>\n      <td>53.0</td>\n      <td>RAPE</td>\n      <td>0</td>\n      <td>0</td>\n      <td>0.0</td>\n      <td>0.000000</td>\n      <td>0.000000</td>\n    </tr>\n    <tr>\n      <th>3</th>\n      <td>10/17/2019 09:00:00 PM</td>\n      <td>2019-130717</td>\n      <td>51.0</td>\n      <td>RAPE</td>\n      <td>0</td>\n      <td>0</td>\n      <td>0.0</td>\n      <td>0.000000</td>\n      <td>0.000000</td>\n    </tr>\n    <tr>\n      <th>4</th>\n      <td>07/02/2020 07:10:00 PM</td>\n      <td>2020-073313</td>\n      <td>50.0</td>\n      <td>RAPE</td>\n      <td>0</td>\n      <td>0</td>\n      <td>0.0</td>\n      <td>0.000000</td>\n      <td>0.000000</td>\n    </tr>\n  </tbody>\n</table>\n</div>"
     },
     "execution_count": 22,
     "metadata": {},
     "output_type": "execute_result"
    }
   ],
   "source": [
    "lrpd.head()"
   ],
   "metadata": {
    "collapsed": false
   }
  },
  {
   "cell_type": "code",
   "execution_count": 23,
   "outputs": [],
   "source": [
    "# Splits the incident_date string into a 3-element tuple.\n",
    "# [0] -> MM/DD/YYYY\n",
    "# [1] -> HH:MM:SS\n",
    "# [2] -> AM/PM\n",
    "def split_incident_date(incident_date):\n",
    "    split = incident_date.split(' ')\n",
    "    return split[0], split[1], split[2]\n",
    "\n",
    "# Parses the split incident into a Date format (MM/DD/YYYY).\n",
    "def get_incident_date(incident_date):\n",
    "    date = split_incident_date(incident_date)\n",
    "    return date[0]\n",
    "\n",
    "# Parses the incident into a Time format (HH:MM AM/PM).\n",
    "def get_incident_time(incident_date):\n",
    "    time = split_incident_date(incident_date)\n",
    "    hms = time[1].split(':')\n",
    "    return hms[0] + ':' + hms[1] + ' ' + time[2]"
   ],
   "metadata": {
    "collapsed": false
   }
  },
  {
   "cell_type": "code",
   "execution_count": 24,
   "outputs": [],
   "source": [
    "# Replace INCIDENT_DATE column with more concise columns.\n",
    "temp_date = lrpd[\"INCIDENT_DATE\"]\n",
    "lrpd[\"INCIDENT_DATE\"] = temp_date.apply(get_incident_date)\n",
    "lrpd[\"INCIDENT_TIME\"] = temp_date.apply(get_incident_time)"
   ],
   "metadata": {
    "collapsed": false
   }
  },
  {
   "cell_type": "code",
   "execution_count": 25,
   "outputs": [
    {
     "data": {
      "text/plain": "  INCIDENT_DATE INCIDENT_NUMBER  LOCATION_DISTRICT  \\\n0    08/04/2021     2021-092971               72.0   \n1    03/16/2017     2017-029450               82.0   \n2    09/01/2017     2017-156453               53.0   \n3    10/17/2019     2019-130717               51.0   \n4    07/02/2020     2020-073313               50.0   \n\n            OFFENSE_DESCRIPTION WEAPON_TYPE        INCIDENT_LOCATION      ZIP  \\\n0      THEFT FROM MOTOR VEHICLE           0          15601  KANIS RD  72204.0   \n1  THEFT OF MOTOR VEHICLE PARTS           0  10801 IRONTON CUTOFF RD  72206.0   \n2                          RAPE           0                        0      0.0   \n3                          RAPE           0                        0      0.0   \n4                          RAPE           0                        0      0.0   \n\n    LATITUDE  LONGITUDE INCIDENT_TIME  \n0   0.000000   0.000000      10:21 AM  \n1  34.649362 -92.301959      06:30 PM  \n2   0.000000   0.000000      12:00 PM  \n3   0.000000   0.000000      09:00 PM  \n4   0.000000   0.000000      07:10 PM  ",
      "text/html": "<div>\n<style scoped>\n    .dataframe tbody tr th:only-of-type {\n        vertical-align: middle;\n    }\n\n    .dataframe tbody tr th {\n        vertical-align: top;\n    }\n\n    .dataframe thead th {\n        text-align: right;\n    }\n</style>\n<table border=\"1\" class=\"dataframe\">\n  <thead>\n    <tr style=\"text-align: right;\">\n      <th></th>\n      <th>INCIDENT_DATE</th>\n      <th>INCIDENT_NUMBER</th>\n      <th>LOCATION_DISTRICT</th>\n      <th>OFFENSE_DESCRIPTION</th>\n      <th>WEAPON_TYPE</th>\n      <th>INCIDENT_LOCATION</th>\n      <th>ZIP</th>\n      <th>LATITUDE</th>\n      <th>LONGITUDE</th>\n      <th>INCIDENT_TIME</th>\n    </tr>\n  </thead>\n  <tbody>\n    <tr>\n      <th>0</th>\n      <td>08/04/2021</td>\n      <td>2021-092971</td>\n      <td>72.0</td>\n      <td>THEFT FROM MOTOR VEHICLE</td>\n      <td>0</td>\n      <td>15601  KANIS RD</td>\n      <td>72204.0</td>\n      <td>0.000000</td>\n      <td>0.000000</td>\n      <td>10:21 AM</td>\n    </tr>\n    <tr>\n      <th>1</th>\n      <td>03/16/2017</td>\n      <td>2017-029450</td>\n      <td>82.0</td>\n      <td>THEFT OF MOTOR VEHICLE PARTS</td>\n      <td>0</td>\n      <td>10801 IRONTON CUTOFF RD</td>\n      <td>72206.0</td>\n      <td>34.649362</td>\n      <td>-92.301959</td>\n      <td>06:30 PM</td>\n    </tr>\n    <tr>\n      <th>2</th>\n      <td>09/01/2017</td>\n      <td>2017-156453</td>\n      <td>53.0</td>\n      <td>RAPE</td>\n      <td>0</td>\n      <td>0</td>\n      <td>0.0</td>\n      <td>0.000000</td>\n      <td>0.000000</td>\n      <td>12:00 PM</td>\n    </tr>\n    <tr>\n      <th>3</th>\n      <td>10/17/2019</td>\n      <td>2019-130717</td>\n      <td>51.0</td>\n      <td>RAPE</td>\n      <td>0</td>\n      <td>0</td>\n      <td>0.0</td>\n      <td>0.000000</td>\n      <td>0.000000</td>\n      <td>09:00 PM</td>\n    </tr>\n    <tr>\n      <th>4</th>\n      <td>07/02/2020</td>\n      <td>2020-073313</td>\n      <td>50.0</td>\n      <td>RAPE</td>\n      <td>0</td>\n      <td>0</td>\n      <td>0.0</td>\n      <td>0.000000</td>\n      <td>0.000000</td>\n      <td>07:10 PM</td>\n    </tr>\n  </tbody>\n</table>\n</div>"
     },
     "execution_count": 25,
     "metadata": {},
     "output_type": "execute_result"
    }
   ],
   "source": [
    "lrpd.head()"
   ],
   "metadata": {
    "collapsed": false
   }
  },
  {
   "cell_type": "code",
   "execution_count": 26,
   "outputs": [
    {
     "data": {
      "text/plain": "       LOCATION_DISTRICT           ZIP      LATITUDE     LONGITUDE\ncount       81833.000000  81833.000000  81833.000000  81833.000000\nmean           65.955446  71271.371867     33.596511    -89.350141\nstd            15.510309   8160.766312      6.157083     16.374495\nmin             0.000000      0.000000      0.000000    -92.545466\n25%            54.000000  72204.000000     34.689606    -92.387244\n50%            63.000000  72206.000000     34.732894    -92.346238\n75%            81.000000  72209.000000     34.752135    -92.314721\nmax            93.000000  72227.000000     34.881691      0.000000",
      "text/html": "<div>\n<style scoped>\n    .dataframe tbody tr th:only-of-type {\n        vertical-align: middle;\n    }\n\n    .dataframe tbody tr th {\n        vertical-align: top;\n    }\n\n    .dataframe thead th {\n        text-align: right;\n    }\n</style>\n<table border=\"1\" class=\"dataframe\">\n  <thead>\n    <tr style=\"text-align: right;\">\n      <th></th>\n      <th>LOCATION_DISTRICT</th>\n      <th>ZIP</th>\n      <th>LATITUDE</th>\n      <th>LONGITUDE</th>\n    </tr>\n  </thead>\n  <tbody>\n    <tr>\n      <th>count</th>\n      <td>81833.000000</td>\n      <td>81833.000000</td>\n      <td>81833.000000</td>\n      <td>81833.000000</td>\n    </tr>\n    <tr>\n      <th>mean</th>\n      <td>65.955446</td>\n      <td>71271.371867</td>\n      <td>33.596511</td>\n      <td>-89.350141</td>\n    </tr>\n    <tr>\n      <th>std</th>\n      <td>15.510309</td>\n      <td>8160.766312</td>\n      <td>6.157083</td>\n      <td>16.374495</td>\n    </tr>\n    <tr>\n      <th>min</th>\n      <td>0.000000</td>\n      <td>0.000000</td>\n      <td>0.000000</td>\n      <td>-92.545466</td>\n    </tr>\n    <tr>\n      <th>25%</th>\n      <td>54.000000</td>\n      <td>72204.000000</td>\n      <td>34.689606</td>\n      <td>-92.387244</td>\n    </tr>\n    <tr>\n      <th>50%</th>\n      <td>63.000000</td>\n      <td>72206.000000</td>\n      <td>34.732894</td>\n      <td>-92.346238</td>\n    </tr>\n    <tr>\n      <th>75%</th>\n      <td>81.000000</td>\n      <td>72209.000000</td>\n      <td>34.752135</td>\n      <td>-92.314721</td>\n    </tr>\n    <tr>\n      <th>max</th>\n      <td>93.000000</td>\n      <td>72227.000000</td>\n      <td>34.881691</td>\n      <td>0.000000</td>\n    </tr>\n  </tbody>\n</table>\n</div>"
     },
     "execution_count": 26,
     "metadata": {},
     "output_type": "execute_result"
    }
   ],
   "source": [
    "# Handle outliers.\n",
    "# Reference: https://hersanyagci.medium.com/detecting-and-handling-outliers-with-pandas-7adbfcd5cad8\n",
    "lrpd.describe()"
   ],
   "metadata": {
    "collapsed": false
   }
  },
  {
   "cell_type": "code",
   "execution_count": 27,
   "outputs": [],
   "source": [
    "Q1 = lrpd.quantile(0.25)\n",
    "Q3 = lrpd.quantile(0.75)\n",
    "IQR = Q3 - Q1"
   ],
   "metadata": {
    "collapsed": false
   }
  },
  {
   "cell_type": "code",
   "execution_count": 28,
   "outputs": [],
   "source": [
    "lower_limit = Q1 - 1.5 * IQR\n",
    "upper_limit = Q3 + 1.5 * IQR"
   ],
   "metadata": {
    "collapsed": false
   }
  },
  {
   "cell_type": "code",
   "execution_count": 29,
   "outputs": [
    {
     "name": "stderr",
     "output_type": "stream",
     "text": [
      "/var/folders/r1/zrg7xs0x39s4hqpfl_8588d40000gn/T/ipykernel_57588/2720126428.py:2: FutureWarning: Automatic reindexing on DataFrame vs Series comparisons is deprecated and will raise ValueError in a future version. Do `left, right = left.align(right, axis=1, copy=False)` before e.g. `left == right`\n",
      "  outliers_15_low = (lrpd < lower_limit)\n",
      "/var/folders/r1/zrg7xs0x39s4hqpfl_8588d40000gn/T/ipykernel_57588/2720126428.py:3: FutureWarning: Automatic reindexing on DataFrame vs Series comparisons is deprecated and will raise ValueError in a future version. Do `left, right = left.align(right, axis=1, copy=False)` before e.g. `left == right`\n",
      "  outliers_15_up = (lrpd > upper_limit)\n"
     ]
    }
   ],
   "source": [
    "# Drop the outliers.\n",
    "outliers_15_low = (lrpd < lower_limit)\n",
    "outliers_15_up = (lrpd > upper_limit)"
   ],
   "metadata": {
    "collapsed": false
   }
  },
  {
   "cell_type": "code",
   "execution_count": 30,
   "outputs": [],
   "source": [
    "# Save the cleaned dataset.\n",
    "lrpd.to_csv(\"../data/lrpd-clean.csv\")"
   ],
   "metadata": {
    "collapsed": false
   }
  }
 ],
 "metadata": {
  "kernelspec": {
   "display_name": "Python 3",
   "language": "python",
   "name": "python3"
  },
  "language_info": {
   "codemirror_mode": {
    "name": "ipython",
    "version": 2
   },
   "file_extension": ".py",
   "mimetype": "text/x-python",
   "name": "python",
   "nbconvert_exporter": "python",
   "pygments_lexer": "ipython2",
   "version": "2.7.6"
  }
 },
 "nbformat": 4,
 "nbformat_minor": 0
}
