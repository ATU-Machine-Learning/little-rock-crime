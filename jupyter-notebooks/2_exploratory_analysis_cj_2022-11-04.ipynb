{
 "cells": [
  {
   "cell_type": "code",
   "execution_count": null,
   "metadata": {
    "collapsed": true
   },
   "outputs": [],
   "source": [
    "import pandas as pd\n",
    "import numpy as np\n",
    "import matplotlib.pyplot as plt\n",
    "import seaborn as sns\n",
    "import folium\n",
    "from folium.plugins import HeatMap\n",
    "from folium.plugins import HeatMapWithTime\n",
    "\n",
    "%matplotlib inline"
   ]
  },
  {
   "cell_type": "code",
   "execution_count": null,
   "outputs": [],
   "source": [
    "lrpd = pd.read_csv(\"../data/lrpd-clean.csv\")"
   ],
   "metadata": {
    "collapsed": false
   }
  },
  {
   "cell_type": "code",
   "execution_count": null,
   "outputs": [],
   "source": [
    "lrpd.head().T"
   ],
   "metadata": {
    "collapsed": false
   }
  },
  {
   "cell_type": "code",
   "execution_count": null,
   "outputs": [],
   "source": [
    "lrpd.tail().T"
   ],
   "metadata": {
    "collapsed": false
   }
  },
  {
   "cell_type": "markdown",
   "source": [
    "### Question: What Year had the most amount of crime, and how many crimes occurred that year?"
   ],
   "metadata": {
    "collapsed": false
   }
  },
  {
   "cell_type": "code",
   "execution_count": null,
   "outputs": [],
   "source": [
    "yearly_crimes = pd.DataFrame({'Year': [], 'Crimes': []})"
   ],
   "metadata": {
    "collapsed": false
   }
  },
  {
   "cell_type": "code",
   "execution_count": null,
   "outputs": [],
   "source": [
    "lrpd[\"INCIDENT_DATE\"] = pd.to_datetime(lrpd[\"INCIDENT_DATE\"])"
   ],
   "metadata": {
    "collapsed": false
   }
  },
  {
   "cell_type": "code",
   "execution_count": null,
   "outputs": [],
   "source": [
    "for year in lrpd[\"INCIDENT_DATE\"].dt.year.unique():\n",
    "    yearly_data = lrpd.loc[lrpd[\"INCIDENT_DATE\"].dt.year == year]\n",
    "    yearly_crime = yearly_data[\"OFFENSE_DESCRIPTION\"].value_counts().sum()\n",
    "\n",
    "    yearly_crimes.loc[len(yearly_crimes.index)] = [year, yearly_crime]"
   ],
   "metadata": {
    "collapsed": false
   }
  },
  {
   "cell_type": "code",
   "execution_count": null,
   "outputs": [],
   "source": [
    "yearly_crimes = yearly_crimes.set_index(\"Year\").sort_index()\n",
    "yearly_crimes"
   ],
   "metadata": {
    "collapsed": false
   }
  },
  {
   "cell_type": "code",
   "execution_count": null,
   "outputs": [],
   "source": [
    "sns.barplot(data=yearly_crimes, x=yearly_crimes.index, y=yearly_crimes[\"Crimes\"])\n",
    "plt.title(\"Amount of Crimes-per-Year in Little Rock, AR.\")\n",
    "plt.xlabel(\"Year\")\n",
    "plt.ylabel(\"Crimes\")\n",
    "plt.show()\n",
    "plt.show()"
   ],
   "metadata": {
    "collapsed": false
   }
  },
  {
   "cell_type": "markdown",
   "source": [
    "### Answer: 2017, ~16,000"
   ],
   "metadata": {
    "collapsed": false
   }
  },
  {
   "cell_type": "markdown",
   "source": [
    "### Question: What were the most common Violent Crimes? Non-Violent?"
   ],
   "metadata": {
    "collapsed": false
   }
  },
  {
   "cell_type": "code",
   "execution_count": null,
   "outputs": [],
   "source": [
    "violent_crime_occurrence = pd.DataFrame({ \"Crime\": [], \"Occurrence\": [] })\n",
    "nonviolent_crime_occurrence = pd.DataFrame({ \"Crime\": [], \"Occurrence\": [] })\n",
    "\n",
    "violent_offenses = lrpd.loc[lrpd[\"CRIME_TYPE\"] == \"Violent Crime\"]\n",
    "for offense in violent_offenses[\"OFFENSE_DESCRIPTION\"].unique():\n",
    "    occurrence = violent_offenses.loc[violent_offenses[\"OFFENSE_DESCRIPTION\"] == offense].value_counts().sum()\n",
    "\n",
    "    violent_crime_occurrence.loc[len(violent_crime_occurrence.index)] = [offense, occurrence]\n",
    "\n",
    "nonviolent_offenses = lrpd.loc[lrpd[\"CRIME_TYPE\"] == \"Non-Violent Crime\"]\n",
    "for offense in nonviolent_offenses[\"OFFENSE_DESCRIPTION\"].unique():\n",
    "    occurrence = nonviolent_offenses.loc[nonviolent_offenses[\"OFFENSE_DESCRIPTION\"] == offense].value_counts().sum()\n",
    "\n",
    "    nonviolent_crime_occurrence.loc[len(nonviolent_crime_occurrence.index)] = [offense, occurrence]"
   ],
   "metadata": {
    "collapsed": false
   }
  },
  {
   "cell_type": "code",
   "execution_count": null,
   "outputs": [],
   "source": [
    "ax = sns.barplot(data=violent_crime_occurrence, x=[\"Rape\", \"Larceny\", \"Robbery\", \"Burglary\", \"Agg. Assault\", \"Murder & Manslaughter\"], y=violent_crime_occurrence[\"Occurrence\"])\n",
    "ax.set_xticklabels(ax.get_xticklabels(), rotation=45)\n",
    "plt.title(\"Offense to Offense Occurrence for Violent Crimes in Little Rock, AR.\")\n",
    "plt.xlabel(\"Offense\")\n",
    "plt.ylabel(\"Offense Occurrence\")\n",
    "plt.show()"
   ],
   "metadata": {
    "collapsed": false
   }
  },
  {
   "cell_type": "code",
   "execution_count": null,
   "outputs": [],
   "source": [
    "ax = sns.barplot(data=nonviolent_crime_occurrence, x=[\"Theft from MV\", \"Theft of MV Parts\", \"Shoplifting\", \"Theft from Building\", \"MV Theft\", \"Purse-Snatching\", \"Pocket-Picking\", \"Theft from Coin-Op. Machine\"], y=nonviolent_crime_occurrence[\"Occurrence\"])\n",
    "ax.set_xticklabels(ax.get_xticklabels(), rotation=45)\n",
    "plt.title(\"Offense to Offense Occurrence for Non-Violent Crimes in Little Rock, AR.\")\n",
    "plt.xlabel(\"Offense\")\n",
    "plt.ylabel(\"Offense Occurrence\")\n",
    "plt.show()"
   ],
   "metadata": {
    "collapsed": false
   }
  },
  {
   "cell_type": "markdown",
   "source": [
    "### Answer: Violent - Larceny, Non-Violent - Theft from MV"
   ],
   "metadata": {
    "collapsed": false
   }
  },
  {
   "cell_type": "markdown",
   "source": [
    "### Question: What Zip had the most crimes?"
   ],
   "metadata": {
    "collapsed": false
   }
  },
  {
   "cell_type": "code",
   "execution_count": null,
   "outputs": [],
   "source": [
    "zips = lrpd[\"ZIP\"].unique()\n",
    "zips"
   ],
   "metadata": {
    "collapsed": false
   }
  },
  {
   "cell_type": "code",
   "execution_count": null,
   "outputs": [],
   "source": [
    "zip_offense_counts = pd.DataFrame({ \"Zip\": [], \"Offense Count\": []})\n",
    "\n",
    "for zip in zips:\n",
    "    data = lrpd.loc[lrpd[\"ZIP\"] == zip]\n",
    "    crimes = data[\"OFFENSE_DESCRIPTION\"].value_counts().sum()\n",
    "\n",
    "    zip_offense_counts.loc[len(zip_offense_counts.index)] = [zip, crimes]\n",
    "\n",
    "zip_offense_counts.set_index(\"Zip\").sort_values(by=\"Offense Count\")"
   ],
   "metadata": {
    "collapsed": false
   }
  },
  {
   "cell_type": "code",
   "execution_count": null,
   "outputs": [],
   "source": [
    "ax = sns.barplot(data=zip_offense_counts, x=zip_offense_counts[\"Zip\"], y=zip_offense_counts[\"Offense Count\"])\n",
    "ax.set_xticklabels(ax.get_xticklabels(), rotation=90)\n",
    "\n",
    "plt.title(\"Offense Counts of Zipcodes in Little Rock, AR.\")\n",
    "plt.xlabel(\"Zip\")\n",
    "plt.ylabel(\"Offense Count\")\n",
    "plt.show()"
   ],
   "metadata": {
    "collapsed": false
   }
  },
  {
   "cell_type": "markdown",
   "source": [
    "### Answer: Zip 72209 had 16k+ crimes."
   ],
   "metadata": {
    "collapsed": false
   }
  },
  {
   "cell_type": "markdown",
   "source": [
    "### Question: What weapons were used the most in Violent Crimes?"
   ],
   "metadata": {
    "collapsed": false
   }
  },
  {
   "cell_type": "markdown",
   "source": [
    "### Seasonality of crimes (According to day of the year), from 2017 to 2021"
   ],
   "metadata": {
    "collapsed": false
   }
  },
  {
   "cell_type": "code",
   "execution_count": null,
   "outputs": [],
   "source": [
    "years = lrpd[\"YEAR\"].unique()\n",
    "\n",
    "for year in years:\n",
    "    crimesInYear = lrpd.loc[lrpd[\"YEAR\"] == year]\n",
    "    crimesPerDayInYear = crimesInYear.groupby([\"MONTH\", \"DAY\"]).count()[\"INCIDENT_NUMBER\"]\n",
    "\n",
    "    fig, ax = plt.subplots(figsize=(10, 10))\n",
    "    lineplt = crimesPerDayInYear.plot(kind='line', ax=ax, xlabel=\"Month, Day Range\", ylabel=\"Amount of Crimes per Day\")\n",
    "    plt.title(year)"
   ],
   "metadata": {
    "collapsed": false
   }
  },
  {
   "cell_type": "markdown",
   "source": [
    "### Interactive Map of crimes from 2017 to 2022"
   ],
   "metadata": {
    "collapsed": false
   }
  },
  {
   "cell_type": "code",
   "execution_count": null,
   "outputs": [],
   "source": [
    "#Create heatmap of crimes in Little Rock\n",
    "from collections import defaultdict, OrderedDict\n",
    "\n",
    "data = defaultdict(list)\n",
    "\n",
    "lrpd_lat_long = lrpd.dropna(subset=[\"LATITUDE\", \"LONGITUDE\"])\n",
    "\n",
    "for r in lrpd_lat_long.itertuples():\n",
    "    data[r.YEAR].append([r.LATITUDE, r.LONGITUDE])\n",
    "\n",
    "data = OrderedDict(sorted(data.items(), key=lambda t: t[0]))\n",
    "\n",
    "# Available map tile types in Folium:\n",
    "    # “OpenStreetMap”\n",
    "    # “Mapbox Bright” (Limited levels of zoom for free tiles)\n",
    "    # “Mapbox Control Room” (Limited levels of zoom for free tiles)\n",
    "    # “Stamen” (Terrain, Toner, and Watercolor)\n",
    "    # “Cloudmade” (Must pass API key)\n",
    "    # “Mapbox” (Must pass API key)\n",
    "    # “CartoDB” (positron and dark_matter)\n",
    "\n",
    "m = folium.Map(location=[34.7466, -92.2896], zoom_start=12, tiles=\"OpenStreetMap\")\n",
    "m.add_child(folium.LatLngPopup())\n",
    "\n",
    "hm = HeatMapWithTime(data=list(data.values()),\n",
    "                     index=list(data.keys()),\n",
    "                     radius=10,\n",
    "                     auto_play=True,\n",
    "                     max_opacity=0.3)\n",
    "hm.add_to(m)\n",
    "m.save(\"../visualizations/folium-map.html\")\n",
    "\n",
    "m"
   ],
   "metadata": {
    "collapsed": false
   }
  }
 ],
 "metadata": {
  "kernelspec": {
   "display_name": "Python 3",
   "language": "python",
   "name": "python3"
  },
  "language_info": {
   "codemirror_mode": {
    "name": "ipython",
    "version": 2
   },
   "file_extension": ".py",
   "mimetype": "text/x-python",
   "name": "python",
   "nbconvert_exporter": "python",
   "pygments_lexer": "ipython2",
   "version": "2.7.6"
  }
 },
 "nbformat": 4,
 "nbformat_minor": 0
}
