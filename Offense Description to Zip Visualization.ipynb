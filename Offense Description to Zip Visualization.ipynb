{
 "cells": [
  {
   "cell_type": "code",
   "execution_count": 2,
   "id": "540ddcc1-ab61-41fa-8eef-856471a6a332",
   "metadata": {
    "pycharm": {
     "name": "#%%\n"
    }
   },
   "outputs": [],
   "source": [
    "import pandas as pd\n",
    "import matplotlib.pyplot as plt"
   ]
  },
  {
   "cell_type": "code",
   "execution_count": 3,
   "id": "4eab857d-7c22-4aa8-b02c-0dc11e046d2d",
   "metadata": {
    "pycharm": {
     "name": "#%%\n"
    }
   },
   "outputs": [
    {
     "data": {
      "text/plain": "     INCIDENT_DATE INCIDENT_NUMBER  LOCATION_DISTRICT OFFENSE_CODE  \\\n4   4/24/2018 5:45     2018-048178               81.0          23F   \n5  5/31/2019 20:39     2019-066770               93.0          13A   \n6   6/3/2021 23:02     2021-062879               83.0          13A   \n7  9/22/2021 14:20     2021-116262               91.0          23F   \n8    3/4/2020 5:00     2020-025467               81.0          23F   \n\n        OFFENSE_DESCRIPTION    WEAPON_TYPE       INCIDENT_LOCATION  \\\n4  THEFT FROM MOTOR VEHICLE            NaN  7900 SCOTT HAMILTON DR   \n5        AGGRAVATED ASSAULT  MOTOR VEHICLE           9 NANDINA CIR   \n6        AGGRAVATED ASSAULT          RIFLE       4109  BASELINE RD   \n7  THEFT FROM MOTOR VEHICLE            NaN  101 WHISPERING OAK TRL   \n8  THEFT FROM MOTOR VEHICLE            NaN   8011 GEYER SPRINGS RD   \n\n          CITY STATE      ZIP   LATITUDE  LONGITUDE               Location 1  \\\n4  LITTLE ROCK    AR  72209.0  34.677330 -92.319543   (34.67733, -92.319543)   \n5  LITTLE ROCK    AR  72210.0  34.653973 -92.430950   (34.653973, -92.43095)   \n6  LITTLE ROCK    AR  72209.0  34.667707 -92.323789  (34.667707, -92.323789)   \n7  LITTLE ROCK    AR  72103.0  34.633623 -92.369377  (34.633623, -92.369377)   \n8  LITTLE ROCK    AR  72209.0  34.676919 -92.343354  (34.676919, -92.343354)   \n\n  Incident Status  \n4              AD  \n5              OP  \n6              AC  \n7              AD  \n8              AD  ",
      "text/html": "<div>\n<style scoped>\n    .dataframe tbody tr th:only-of-type {\n        vertical-align: middle;\n    }\n\n    .dataframe tbody tr th {\n        vertical-align: top;\n    }\n\n    .dataframe thead th {\n        text-align: right;\n    }\n</style>\n<table border=\"1\" class=\"dataframe\">\n  <thead>\n    <tr style=\"text-align: right;\">\n      <th></th>\n      <th>INCIDENT_DATE</th>\n      <th>INCIDENT_NUMBER</th>\n      <th>LOCATION_DISTRICT</th>\n      <th>OFFENSE_CODE</th>\n      <th>OFFENSE_DESCRIPTION</th>\n      <th>WEAPON_TYPE</th>\n      <th>INCIDENT_LOCATION</th>\n      <th>CITY</th>\n      <th>STATE</th>\n      <th>ZIP</th>\n      <th>LATITUDE</th>\n      <th>LONGITUDE</th>\n      <th>Location 1</th>\n      <th>Incident Status</th>\n    </tr>\n  </thead>\n  <tbody>\n    <tr>\n      <th>4</th>\n      <td>4/24/2018 5:45</td>\n      <td>2018-048178</td>\n      <td>81.0</td>\n      <td>23F</td>\n      <td>THEFT FROM MOTOR VEHICLE</td>\n      <td>NaN</td>\n      <td>7900 SCOTT HAMILTON DR</td>\n      <td>LITTLE ROCK</td>\n      <td>AR</td>\n      <td>72209.0</td>\n      <td>34.677330</td>\n      <td>-92.319543</td>\n      <td>(34.67733, -92.319543)</td>\n      <td>AD</td>\n    </tr>\n    <tr>\n      <th>5</th>\n      <td>5/31/2019 20:39</td>\n      <td>2019-066770</td>\n      <td>93.0</td>\n      <td>13A</td>\n      <td>AGGRAVATED ASSAULT</td>\n      <td>MOTOR VEHICLE</td>\n      <td>9 NANDINA CIR</td>\n      <td>LITTLE ROCK</td>\n      <td>AR</td>\n      <td>72210.0</td>\n      <td>34.653973</td>\n      <td>-92.430950</td>\n      <td>(34.653973, -92.43095)</td>\n      <td>OP</td>\n    </tr>\n    <tr>\n      <th>6</th>\n      <td>6/3/2021 23:02</td>\n      <td>2021-062879</td>\n      <td>83.0</td>\n      <td>13A</td>\n      <td>AGGRAVATED ASSAULT</td>\n      <td>RIFLE</td>\n      <td>4109  BASELINE RD</td>\n      <td>LITTLE ROCK</td>\n      <td>AR</td>\n      <td>72209.0</td>\n      <td>34.667707</td>\n      <td>-92.323789</td>\n      <td>(34.667707, -92.323789)</td>\n      <td>AC</td>\n    </tr>\n    <tr>\n      <th>7</th>\n      <td>9/22/2021 14:20</td>\n      <td>2021-116262</td>\n      <td>91.0</td>\n      <td>23F</td>\n      <td>THEFT FROM MOTOR VEHICLE</td>\n      <td>NaN</td>\n      <td>101 WHISPERING OAK TRL</td>\n      <td>LITTLE ROCK</td>\n      <td>AR</td>\n      <td>72103.0</td>\n      <td>34.633623</td>\n      <td>-92.369377</td>\n      <td>(34.633623, -92.369377)</td>\n      <td>AD</td>\n    </tr>\n    <tr>\n      <th>8</th>\n      <td>3/4/2020 5:00</td>\n      <td>2020-025467</td>\n      <td>81.0</td>\n      <td>23F</td>\n      <td>THEFT FROM MOTOR VEHICLE</td>\n      <td>NaN</td>\n      <td>8011 GEYER SPRINGS RD</td>\n      <td>LITTLE ROCK</td>\n      <td>AR</td>\n      <td>72209.0</td>\n      <td>34.676919</td>\n      <td>-92.343354</td>\n      <td>(34.676919, -92.343354)</td>\n      <td>AD</td>\n    </tr>\n  </tbody>\n</table>\n</div>"
     },
     "execution_count": 3,
     "metadata": {},
     "output_type": "execute_result"
    }
   ],
   "source": [
    "# Load the dataset and set the index to the ZIP column, as relevant to this Notebook's goal.\n",
    "crimes = pd.read_csv(\"./Data/Little_Rock_Police_Department_Statistics_2017_to_Year_to_Date.csv\")\n",
    "crimes.set_index('ZIP')\n",
    "crimes = crimes.loc[crimes.ZIP.notnull()]\n",
    "\n",
    "crimes.head()"
   ]
  },
  {
   "cell_type": "code",
   "execution_count": 4,
   "outputs": [
    {
     "data": {
      "text/plain": "array(['THEFT FROM MOTOR VEHICLE', 'AGGRAVATED ASSAULT',\n       'MOTOR VEHICLE THEFT', 'THEFT OF MOTOR VEHICLE PARTS',\n       'ALL OTHER LARCENY', 'SHOPLIFTING', 'ROBBERY',\n       'THEFT FROM BUILDING', 'BURGLARY/B&E',\n       'MURDER & NONNEGLIGENT MANSLAUGHTER', 'POCKET-PICKING',\n       'THEFT FROM COIN-OPERATED MACHINE', 'PURSE-SNATCHING'],\n      dtype=object)"
     },
     "execution_count": 4,
     "metadata": {},
     "output_type": "execute_result"
    }
   ],
   "source": [
    "#Display all unique OFFENSE_DESCRIPTION values\n",
    "crimes.OFFENSE_DESCRIPTION.unique()"
   ],
   "metadata": {
    "collapsed": false,
    "pycharm": {
     "name": "#%%\n"
    }
   }
  },
  {
   "cell_type": "code",
   "execution_count": 5,
   "id": "81020561-b47e-4c21-9a28-827cc289ffdf",
   "metadata": {
    "pycharm": {
     "name": "#%%\n"
    }
   },
   "outputs": [],
   "source": [
    "offense_zip = { }\n",
    "\n",
    "for zipcode in crimes.ZIP.unique():\n",
    "    offenses = dict(crimes.loc[crimes.ZIP == zipcode].OFFENSE_DESCRIPTION.value_counts())\n",
    "    offense_zip[zipcode] = offenses"
   ]
  },
  {
   "cell_type": "code",
   "execution_count": 6,
   "id": "bb02491b-10a3-474d-9388-fc9a0237723b",
   "metadata": {
    "pycharm": {
     "name": "#%%\n"
    }
   },
   "outputs": [
    {
     "ename": "NameError",
     "evalue": "name 'zipcodes' is not defined",
     "output_type": "error",
     "traceback": [
      "\u001B[1;31m---------------------------------------------------------------------------\u001B[0m",
      "\u001B[1;31mNameError\u001B[0m                                 Traceback (most recent call last)",
      "Input \u001B[1;32mIn [6]\u001B[0m, in \u001B[0;36m<cell line: 5>\u001B[1;34m()\u001B[0m\n\u001B[0;32m      1\u001B[0m \u001B[38;5;66;03m# https://theprogrammingexpert.com/slice-dictionary-python/#:~:text=With%20Python%2C%20we%20can%20easily%20slice%20a%20dictionary,%7Bkey%3A%20dictionary%5Bkey%5D%20for%20key%20in%20keys_for_slicing%20%7D%20print%28sliced_dict%29\u001B[39;00m\n\u001B[0;32m      3\u001B[0m \u001B[38;5;28;01mimport\u001B[39;00m \u001B[38;5;21;01mitertools\u001B[39;00m\n\u001B[1;32m----> 5\u001B[0m top_ten \u001B[38;5;241m=\u001B[39m \u001B[38;5;28mdict\u001B[39m(itertools\u001B[38;5;241m.\u001B[39mislice(\u001B[43mzipcodes\u001B[49m\u001B[38;5;241m.\u001B[39mitems(), \u001B[38;5;241m10\u001B[39m))\n",
      "\u001B[1;31mNameError\u001B[0m: name 'zipcodes' is not defined"
     ]
    }
   ],
   "source": [
    "# https://theprogrammingexpert.com/slice-dictionary-python/#:~:text=With%20Python%2C%20we%20can%20easily%20slice%20a%20dictionary,%7Bkey%3A%20dictionary%5Bkey%5D%20for%20key%20in%20keys_for_slicing%20%7D%20print%28sliced_dict%29\n",
    "\n",
    "import itertools\n",
    "\n",
    "top_ten = dict(itertools.islice(zipcodes.items(), 10))"
   ]
  },
  {
   "cell_type": "code",
   "execution_count": null,
   "id": "c16572ce-423b-4447-a9d2-95d75cc2997e",
   "metadata": {
    "pycharm": {
     "name": "#%%\n"
    }
   },
   "outputs": [],
   "source": [
    "for zipcode in top_ten.keys():\n",
    "    plt.title(f\"Offenses in Area {int(zipcode)}\")\n",
    "    plt.bar(offense_zip[zipcode].keys(), offense_zip[zipcode].values())\n",
    "    plt.xticks(rotation=90)\n",
    "    plt.xlabel(\"Offense\")\n",
    "    plt.ylabel(\"Amount of Offenses\")\n",
    "    plt.show()"
   ]
  },
  {
   "cell_type": "code",
   "execution_count": null,
   "id": "21d193a4-3166-45be-b11f-b887a45df3cb",
   "metadata": {
    "pycharm": {
     "name": "#%%\n"
    }
   },
   "outputs": [],
   "source": []
  }
 ],
 "metadata": {
  "kernelspec": {
   "display_name": "Python 3 (ipykernel)",
   "language": "python",
   "name": "python3"
  },
  "language_info": {
   "codemirror_mode": {
    "name": "ipython",
    "version": 3
   },
   "file_extension": ".py",
   "mimetype": "text/x-python",
   "name": "python",
   "nbconvert_exporter": "python",
   "pygments_lexer": "ipython3",
   "version": "3.9.13"
  }
 },
 "nbformat": 4,
 "nbformat_minor": 5
}